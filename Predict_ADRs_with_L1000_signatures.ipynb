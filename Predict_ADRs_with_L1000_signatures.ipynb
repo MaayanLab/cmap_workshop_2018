{
 "cells": [
  {
   "cell_type": "markdown",
   "metadata": {},
   "source": [
    "# Predict Adverse Drug Reactions with the LINCS L1000 data\n",
    "\n",
    "---\n",
    "\n",
    "\n",
    "## _Zichen Wang, Avi Ma'ayan_\n",
    "\n",
    "<img src=\"http://lincs-dcic.org/images/dcic-logo/DCIC_500x375_cropped.png\" style=\"float: right; width: 100px;\"/>\n",
    "\n",
    "#### BD2K-LINCS Data Coordination and Integration Center\n",
    "\n",
    "#### CMap Workshop - Dec. 4th, 2018 \n",
    "\n",
    "---\n",
    "\n",
    "## Table of content \n",
    "\n",
    "- [TBA]()\n",
    "- ..."
   ]
  },
  {
   "cell_type": "code",
   "execution_count": 1,
   "metadata": {},
   "outputs": [],
   "source": [
    "%load_ext autoreload\n",
    "%autoreload 2"
   ]
  },
  {
   "cell_type": "code",
   "execution_count": 2,
   "metadata": {},
   "outputs": [],
   "source": [
    "from __future__ import print_function, division\n",
    "import os, sys\n",
    "import h5py\n",
    "import numpy as np\n",
    "import pandas as pd\n",
    "from sklearn import decomposition, manifold\n",
    "\n",
    "import matplotlib.pyplot as plt\n",
    "%matplotlib inline\n",
    "import seaborn as sns\n",
    "sns.set(context='talk', style='white')"
   ]
  },
  {
   "cell_type": "code",
   "execution_count": 3,
   "metadata": {},
   "outputs": [
    {
     "data": {
      "text/html": [
       "<script type=\"text/javascript\">window.PlotlyConfig = {MathJaxConfig: 'local'};</script><script type=\"text/javascript\">if (window.MathJax) {MathJax.Hub.Config({SVG: {font: \"STIX-Web\"}});}</script><script>requirejs.config({paths: { 'plotly': ['https://cdn.plot.ly/plotly-latest.min']},});if(!window._Plotly) {require(['plotly'],function(plotly) {window._Plotly=plotly;});}</script>"
      ],
      "text/vnd.plotly.v1+html": [
       "<script type=\"text/javascript\">window.PlotlyConfig = {MathJaxConfig: 'local'};</script><script type=\"text/javascript\">if (window.MathJax) {MathJax.Hub.Config({SVG: {font: \"STIX-Web\"}});}</script><script>requirejs.config({paths: { 'plotly': ['https://cdn.plot.ly/plotly-latest.min']},});if(!window._Plotly) {require(['plotly'],function(plotly) {window._Plotly=plotly;});}</script>"
      ]
     },
     "metadata": {},
     "output_type": "display_data"
    }
   ],
   "source": [
    "import plots\n",
    "import gctx_utils"
   ]
  },
  {
   "cell_type": "markdown",
   "metadata": {},
   "source": [
    "# 1. Prepare datasets for machine learning \n",
    "\n",
    "## 1.1. Prepare level 5 signatures for drugs/compounds\n",
    "\n",
    "- load metadata for genes and signatures"
   ]
  },
  {
   "cell_type": "code",
   "execution_count": 4,
   "metadata": {},
   "outputs": [],
   "source": [
    "gctx5 = h5py.File('data/GSE92742_Broad_LINCS_Level5_COMPZ.MODZ_n473647x12328.gctx', 'r')"
   ]
  },
  {
   "cell_type": "code",
   "execution_count": 5,
   "metadata": {},
   "outputs": [
    {
     "name": "stdout",
     "output_type": "stream",
     "text": [
      "(12328, 4)\n",
      "Number of landmark genes 978\n"
     ]
    }
   ],
   "source": [
    "gene_info_df = pd.read_csv('data/GSE92742_Broad_LINCS_gene_info.txt.gz', \n",
    "                           compression='gzip',\n",
    "                          sep='\\t')\n",
    "gene_info_df.set_index(gene_info_df.columns[0], inplace=True)\n",
    "gene_info_df.index = gene_info_df.index.astype(str)\n",
    "print(gene_info_df.shape)\n",
    "# Get the Landmark 1000 genes\n",
    "LM_GENE_IDS = gene_info_df.query('pr_is_lm == 1').index\n",
    "LM_GENE_IDS = LM_GENE_IDS.values.astype(np.str) # convert to np.array with np.str as dtype\n",
    "print('Number of landmark genes', len(LM_GENE_IDS))"
   ]
  },
  {
   "cell_type": "code",
   "execution_count": 6,
   "metadata": {},
   "outputs": [
    {
     "name": "stderr",
     "output_type": "stream",
     "text": [
      "/opt/conda/lib/python3.6/site-packages/IPython/core/interactiveshell.py:3020: DtypeWarning:\n",
      "\n",
      "Columns (5) have mixed types. Specify dtype option on import or set low_memory=False.\n",
      "\n"
     ]
    },
    {
     "name": "stdout",
     "output_type": "stream",
     "text": [
      "(473647, 11)\n",
      "(23123, 11)\n"
     ]
    }
   ],
   "source": [
    "sig_info_df = pd.read_csv('data/GSE92742_Broad_LINCS_sig_info.txt.gz', \n",
    "                          compression='gzip',\n",
    "                          sep='\\t')\n",
    "sig_info_df = sig_info_df.set_index('sig_id')\n",
    "print(sig_info_df.shape)\n",
    "\n",
    "# Get compound treatment signatures in PC3 cell line\n",
    "sig_info_df = sig_info_df.query('cell_id == \"PC3\" & pert_type == \"trt_cp\"')\n",
    "print(sig_info_df.shape)"
   ]
  },
  {
   "cell_type": "code",
   "execution_count": 7,
   "metadata": {},
   "outputs": [
    {
     "data": {
      "text/plain": [
       "pert_id           11150\n",
       "pert_iname        10661\n",
       "pert_type             1\n",
       "cell_id               1\n",
       "pert_dose          1392\n",
       "pert_dose_unit        1\n",
       "pert_idose           27\n",
       "pert_time             2\n",
       "pert_time_unit        1\n",
       "pert_itime            2\n",
       "distil_id         23123\n",
       "dtype: int64"
      ]
     },
     "execution_count": 7,
     "metadata": {},
     "output_type": "execute_result"
    }
   ],
   "source": [
    "sig_info_df.nunique()"
   ]
  },
  {
   "cell_type": "markdown",
   "metadata": {},
   "source": [
    "## 1.2. Load chemical fingerprints for drugs/compounds"
   ]
  },
  {
   "cell_type": "code",
   "execution_count": 8,
   "metadata": {},
   "outputs": [
    {
     "data": {
      "text/plain": [
       "(41774, 166)"
      ]
     },
     "execution_count": 8,
     "metadata": {},
     "output_type": "execute_result"
    }
   ],
   "source": [
    "drugs_fp_df = pd.read_csv('data/MACCS_bitmatrix.csv.gz', \n",
    "                         compression='gzip',\n",
    "                         ).set_index('pert_id')\n",
    "drugs_fp_df.shape"
   ]
  },
  {
   "cell_type": "code",
   "execution_count": 9,
   "metadata": {},
   "outputs": [
    {
     "data": {
      "text/html": [
       "<div>\n",
       "<style scoped>\n",
       "    .dataframe tbody tr th:only-of-type {\n",
       "        vertical-align: middle;\n",
       "    }\n",
       "\n",
       "    .dataframe tbody tr th {\n",
       "        vertical-align: top;\n",
       "    }\n",
       "\n",
       "    .dataframe thead th {\n",
       "        text-align: right;\n",
       "    }\n",
       "</style>\n",
       "<table border=\"1\" class=\"dataframe\">\n",
       "  <thead>\n",
       "    <tr style=\"text-align: right;\">\n",
       "      <th></th>\n",
       "      <th>MACCS_1</th>\n",
       "      <th>MACCS_2</th>\n",
       "      <th>MACCS_3</th>\n",
       "      <th>MACCS_4</th>\n",
       "      <th>MACCS_5</th>\n",
       "      <th>MACCS_6</th>\n",
       "      <th>MACCS_7</th>\n",
       "      <th>MACCS_8</th>\n",
       "      <th>MACCS_9</th>\n",
       "      <th>MACCS_10</th>\n",
       "      <th>...</th>\n",
       "      <th>MACCS_157</th>\n",
       "      <th>MACCS_158</th>\n",
       "      <th>MACCS_159</th>\n",
       "      <th>MACCS_160</th>\n",
       "      <th>MACCS_161</th>\n",
       "      <th>MACCS_162</th>\n",
       "      <th>MACCS_163</th>\n",
       "      <th>MACCS_164</th>\n",
       "      <th>MACCS_165</th>\n",
       "      <th>MACCS_166</th>\n",
       "    </tr>\n",
       "    <tr>\n",
       "      <th>pert_id</th>\n",
       "      <th></th>\n",
       "      <th></th>\n",
       "      <th></th>\n",
       "      <th></th>\n",
       "      <th></th>\n",
       "      <th></th>\n",
       "      <th></th>\n",
       "      <th></th>\n",
       "      <th></th>\n",
       "      <th></th>\n",
       "      <th></th>\n",
       "      <th></th>\n",
       "      <th></th>\n",
       "      <th></th>\n",
       "      <th></th>\n",
       "      <th></th>\n",
       "      <th></th>\n",
       "      <th></th>\n",
       "      <th></th>\n",
       "      <th></th>\n",
       "      <th></th>\n",
       "    </tr>\n",
       "  </thead>\n",
       "  <tbody>\n",
       "    <tr>\n",
       "      <th>BRD-A00037023</th>\n",
       "      <td>0</td>\n",
       "      <td>0</td>\n",
       "      <td>0</td>\n",
       "      <td>0</td>\n",
       "      <td>0</td>\n",
       "      <td>0</td>\n",
       "      <td>0</td>\n",
       "      <td>0</td>\n",
       "      <td>0</td>\n",
       "      <td>0</td>\n",
       "      <td>...</td>\n",
       "      <td>1</td>\n",
       "      <td>1</td>\n",
       "      <td>1</td>\n",
       "      <td>1</td>\n",
       "      <td>1</td>\n",
       "      <td>1</td>\n",
       "      <td>1</td>\n",
       "      <td>1</td>\n",
       "      <td>1</td>\n",
       "      <td>1</td>\n",
       "    </tr>\n",
       "    <tr>\n",
       "      <th>BRD-A00051892</th>\n",
       "      <td>0</td>\n",
       "      <td>0</td>\n",
       "      <td>0</td>\n",
       "      <td>0</td>\n",
       "      <td>0</td>\n",
       "      <td>0</td>\n",
       "      <td>0</td>\n",
       "      <td>0</td>\n",
       "      <td>0</td>\n",
       "      <td>0</td>\n",
       "      <td>...</td>\n",
       "      <td>1</td>\n",
       "      <td>1</td>\n",
       "      <td>1</td>\n",
       "      <td>1</td>\n",
       "      <td>0</td>\n",
       "      <td>1</td>\n",
       "      <td>1</td>\n",
       "      <td>0</td>\n",
       "      <td>1</td>\n",
       "      <td>1</td>\n",
       "    </tr>\n",
       "    <tr>\n",
       "      <th>BRD-A00100033</th>\n",
       "      <td>0</td>\n",
       "      <td>0</td>\n",
       "      <td>0</td>\n",
       "      <td>0</td>\n",
       "      <td>0</td>\n",
       "      <td>0</td>\n",
       "      <td>0</td>\n",
       "      <td>0</td>\n",
       "      <td>0</td>\n",
       "      <td>0</td>\n",
       "      <td>...</td>\n",
       "      <td>1</td>\n",
       "      <td>0</td>\n",
       "      <td>1</td>\n",
       "      <td>1</td>\n",
       "      <td>1</td>\n",
       "      <td>1</td>\n",
       "      <td>1</td>\n",
       "      <td>1</td>\n",
       "      <td>1</td>\n",
       "      <td>1</td>\n",
       "    </tr>\n",
       "    <tr>\n",
       "      <th>BRD-A00150179</th>\n",
       "      <td>0</td>\n",
       "      <td>0</td>\n",
       "      <td>0</td>\n",
       "      <td>0</td>\n",
       "      <td>0</td>\n",
       "      <td>0</td>\n",
       "      <td>0</td>\n",
       "      <td>0</td>\n",
       "      <td>0</td>\n",
       "      <td>0</td>\n",
       "      <td>...</td>\n",
       "      <td>1</td>\n",
       "      <td>1</td>\n",
       "      <td>1</td>\n",
       "      <td>1</td>\n",
       "      <td>0</td>\n",
       "      <td>1</td>\n",
       "      <td>1</td>\n",
       "      <td>1</td>\n",
       "      <td>1</td>\n",
       "      <td>1</td>\n",
       "    </tr>\n",
       "    <tr>\n",
       "      <th>BRD-A00214921</th>\n",
       "      <td>0</td>\n",
       "      <td>0</td>\n",
       "      <td>0</td>\n",
       "      <td>0</td>\n",
       "      <td>0</td>\n",
       "      <td>0</td>\n",
       "      <td>0</td>\n",
       "      <td>0</td>\n",
       "      <td>0</td>\n",
       "      <td>0</td>\n",
       "      <td>...</td>\n",
       "      <td>1</td>\n",
       "      <td>1</td>\n",
       "      <td>1</td>\n",
       "      <td>1</td>\n",
       "      <td>1</td>\n",
       "      <td>1</td>\n",
       "      <td>1</td>\n",
       "      <td>1</td>\n",
       "      <td>1</td>\n",
       "      <td>1</td>\n",
       "    </tr>\n",
       "  </tbody>\n",
       "</table>\n",
       "<p>5 rows × 166 columns</p>\n",
       "</div>"
      ],
      "text/plain": [
       "               MACCS_1  MACCS_2  MACCS_3  MACCS_4  MACCS_5  MACCS_6  MACCS_7  \\\n",
       "pert_id                                                                        \n",
       "BRD-A00037023        0        0        0        0        0        0        0   \n",
       "BRD-A00051892        0        0        0        0        0        0        0   \n",
       "BRD-A00100033        0        0        0        0        0        0        0   \n",
       "BRD-A00150179        0        0        0        0        0        0        0   \n",
       "BRD-A00214921        0        0        0        0        0        0        0   \n",
       "\n",
       "               MACCS_8  MACCS_9  MACCS_10    ...      MACCS_157  MACCS_158  \\\n",
       "pert_id                                      ...                             \n",
       "BRD-A00037023        0        0         0    ...              1          1   \n",
       "BRD-A00051892        0        0         0    ...              1          1   \n",
       "BRD-A00100033        0        0         0    ...              1          0   \n",
       "BRD-A00150179        0        0         0    ...              1          1   \n",
       "BRD-A00214921        0        0         0    ...              1          1   \n",
       "\n",
       "               MACCS_159  MACCS_160  MACCS_161  MACCS_162  MACCS_163  \\\n",
       "pert_id                                                                \n",
       "BRD-A00037023          1          1          1          1          1   \n",
       "BRD-A00051892          1          1          0          1          1   \n",
       "BRD-A00100033          1          1          1          1          1   \n",
       "BRD-A00150179          1          1          0          1          1   \n",
       "BRD-A00214921          1          1          1          1          1   \n",
       "\n",
       "               MACCS_164  MACCS_165  MACCS_166  \n",
       "pert_id                                         \n",
       "BRD-A00037023          1          1          1  \n",
       "BRD-A00051892          0          1          1  \n",
       "BRD-A00100033          1          1          1  \n",
       "BRD-A00150179          1          1          1  \n",
       "BRD-A00214921          1          1          1  \n",
       "\n",
       "[5 rows x 166 columns]"
      ]
     },
     "execution_count": 9,
     "metadata": {},
     "output_type": "execute_result"
    }
   ],
   "source": [
    "drugs_fp_df.head()"
   ]
  },
  {
   "cell_type": "markdown",
   "metadata": {},
   "source": [
    "## 1.3. Load drug-ADR connections from SIDER"
   ]
  },
  {
   "cell_type": "code",
   "execution_count": 10,
   "metadata": {},
   "outputs": [
    {
     "data": {
      "text/plain": [
       "(834, 3165)"
      ]
     },
     "execution_count": 10,
     "metadata": {},
     "output_type": "execute_result"
    }
   ],
   "source": [
    "sider_df = pd.read_csv('data/SIDER_PTs.csv.gz', \n",
    "                      compression='gzip'\n",
    "                      ).set_index('pert_id')\n",
    "sider_df.shape"
   ]
  },
  {
   "cell_type": "code",
   "execution_count": 11,
   "metadata": {},
   "outputs": [
    {
     "data": {
      "text/html": [
       "<div>\n",
       "<style scoped>\n",
       "    .dataframe tbody tr th:only-of-type {\n",
       "        vertical-align: middle;\n",
       "    }\n",
       "\n",
       "    .dataframe tbody tr th {\n",
       "        vertical-align: top;\n",
       "    }\n",
       "\n",
       "    .dataframe thead th {\n",
       "        text-align: right;\n",
       "    }\n",
       "</style>\n",
       "<table border=\"1\" class=\"dataframe\">\n",
       "  <thead>\n",
       "    <tr style=\"text-align: right;\">\n",
       "      <th></th>\n",
       "      <th>Vulvovaginal disorder</th>\n",
       "      <th>Cardiac failure</th>\n",
       "      <th>Thalassaemia</th>\n",
       "      <th>Peritoneal haemorrhage</th>\n",
       "      <th>Cardiac murmur</th>\n",
       "      <th>Judgement impaired</th>\n",
       "      <th>Jaundice</th>\n",
       "      <th>Plasmodium falciparum infection</th>\n",
       "      <th>Influenza like illness</th>\n",
       "      <th>Ingrown hair</th>\n",
       "      <th>...</th>\n",
       "      <th>Phobia</th>\n",
       "      <th>Rash maculo-papular</th>\n",
       "      <th>Oesophageal candidiasis</th>\n",
       "      <th>Blepharitis</th>\n",
       "      <th>Muscle contractions involuntary</th>\n",
       "      <th>Echolalia</th>\n",
       "      <th>Dysplasia</th>\n",
       "      <th>Hypermagnesaemia</th>\n",
       "      <th>Ileus</th>\n",
       "      <th>Blood bilirubin increased</th>\n",
       "    </tr>\n",
       "    <tr>\n",
       "      <th>pert_id</th>\n",
       "      <th></th>\n",
       "      <th></th>\n",
       "      <th></th>\n",
       "      <th></th>\n",
       "      <th></th>\n",
       "      <th></th>\n",
       "      <th></th>\n",
       "      <th></th>\n",
       "      <th></th>\n",
       "      <th></th>\n",
       "      <th></th>\n",
       "      <th></th>\n",
       "      <th></th>\n",
       "      <th></th>\n",
       "      <th></th>\n",
       "      <th></th>\n",
       "      <th></th>\n",
       "      <th></th>\n",
       "      <th></th>\n",
       "      <th></th>\n",
       "      <th></th>\n",
       "    </tr>\n",
       "  </thead>\n",
       "  <tbody>\n",
       "    <tr>\n",
       "      <th>BRD-A00546892</th>\n",
       "      <td>0</td>\n",
       "      <td>0</td>\n",
       "      <td>0</td>\n",
       "      <td>0</td>\n",
       "      <td>0</td>\n",
       "      <td>0</td>\n",
       "      <td>0</td>\n",
       "      <td>0</td>\n",
       "      <td>0</td>\n",
       "      <td>0</td>\n",
       "      <td>...</td>\n",
       "      <td>0</td>\n",
       "      <td>0</td>\n",
       "      <td>0</td>\n",
       "      <td>0</td>\n",
       "      <td>0</td>\n",
       "      <td>0</td>\n",
       "      <td>0</td>\n",
       "      <td>0</td>\n",
       "      <td>0</td>\n",
       "      <td>0</td>\n",
       "    </tr>\n",
       "    <tr>\n",
       "      <th>BRD-A00827783</th>\n",
       "      <td>0</td>\n",
       "      <td>0</td>\n",
       "      <td>0</td>\n",
       "      <td>0</td>\n",
       "      <td>0</td>\n",
       "      <td>0</td>\n",
       "      <td>0</td>\n",
       "      <td>0</td>\n",
       "      <td>0</td>\n",
       "      <td>0</td>\n",
       "      <td>...</td>\n",
       "      <td>0</td>\n",
       "      <td>0</td>\n",
       "      <td>0</td>\n",
       "      <td>0</td>\n",
       "      <td>0</td>\n",
       "      <td>0</td>\n",
       "      <td>0</td>\n",
       "      <td>0</td>\n",
       "      <td>0</td>\n",
       "      <td>0</td>\n",
       "    </tr>\n",
       "    <tr>\n",
       "      <th>BRD-A01320529</th>\n",
       "      <td>0</td>\n",
       "      <td>0</td>\n",
       "      <td>0</td>\n",
       "      <td>0</td>\n",
       "      <td>0</td>\n",
       "      <td>0</td>\n",
       "      <td>0</td>\n",
       "      <td>0</td>\n",
       "      <td>0</td>\n",
       "      <td>0</td>\n",
       "      <td>...</td>\n",
       "      <td>0</td>\n",
       "      <td>0</td>\n",
       "      <td>0</td>\n",
       "      <td>0</td>\n",
       "      <td>0</td>\n",
       "      <td>0</td>\n",
       "      <td>0</td>\n",
       "      <td>0</td>\n",
       "      <td>0</td>\n",
       "      <td>0</td>\n",
       "    </tr>\n",
       "    <tr>\n",
       "      <th>BRD-A01636364</th>\n",
       "      <td>0</td>\n",
       "      <td>0</td>\n",
       "      <td>0</td>\n",
       "      <td>0</td>\n",
       "      <td>0</td>\n",
       "      <td>0</td>\n",
       "      <td>0</td>\n",
       "      <td>0</td>\n",
       "      <td>0</td>\n",
       "      <td>0</td>\n",
       "      <td>...</td>\n",
       "      <td>0</td>\n",
       "      <td>0</td>\n",
       "      <td>0</td>\n",
       "      <td>0</td>\n",
       "      <td>0</td>\n",
       "      <td>0</td>\n",
       "      <td>0</td>\n",
       "      <td>0</td>\n",
       "      <td>0</td>\n",
       "      <td>0</td>\n",
       "    </tr>\n",
       "    <tr>\n",
       "      <th>BRD-A01643550</th>\n",
       "      <td>0</td>\n",
       "      <td>1</td>\n",
       "      <td>0</td>\n",
       "      <td>0</td>\n",
       "      <td>0</td>\n",
       "      <td>0</td>\n",
       "      <td>0</td>\n",
       "      <td>0</td>\n",
       "      <td>0</td>\n",
       "      <td>0</td>\n",
       "      <td>...</td>\n",
       "      <td>0</td>\n",
       "      <td>0</td>\n",
       "      <td>0</td>\n",
       "      <td>0</td>\n",
       "      <td>0</td>\n",
       "      <td>0</td>\n",
       "      <td>0</td>\n",
       "      <td>0</td>\n",
       "      <td>0</td>\n",
       "      <td>0</td>\n",
       "    </tr>\n",
       "  </tbody>\n",
       "</table>\n",
       "<p>5 rows × 3165 columns</p>\n",
       "</div>"
      ],
      "text/plain": [
       "               Vulvovaginal disorder  Cardiac failure  Thalassaemia  \\\n",
       "pert_id                                                               \n",
       "BRD-A00546892                      0                0             0   \n",
       "BRD-A00827783                      0                0             0   \n",
       "BRD-A01320529                      0                0             0   \n",
       "BRD-A01636364                      0                0             0   \n",
       "BRD-A01643550                      0                1             0   \n",
       "\n",
       "               Peritoneal haemorrhage  Cardiac murmur  Judgement impaired  \\\n",
       "pert_id                                                                     \n",
       "BRD-A00546892                       0               0                   0   \n",
       "BRD-A00827783                       0               0                   0   \n",
       "BRD-A01320529                       0               0                   0   \n",
       "BRD-A01636364                       0               0                   0   \n",
       "BRD-A01643550                       0               0                   0   \n",
       "\n",
       "               Jaundice  Plasmodium falciparum infection  \\\n",
       "pert_id                                                    \n",
       "BRD-A00546892         0                                0   \n",
       "BRD-A00827783         0                                0   \n",
       "BRD-A01320529         0                                0   \n",
       "BRD-A01636364         0                                0   \n",
       "BRD-A01643550         0                                0   \n",
       "\n",
       "               Influenza like illness  Ingrown hair  \\\n",
       "pert_id                                               \n",
       "BRD-A00546892                       0             0   \n",
       "BRD-A00827783                       0             0   \n",
       "BRD-A01320529                       0             0   \n",
       "BRD-A01636364                       0             0   \n",
       "BRD-A01643550                       0             0   \n",
       "\n",
       "                         ...              Phobia  Rash maculo-papular  \\\n",
       "pert_id                  ...                                            \n",
       "BRD-A00546892            ...                   0                    0   \n",
       "BRD-A00827783            ...                   0                    0   \n",
       "BRD-A01320529            ...                   0                    0   \n",
       "BRD-A01636364            ...                   0                    0   \n",
       "BRD-A01643550            ...                   0                    0   \n",
       "\n",
       "               Oesophageal candidiasis  Blepharitis  \\\n",
       "pert_id                                               \n",
       "BRD-A00546892                        0            0   \n",
       "BRD-A00827783                        0            0   \n",
       "BRD-A01320529                        0            0   \n",
       "BRD-A01636364                        0            0   \n",
       "BRD-A01643550                        0            0   \n",
       "\n",
       "               Muscle contractions involuntary  Echolalia  Dysplasia  \\\n",
       "pert_id                                                                \n",
       "BRD-A00546892                                0          0          0   \n",
       "BRD-A00827783                                0          0          0   \n",
       "BRD-A01320529                                0          0          0   \n",
       "BRD-A01636364                                0          0          0   \n",
       "BRD-A01643550                                0          0          0   \n",
       "\n",
       "               Hypermagnesaemia  Ileus  Blood bilirubin increased  \n",
       "pert_id                                                            \n",
       "BRD-A00546892                 0      0                          0  \n",
       "BRD-A00827783                 0      0                          0  \n",
       "BRD-A01320529                 0      0                          0  \n",
       "BRD-A01636364                 0      0                          0  \n",
       "BRD-A01643550                 0      0                          0  \n",
       "\n",
       "[5 rows x 3165 columns]"
      ]
     },
     "execution_count": 11,
     "metadata": {},
     "output_type": "execute_result"
    }
   ],
   "source": [
    "sider_df.head()"
   ]
  },
  {
   "cell_type": "markdown",
   "metadata": {},
   "source": [
    "## 1.4. Find drugs/compounds that are shared among the three datasets"
   ]
  },
  {
   "cell_type": "code",
   "execution_count": 12,
   "metadata": {},
   "outputs": [],
   "source": [
    "from matplotlib_venn import venn3, venn2"
   ]
  },
  {
   "cell_type": "code",
   "execution_count": 13,
   "metadata": {},
   "outputs": [
    {
     "data": {
      "text/plain": [
       "<matplotlib_venn._common.VennDiagram at 0x7fba33e86780>"
      ]
     },
     "execution_count": 13,
     "metadata": {},
     "output_type": "execute_result"
    },
    {
     "data": {
      "image/png": "[encoded data removed]",
      "text/plain": [
       "<Figure size 432x288 with 1 Axes>"
      ]
     },
     "metadata": {},
     "output_type": "display_data"
    }
   ],
   "source": [
    "venn3([set(sig_info_df.pert_id), set(drugs_fp_df.index), set(sider_df.index)],\n",
    "      ('L1000', 'Chemical fingerprint', 'SIDER')\n",
    "     )"
   ]
  },
  {
   "cell_type": "code",
   "execution_count": 14,
   "metadata": {},
   "outputs": [
    {
     "data": {
      "text/plain": [
       "<matplotlib_venn._common.VennDiagram at 0x7fb9e115cba8>"
      ]
     },
     "execution_count": 14,
     "metadata": {},
     "output_type": "execute_result"
    },
    {
     "data": {
      "image/png": "[encoded data removed]",
      "text/plain": [
       "<Figure size 432x288 with 1 Axes>"
      ]
     },
     "metadata": {},
     "output_type": "display_data"
    }
   ],
   "source": [
    "venn2([set(sig_info_df.pert_id), set(sider_df.index)],\n",
    "      ('L1000', 'SIDER')\n",
    "     )"
   ]
  },
  {
   "cell_type": "code",
   "execution_count": 15,
   "metadata": {},
   "outputs": [
    {
     "name": "stdout",
     "output_type": "stream",
     "text": [
      "765\n"
     ]
    }
   ],
   "source": [
    "shared_drugs = set(sig_info_df.pert_id) & set(drugs_fp_df.index) & set(sider_df.index)\n",
    "shared_drugs = sorted(shared_drugs)\n",
    "print(len(shared_drugs))"
   ]
  },
  {
   "cell_type": "code",
   "execution_count": 16,
   "metadata": {},
   "outputs": [
    {
     "data": {
      "text/plain": [
       "(2723, 11)"
      ]
     },
     "execution_count": 16,
     "metadata": {},
     "output_type": "execute_result"
    }
   ],
   "source": [
    "sig_info_df = sig_info_df.loc[sig_info_df['pert_id'].isin(shared_drugs)]\n",
    "sig_info_df.shape"
   ]
  },
  {
   "cell_type": "code",
   "execution_count": 17,
   "metadata": {},
   "outputs": [
    {
     "data": {
      "text/plain": [
       "(2723, 978)"
      ]
     },
     "execution_count": 17,
     "metadata": {},
     "output_type": "execute_result"
    }
   ],
   "source": [
    "# Retrieve L1000 signatures from the level 5 data\n",
    "X_L1000 = gctx_utils.slice_matrix(gctx5, rids=LM_GENE_IDS, \n",
    "                                  cids=sig_info_df.index.values.astype(np.str))\n",
    "X_L1000.shape"
   ]
  },
  {
   "cell_type": "code",
   "execution_count": 18,
   "metadata": {},
   "outputs": [],
   "source": [
    "from sklearn import decomposition"
   ]
  },
  {
   "cell_type": "code",
   "execution_count": 19,
   "metadata": {},
   "outputs": [
    {
     "data": {
      "text/plain": [
       "(2723, 50)"
      ]
     },
     "execution_count": 19,
     "metadata": {},
     "output_type": "execute_result"
    }
   ],
   "source": [
    "pca = decomposition.PCA(n_components=50)\n",
    "X_L1000_pca = pca.fit_transform(X_L1000)\n",
    "X_L1000_pca.shape"
   ]
  },
  {
   "cell_type": "code",
   "execution_count": 20,
   "metadata": {},
   "outputs": [
    {
     "data": {
      "image/png": "[encoded data removed]",
      "text/plain": [
       "<Figure size 432x288 with 1 Axes>"
      ]
     },
     "metadata": {},
     "output_type": "display_data"
    }
   ],
   "source": [
    "plt.imshow(X_L1000_pca, aspect='auto');"
   ]
  },
  {
   "cell_type": "code",
   "execution_count": 21,
   "metadata": {},
   "outputs": [
    {
     "data": {
      "text/plain": [
       "(2723, 154)"
      ]
     },
     "execution_count": 21,
     "metadata": {},
     "output_type": "execute_result"
    }
   ],
   "source": [
    "# Subset chemical fingerprint matrix\n",
    "X_CS = drugs_fp_df.loc[sig_info_df['pert_id']].values\n",
    "# remove zero features\n",
    "X_CS = X_CS[:, X_CS.sum(axis=0) > 0]\n",
    "X_CS.shape"
   ]
  },
  {
   "cell_type": "code",
   "execution_count": 22,
   "metadata": {},
   "outputs": [
    {
     "data": {
      "image/png": "[encoded data removed]",
      "text/plain": [
       "<Figure size 432x288 with 1 Axes>"
      ]
     },
     "metadata": {},
     "output_type": "display_data"
    }
   ],
   "source": [
    "plt.imshow(X_CS, aspect='auto', cmap='binary');"
   ]
  },
  {
   "cell_type": "code",
   "execution_count": 23,
   "metadata": {},
   "outputs": [],
   "source": [
    "pca = decomposition.TruncatedSVD(n_components=50)\n",
    "X_CS_pca = pca.fit_transform(X_CS)"
   ]
  },
  {
   "cell_type": "code",
   "execution_count": 24,
   "metadata": {},
   "outputs": [
    {
     "data": {
      "text/plain": [
       "(2723, 3165)"
      ]
     },
     "execution_count": 24,
     "metadata": {},
     "output_type": "execute_result"
    }
   ],
   "source": [
    "# Subset SIDER matrix\n",
    "Y = sider_df.loc[sig_info_df['pert_id']].values\n",
    "Y.shape"
   ]
  },
  {
   "cell_type": "code",
   "execution_count": 25,
   "metadata": {},
   "outputs": [
    {
     "data": {
      "image/png": "[encoded data removed]",
      "text/plain": [
       "<Figure size 432x288 with 1 Axes>"
      ]
     },
     "metadata": {},
     "output_type": "display_data"
    }
   ],
   "source": [
    "plt.imshow(Y, aspect='auto', cmap='binary');"
   ]
  },
  {
   "cell_type": "code",
   "execution_count": 26,
   "metadata": {},
   "outputs": [
    {
     "data": {
      "image/png": "[encoded data removed]",
      "text/plain": [
       "<Figure size 432x288 with 1 Axes>"
      ]
     },
     "metadata": {},
     "output_type": "display_data"
    }
   ],
   "source": [
    "# Examine label (ADR) frequencies\n",
    "freqs_ADR = Y.mean(axis=0)\n",
    "plt.hist(freqs_ADR, bins=25, log=True)\n",
    "plt.xlabel('ADR frequency');"
   ]
  },
  {
   "cell_type": "code",
   "execution_count": 27,
   "metadata": {},
   "outputs": [
    {
     "data": {
      "text/html": [
       "<div>\n",
       "<style scoped>\n",
       "    .dataframe tbody tr th:only-of-type {\n",
       "        vertical-align: middle;\n",
       "    }\n",
       "\n",
       "    .dataframe tbody tr th {\n",
       "        vertical-align: top;\n",
       "    }\n",
       "\n",
       "    .dataframe thead th {\n",
       "        text-align: right;\n",
       "    }\n",
       "</style>\n",
       "<table border=\"1\" class=\"dataframe\">\n",
       "  <thead>\n",
       "    <tr style=\"text-align: right;\">\n",
       "      <th></th>\n",
       "      <th>frequency</th>\n",
       "    </tr>\n",
       "  </thead>\n",
       "  <tbody>\n",
       "    <tr>\n",
       "      <th>Nausea</th>\n",
       "      <td>0.874770</td>\n",
       "    </tr>\n",
       "    <tr>\n",
       "      <th>Rash</th>\n",
       "      <td>0.854939</td>\n",
       "    </tr>\n",
       "    <tr>\n",
       "      <th>Vomiting</th>\n",
       "      <td>0.827029</td>\n",
       "    </tr>\n",
       "    <tr>\n",
       "      <th>Headache</th>\n",
       "      <td>0.791039</td>\n",
       "    </tr>\n",
       "    <tr>\n",
       "      <th>Pain</th>\n",
       "      <td>0.762027</td>\n",
       "    </tr>\n",
       "    <tr>\n",
       "      <th>Diarrhoea</th>\n",
       "      <td>0.742196</td>\n",
       "    </tr>\n",
       "    <tr>\n",
       "      <th>Oedema</th>\n",
       "      <td>0.723467</td>\n",
       "    </tr>\n",
       "    <tr>\n",
       "      <th>Dizziness</th>\n",
       "      <td>0.719427</td>\n",
       "    </tr>\n",
       "    <tr>\n",
       "      <th>Pruritus</th>\n",
       "      <td>0.710981</td>\n",
       "    </tr>\n",
       "    <tr>\n",
       "      <th>Hypersensitivity</th>\n",
       "      <td>0.651855</td>\n",
       "    </tr>\n",
       "  </tbody>\n",
       "</table>\n",
       "</div>"
      ],
      "text/plain": [
       "                  frequency\n",
       "Nausea             0.874770\n",
       "Rash               0.854939\n",
       "Vomiting           0.827029\n",
       "Headache           0.791039\n",
       "Pain               0.762027\n",
       "Diarrhoea          0.742196\n",
       "Oedema             0.723467\n",
       "Dizziness          0.719427\n",
       "Pruritus           0.710981\n",
       "Hypersensitivity   0.651855"
      ]
     },
     "execution_count": 27,
     "metadata": {},
     "output_type": "execute_result"
    }
   ],
   "source": [
    "# Examine frequent ADRs\n",
    "ADRs_freq_df = pd.DataFrame({'frequency': freqs_ADR}, \n",
    "                            index=sider_df.columns)\n",
    "\n",
    "ADRs_freq_df.sort_values('frequency', ascending=False).head(10)"
   ]
  },
  {
   "cell_type": "code",
   "execution_count": 28,
   "metadata": {},
   "outputs": [
    {
     "data": {
      "text/html": [
       "<div>\n",
       "<style scoped>\n",
       "    .dataframe tbody tr th:only-of-type {\n",
       "        vertical-align: middle;\n",
       "    }\n",
       "\n",
       "    .dataframe tbody tr th {\n",
       "        vertical-align: top;\n",
       "    }\n",
       "\n",
       "    .dataframe thead th {\n",
       "        text-align: right;\n",
       "    }\n",
       "</style>\n",
       "<table border=\"1\" class=\"dataframe\">\n",
       "  <thead>\n",
       "    <tr style=\"text-align: right;\">\n",
       "      <th></th>\n",
       "      <th>frequency</th>\n",
       "    </tr>\n",
       "  </thead>\n",
       "  <tbody>\n",
       "    <tr>\n",
       "      <th>Brain abscess</th>\n",
       "      <td>0.000367</td>\n",
       "    </tr>\n",
       "    <tr>\n",
       "      <th>Hepatoblastoma</th>\n",
       "      <td>0.000367</td>\n",
       "    </tr>\n",
       "    <tr>\n",
       "      <th>Serum sickness-like reaction</th>\n",
       "      <td>0.000367</td>\n",
       "    </tr>\n",
       "    <tr>\n",
       "      <th>Ear pruritus</th>\n",
       "      <td>0.000367</td>\n",
       "    </tr>\n",
       "    <tr>\n",
       "      <th>Ovarian neoplasm</th>\n",
       "      <td>0.000367</td>\n",
       "    </tr>\n",
       "    <tr>\n",
       "      <th>Haemorrhagic anaemia</th>\n",
       "      <td>0.000367</td>\n",
       "    </tr>\n",
       "    <tr>\n",
       "      <th>Renal cell carcinoma</th>\n",
       "      <td>0.000367</td>\n",
       "    </tr>\n",
       "    <tr>\n",
       "      <th>Tooth deposit</th>\n",
       "      <td>0.000367</td>\n",
       "    </tr>\n",
       "    <tr>\n",
       "      <th>Ovarian germ cell teratoma benign</th>\n",
       "      <td>0.000367</td>\n",
       "    </tr>\n",
       "    <tr>\n",
       "      <th>Hypercoagulation</th>\n",
       "      <td>0.000367</td>\n",
       "    </tr>\n",
       "  </tbody>\n",
       "</table>\n",
       "</div>"
      ],
      "text/plain": [
       "                                   frequency\n",
       "Brain abscess                       0.000367\n",
       "Hepatoblastoma                      0.000367\n",
       "Serum sickness-like reaction        0.000367\n",
       "Ear pruritus                        0.000367\n",
       "Ovarian neoplasm                    0.000367\n",
       "Haemorrhagic anaemia                0.000367\n",
       "Renal cell carcinoma                0.000367\n",
       "Tooth deposit                       0.000367\n",
       "Ovarian germ cell teratoma benign   0.000367\n",
       "Hypercoagulation                    0.000367"
      ]
     },
     "execution_count": 28,
     "metadata": {},
     "output_type": "execute_result"
    }
   ],
   "source": [
    "# Examine infrequent ADRs\n",
    "ADRs_freq_df.query('frequency > 0').sort_values('frequency').head(10)"
   ]
  },
  {
   "cell_type": "code",
   "execution_count": 29,
   "metadata": {},
   "outputs": [
    {
     "data": {
      "text/plain": [
       "(2723, 143)"
      ]
     },
     "execution_count": 29,
     "metadata": {},
     "output_type": "execute_result"
    }
   ],
   "source": [
    "# Exclude ADRs that are too infrequent or frequent\n",
    "mask_ADR_to_predict = (freqs_ADR > 0.2) & (freqs_ADR < 0.7)\n",
    "\n",
    "Y = Y[:, mask_ADR_to_predict]\n",
    "Y.shape"
   ]
  },
  {
   "cell_type": "code",
   "execution_count": 30,
   "metadata": {},
   "outputs": [
    {
     "data": {
      "image/png": "[encoded data removed]",
      "text/plain": [
       "<Figure size 432x288 with 1 Axes>"
      ]
     },
     "metadata": {},
     "output_type": "display_data"
    }
   ],
   "source": [
    "plt.imshow(Y, aspect='auto', cmap='binary');"
   ]
  },
  {
   "cell_type": "markdown",
   "metadata": {},
   "source": [
    "# 2. Train and validate multi-label classification model to predict ADRs"
   ]
  },
  {
   "cell_type": "code",
   "execution_count": 31,
   "metadata": {},
   "outputs": [],
   "source": [
    "from skmultilearn.problem_transform import BinaryRelevance, ClassifierChain\n",
    "from skmultilearn.ensemble import RakelD\n",
    "from skmultilearn.adapt import MLkNN, MLARAM\n",
    "from sklearn import linear_model, ensemble, metrics\n",
    "from sklearn.model_selection import GroupKFold"
   ]
  },
  {
   "cell_type": "code",
   "execution_count": 32,
   "metadata": {},
   "outputs": [],
   "source": [
    "def cross_validate_ml_clf(ml_clf, cv, X, Y, groups):\n",
    "    '''\n",
    "    \n",
    "    groups: the same group (signatures of the same compound) will not appear \n",
    "        in two different folds to avoid over-estimation of predictive performance.\n",
    "    '''\n",
    "    \n",
    "    i = 0 \n",
    "    scores_df = pd.DataFrame(columns=['hamming_loss', 'accuracy', 'F1'])\n",
    "    label_aurocs = np.zeros(Y.shape[1])\n",
    "    \n",
    "    for train_idx, valid_idx in cv.split(X, Y, groups):\n",
    "        X_train, X_valid = X[train_idx], X[valid_idx]\n",
    "        Y_train, Y_valid = Y[train_idx], Y[valid_idx]\n",
    "        print(X_train.shape, Y_train.shape)\n",
    "        print(X_valid.shape, Y_valid.shape)\n",
    "        ml_clf.fit(X_train, Y_train)\n",
    "\n",
    "        Y_valid_pred = ml_clf.predict(X_valid)\n",
    "        if type(Y_valid_pred) != np.ndarray:\n",
    "            Y_valid_pred = Y_valid_pred.toarray() # convert sparse matrix to dense\n",
    "        \n",
    "        hamming_loss = metrics.hamming_loss(Y_valid, Y_valid_pred)\n",
    "        acc = metrics.accuracy_score(Y_valid.ravel(), Y_valid_pred.ravel())\n",
    "        f1 = metrics.f1_score(Y_valid, Y_valid_pred, average='micro')\n",
    "        print('Fold %d, hamming loss=%.4f, accuracy=%.4f, F1=%.4f'% (i, hamming_loss, acc, f1))\n",
    "        scores_df.loc[i] = [hamming_loss, acc, f1]\n",
    "\n",
    "        Y_valid_pred_probas = ml_clf.predict_proba(X_valid)\n",
    "        if type(Y_valid_pred_probas) != np.ndarray:\n",
    "            Y_valid_pred_probas = Y_valid_pred_probas.toarray() # convert sparse matrix to dense\n",
    "        \n",
    "        # Per-label AUROC scores        \n",
    "        aurocs = metrics.roc_auc_score(Y_valid, Y_valid_pred_probas, average=None)\n",
    "        label_aurocs += aurocs / cv.n_splits\n",
    "        \n",
    "        i += 1\n",
    "    return scores_df, label_aurocs"
   ]
  },
  {
   "cell_type": "code",
   "execution_count": 33,
   "metadata": {},
   "outputs": [],
   "source": [
    "cv = GroupKFold(n_splits=3)"
   ]
  },
  {
   "cell_type": "markdown",
   "metadata": {},
   "source": [
    "## 2.1. Examine the performances of a few multi-label classification algorithms"
   ]
  },
  {
   "cell_type": "code",
   "execution_count": 34,
   "metadata": {},
   "outputs": [],
   "source": [
    "rf = ensemble.RandomForestClassifier(n_estimators=20, n_jobs=5)\n",
    "br_rf = BinaryRelevance(\n",
    "    classifier=rf\n",
    ")"
   ]
  },
  {
   "cell_type": "code",
   "execution_count": 36,
   "metadata": {},
   "outputs": [
    {
     "name": "stdout",
     "output_type": "stream",
     "text": [
      "(1815, 50) (1815, 143)\n",
      "(908, 50) (908, 143)\n",
      "Fold 0, hamming loss=0.3364, accuracy=0.6636, F1=0.3541\n",
      "(1815, 50) (1815, 143)\n",
      "(908, 50) (908, 143)\n",
      "Fold 1, hamming loss=0.3256, accuracy=0.6744, F1=0.3709\n",
      "(1816, 50) (1816, 143)\n",
      "(907, 50) (907, 143)\n",
      "Fold 2, hamming loss=0.3450, accuracy=0.6550, F1=0.3681\n"
     ]
    }
   ],
   "source": [
    "scores_df, label_aurocs = cross_validate_ml_clf(br_rf, cv, X_L1000_pca, Y, \n",
    "                                                groups=sig_info_df.pert_id)"
   ]
  },
  {
   "cell_type": "code",
   "execution_count": null,
   "metadata": {},
   "outputs": [],
   "source": []
  },
  {
   "cell_type": "code",
   "execution_count": 37,
   "metadata": {},
   "outputs": [],
   "source": [
    "mlaram = MLARAM()"
   ]
  },
  {
   "cell_type": "code",
   "execution_count": 38,
   "metadata": {},
   "outputs": [
    {
     "name": "stdout",
     "output_type": "stream",
     "text": [
      "(1815, 50) (1815, 143)\n",
      "(908, 50) (908, 143)\n",
      "Fold 0, hamming loss=0.5006, accuracy=0.4994, F1=0.4598\n",
      "(1815, 50) (1815, 143)\n",
      "(908, 50) (908, 143)\n",
      "Fold 1, hamming loss=0.4180, accuracy=0.5820, F1=0.4147\n",
      "(1816, 50) (1816, 143)\n",
      "(907, 50) (907, 143)\n",
      "Fold 2, hamming loss=0.3175, accuracy=0.6825, F1=0.4118\n"
     ]
    }
   ],
   "source": [
    "scores_df2, label_aurocs2 = cross_validate_ml_clf(mlaram, cv, X_L1000_pca, Y,\n",
    "                                                 groups=sig_info_df.pert_id)"
   ]
  },
  {
   "cell_type": "code",
   "execution_count": 39,
   "metadata": {},
   "outputs": [],
   "source": [
    "rakeld = RakelD(base_classifier=rf,\n",
    "               base_classifier_require_dense=[True, True],\n",
    "               labelset_size=3)"
   ]
  },
  {
   "cell_type": "code",
   "execution_count": 40,
   "metadata": {},
   "outputs": [
    {
     "name": "stdout",
     "output_type": "stream",
     "text": [
      "(1815, 50) (1815, 143)\n",
      "(908, 50) (908, 143)\n",
      "Fold 0, hamming loss=0.3424, accuracy=0.6576, F1=0.3014\n",
      "(1815, 50) (1815, 143)\n",
      "(908, 50) (908, 143)\n",
      "Fold 1, hamming loss=0.3260, accuracy=0.6740, F1=0.3355\n",
      "(1816, 50) (1816, 143)\n",
      "(907, 50) (907, 143)\n",
      "Fold 2, hamming loss=0.3490, accuracy=0.6510, F1=0.3262\n"
     ]
    }
   ],
   "source": [
    "scores_df3, label_aurocs3 = cross_validate_ml_clf(rakeld, cv, X_L1000_pca, Y,\n",
    "                                                 groups=sig_info_df.pert_id)"
   ]
  },
  {
   "cell_type": "code",
   "execution_count": 41,
   "metadata": {},
   "outputs": [],
   "source": [
    "cc_rf = ClassifierChain(\n",
    "    classifier=rf\n",
    ")"
   ]
  },
  {
   "cell_type": "code",
   "execution_count": 42,
   "metadata": {},
   "outputs": [
    {
     "name": "stdout",
     "output_type": "stream",
     "text": [
      "(1815, 50) (1815, 143)\n",
      "(908, 50) (908, 143)\n",
      "Fold 0, hamming loss=0.3466, accuracy=0.6534, F1=0.0945\n",
      "(1815, 50) (1815, 143)\n",
      "(908, 50) (908, 143)\n",
      "Fold 1, hamming loss=0.3212, accuracy=0.6788, F1=0.1170\n",
      "(1816, 50) (1816, 143)\n",
      "(907, 50) (907, 143)\n",
      "Fold 2, hamming loss=0.3617, accuracy=0.6383, F1=0.1100\n"
     ]
    }
   ],
   "source": [
    "scores_df4, label_aurocs4 = cross_validate_ml_clf(cc_rf, cv, X_L1000_pca, Y,\n",
    "                                                 groups=sig_info_df.pert_id)"
   ]
  },
  {
   "cell_type": "code",
   "execution_count": 43,
   "metadata": {},
   "outputs": [
    {
     "data": {
      "image/png": "[encoded data removed]",
      "text/plain": [
       "<Figure size 432x288 with 1 Axes>"
      ]
     },
     "metadata": {},
     "output_type": "display_data"
    }
   ],
   "source": [
    "ax = sns.violinplot(data=pd.DataFrame({'BR(RF)': label_aurocs, \n",
    "                                  'MLARAM': label_aurocs2,\n",
    "                                  'RAkELd(RF)': label_aurocs3,\n",
    "                                  'CC(RF)': label_aurocs4,\n",
    "                                 }))\n",
    "ax.set_ylabel('AUROC');"
   ]
  },
  {
   "cell_type": "markdown",
   "metadata": {},
   "source": [
    "## 2.2. Cross-validate classifier on different subset of features \n",
    "- L1000 signatures\n",
    "- fingerprints\n",
    "- combinations"
   ]
  },
  {
   "cell_type": "code",
   "execution_count": 44,
   "metadata": {},
   "outputs": [],
   "source": [
    "# mlaram = MLARAM(threshold=0.2)\n",
    "mlaram = MLARAM()"
   ]
  },
  {
   "cell_type": "code",
   "execution_count": 40,
   "metadata": {},
   "outputs": [
    {
     "name": "stdout",
     "output_type": "stream",
     "text": [
      "(1815, 50) (1815, 143)\n",
      "(908, 50) (908, 143)\n",
      "Fold 0, hamming loss=0.3342, accuracy=0.6658, F1=0.3556\n",
      "(1815, 50) (1815, 143)\n",
      "(908, 50) (908, 143)\n",
      "Fold 1, hamming loss=0.3240, accuracy=0.6760, F1=0.3725\n",
      "(1816, 50) (1816, 143)\n",
      "(907, 50) (907, 143)\n",
      "Fold 2, hamming loss=0.3454, accuracy=0.6546, F1=0.3669\n"
     ]
    }
   ],
   "source": [
    "scores_df_GE, aurocs_GE = cross_validate_ml_clf(br_rf, cv, X_L1000_pca, Y, \n",
    "                                                groups=sig_info_df.pert_id)"
   ]
  },
  {
   "cell_type": "code",
   "execution_count": 45,
   "metadata": {},
   "outputs": [
    {
     "name": "stdout",
     "output_type": "stream",
     "text": [
      "(1815, 50) (1815, 143)\n",
      "(908, 50) (908, 143)\n",
      "Fold 0, hamming loss=0.5006, accuracy=0.4994, F1=0.4598\n",
      "(1815, 50) (1815, 143)\n",
      "(908, 50) (908, 143)\n",
      "Fold 1, hamming loss=0.4180, accuracy=0.5820, F1=0.4147\n",
      "(1816, 50) (1816, 143)\n",
      "(907, 50) (907, 143)\n",
      "Fold 2, hamming loss=0.3175, accuracy=0.6825, F1=0.4118\n"
     ]
    }
   ],
   "source": [
    "scores_df_GE, aurocs_GE = cross_validate_ml_clf(mlaram, cv, X_L1000_pca, Y, \n",
    "                                                groups=sig_info_df.pert_id)"
   ]
  },
  {
   "cell_type": "code",
   "execution_count": 38,
   "metadata": {},
   "outputs": [
    {
     "name": "stdout",
     "output_type": "stream",
     "text": [
      "(1815, 50) (1815, 143)\n",
      "(908, 50) (908, 143)\n",
      "Fold 0, hamming loss=0.3004, accuracy=0.6996, F1=0.4257\n",
      "(1815, 50) (1815, 143)\n",
      "(908, 50) (908, 143)\n",
      "Fold 1, hamming loss=0.2618, accuracy=0.7382, F1=0.4876\n",
      "(1816, 50) (1816, 143)\n",
      "(907, 50) (907, 143)\n",
      "Fold 2, hamming loss=0.2677, accuracy=0.7323, F1=0.5345\n"
     ]
    }
   ],
   "source": [
    "scores_df_CS, aurocs_CS = cross_validate_ml_clf(br_rf, cv, X_CS_pca, Y, \n",
    "                                                groups=sig_info_df.pert_id)"
   ]
  },
  {
   "cell_type": "code",
   "execution_count": 46,
   "metadata": {},
   "outputs": [
    {
     "name": "stdout",
     "output_type": "stream",
     "text": [
      "(1815, 50) (1815, 143)\n",
      "(908, 50) (908, 143)\n",
      "Fold 0, hamming loss=0.4216, accuracy=0.5784, F1=0.4016\n",
      "(1815, 50) (1815, 143)\n",
      "(908, 50) (908, 143)\n",
      "Fold 1, hamming loss=0.0130, accuracy=0.9870, F1=0.9797\n",
      "(1816, 50) (1816, 143)\n",
      "(907, 50) (907, 143)\n",
      "Fold 2, hamming loss=0.0010, accuracy=0.9990, F1=0.9986\n"
     ]
    }
   ],
   "source": [
    "scores_df_CS, aurocs_CS = cross_validate_ml_clf(mlaram, cv, X_CS_pca, Y, \n",
    "                                                groups=sig_info_df.pert_id)"
   ]
  },
  {
   "cell_type": "code",
   "execution_count": 39,
   "metadata": {},
   "outputs": [
    {
     "name": "stdout",
     "output_type": "stream",
     "text": [
      "(1815, 100) (1815, 143)\n",
      "(908, 100) (908, 143)\n",
      "Fold 0, hamming loss=0.2995, accuracy=0.7005, F1=0.4203\n",
      "(1815, 100) (1815, 143)\n",
      "(908, 100) (908, 143)\n",
      "Fold 1, hamming loss=0.2637, accuracy=0.7363, F1=0.4838\n",
      "(1816, 100) (1816, 143)\n",
      "(907, 100) (907, 143)\n",
      "Fold 2, hamming loss=0.2725, accuracy=0.7275, F1=0.5183\n"
     ]
    }
   ],
   "source": [
    "scores_df_GECS, aurocs_GECS = cross_validate_ml_clf(br_rf, cv, np.hstack((X_L1000_pca, X_CS_pca)), Y,\n",
    "                                                   groups=sig_info_df.pert_id)"
   ]
  },
  {
   "cell_type": "code",
   "execution_count": 47,
   "metadata": {
    "scrolled": true
   },
   "outputs": [
    {
     "name": "stdout",
     "output_type": "stream",
     "text": [
      "(1815, 100) (1815, 143)\n",
      "(908, 100) (908, 143)\n"
     ]
    },
    {
     "ename": "ValueError",
     "evalue": "all the input array dimensions except for the concatenation axis must match exactly",
     "output_type": "error",
     "traceback": [
      "\u001b[0;31m---------------------------------------------------------------------------\u001b[0m",
      "\u001b[0;31mValueError\u001b[0m                                Traceback (most recent call last)",
      "\u001b[0;32m<ipython-input-47-b0482b0eec6f>\u001b[0m in \u001b[0;36m<module>\u001b[0;34m\u001b[0m\n\u001b[1;32m      1\u001b[0m scores_df_GECS, aurocs_GECS = cross_validate_ml_clf(mlaram, cv, np.hstack((X_L1000_pca, X_CS_pca)), Y,\n\u001b[0;32m----> 2\u001b[0;31m                                                    groups=sig_info_df.pert_id)\n\u001b[0m",
      "\u001b[0;32m<ipython-input-32-2c5fc295afbf>\u001b[0m in \u001b[0;36mcross_validate_ml_clf\u001b[0;34m(ml_clf, cv, X, Y, groups)\u001b[0m\n\u001b[1;32m     17\u001b[0m         \u001b[0mml_clf\u001b[0m\u001b[0;34m.\u001b[0m\u001b[0mfit\u001b[0m\u001b[0;34m(\u001b[0m\u001b[0mX_train\u001b[0m\u001b[0;34m,\u001b[0m \u001b[0mY_train\u001b[0m\u001b[0;34m)\u001b[0m\u001b[0;34m\u001b[0m\u001b[0m\n\u001b[1;32m     18\u001b[0m \u001b[0;34m\u001b[0m\u001b[0m\n\u001b[0;32m---> 19\u001b[0;31m         \u001b[0mY_valid_pred\u001b[0m \u001b[0;34m=\u001b[0m \u001b[0mml_clf\u001b[0m\u001b[0;34m.\u001b[0m\u001b[0mpredict\u001b[0m\u001b[0;34m(\u001b[0m\u001b[0mX_valid\u001b[0m\u001b[0;34m)\u001b[0m\u001b[0;34m\u001b[0m\u001b[0m\n\u001b[0m\u001b[1;32m     20\u001b[0m         \u001b[0;32mif\u001b[0m \u001b[0mtype\u001b[0m\u001b[0;34m(\u001b[0m\u001b[0mY_valid_pred\u001b[0m\u001b[0;34m)\u001b[0m \u001b[0;34m!=\u001b[0m \u001b[0mnp\u001b[0m\u001b[0;34m.\u001b[0m\u001b[0mndarray\u001b[0m\u001b[0;34m:\u001b[0m\u001b[0;34m\u001b[0m\u001b[0m\n\u001b[1;32m     21\u001b[0m             \u001b[0mY_valid_pred\u001b[0m \u001b[0;34m=\u001b[0m \u001b[0mY_valid_pred\u001b[0m\u001b[0;34m.\u001b[0m\u001b[0mtoarray\u001b[0m\u001b[0;34m(\u001b[0m\u001b[0;34m)\u001b[0m \u001b[0;31m# convert sparse matrix to dense\u001b[0m\u001b[0;34m\u001b[0m\u001b[0m\n",
      "\u001b[0;32m/opt/conda/lib/python3.6/site-packages/skmultilearn/adapt/mlaram.py\u001b[0m in \u001b[0;36mpredict\u001b[0;34m(self, X)\u001b[0m\n\u001b[1;32m    246\u001b[0m         \u001b[0;32mif\u001b[0m \u001b[0misinstance\u001b[0m\u001b[0;34m(\u001b[0m\u001b[0mX\u001b[0m\u001b[0;34m,\u001b[0m \u001b[0mnumpy\u001b[0m\u001b[0;34m.\u001b[0m\u001b[0mmatrix\u001b[0m\u001b[0;34m)\u001b[0m\u001b[0;34m:\u001b[0m\u001b[0;34m\u001b[0m\u001b[0m\n\u001b[1;32m    247\u001b[0m             \u001b[0mX\u001b[0m \u001b[0;34m=\u001b[0m \u001b[0mnumpy\u001b[0m\u001b[0;34m.\u001b[0m\u001b[0masarray\u001b[0m\u001b[0;34m(\u001b[0m\u001b[0mX\u001b[0m\u001b[0;34m)\u001b[0m\u001b[0;34m\u001b[0m\u001b[0m\n\u001b[0;32m--> 248\u001b[0;31m         \u001b[0mranks\u001b[0m \u001b[0;34m=\u001b[0m \u001b[0mself\u001b[0m\u001b[0;34m.\u001b[0m\u001b[0mpredict_proba\u001b[0m\u001b[0;34m(\u001b[0m\u001b[0mX\u001b[0m\u001b[0;34m)\u001b[0m\u001b[0;34m\u001b[0m\u001b[0m\n\u001b[0m\u001b[1;32m    249\u001b[0m         \u001b[0;32mfor\u001b[0m \u001b[0mrank\u001b[0m \u001b[0;32min\u001b[0m \u001b[0mranks\u001b[0m\u001b[0;34m:\u001b[0m\u001b[0;34m\u001b[0m\u001b[0m\n\u001b[1;32m    250\u001b[0m             \u001b[0msorted_rank_arg\u001b[0m \u001b[0;34m=\u001b[0m \u001b[0mnumpy\u001b[0m\u001b[0;34m.\u001b[0m\u001b[0margsort\u001b[0m\u001b[0;34m(\u001b[0m\u001b[0;34m-\u001b[0m\u001b[0mrank\u001b[0m\u001b[0;34m)\u001b[0m\u001b[0;34m\u001b[0m\u001b[0m\n",
      "\u001b[0;32m/opt/conda/lib/python3.6/site-packages/skmultilearn/adapt/mlaram.py\u001b[0m in \u001b[0;36mpredict_proba\u001b[0;34m(self, X)\u001b[0m\n\u001b[1;32m    297\u001b[0m             \u001b[0mall_neurons_sum\u001b[0m \u001b[0;34m=\u001b[0m \u001b[0mall_neurons\u001b[0m\u001b[0;34m.\u001b[0m\u001b[0msum\u001b[0m\u001b[0;34m(\u001b[0m\u001b[0;36m1\u001b[0m\u001b[0;34m)\u001b[0m\u001b[0;34m.\u001b[0m\u001b[0mA\u001b[0m\u001b[0;34m\u001b[0m\u001b[0m\n\u001b[1;32m    298\u001b[0m         \u001b[0;32melse\u001b[0m\u001b[0;34m:\u001b[0m\u001b[0;34m\u001b[0m\u001b[0m\n\u001b[0;32m--> 299\u001b[0;31m             \u001b[0mall_neurons\u001b[0m \u001b[0;34m=\u001b[0m \u001b[0mnumpy\u001b[0m\u001b[0;34m.\u001b[0m\u001b[0mvstack\u001b[0m\u001b[0;34m(\u001b[0m\u001b[0mneuron_vectors\u001b[0m\u001b[0;34m)\u001b[0m\u001b[0;34m\u001b[0m\u001b[0m\n\u001b[0m\u001b[1;32m    300\u001b[0m             \u001b[0mall_neurons_sum\u001b[0m \u001b[0;34m=\u001b[0m \u001b[0mall_neurons\u001b[0m\u001b[0;34m.\u001b[0m\u001b[0msum\u001b[0m\u001b[0;34m(\u001b[0m\u001b[0;36m1\u001b[0m\u001b[0;34m)\u001b[0m\u001b[0;34m\u001b[0m\u001b[0m\n\u001b[1;32m    301\u001b[0m \u001b[0;34m\u001b[0m\u001b[0m\n",
      "\u001b[0;32m/opt/conda/lib/python3.6/site-packages/numpy/core/shape_base.py\u001b[0m in \u001b[0;36mvstack\u001b[0;34m(tup)\u001b[0m\n\u001b[1;32m    235\u001b[0m \u001b[0;34m\u001b[0m\u001b[0m\n\u001b[1;32m    236\u001b[0m     \"\"\"\n\u001b[0;32m--> 237\u001b[0;31m     \u001b[0;32mreturn\u001b[0m \u001b[0m_nx\u001b[0m\u001b[0;34m.\u001b[0m\u001b[0mconcatenate\u001b[0m\u001b[0;34m(\u001b[0m\u001b[0;34m[\u001b[0m\u001b[0matleast_2d\u001b[0m\u001b[0;34m(\u001b[0m\u001b[0m_m\u001b[0m\u001b[0;34m)\u001b[0m \u001b[0;32mfor\u001b[0m \u001b[0m_m\u001b[0m \u001b[0;32min\u001b[0m \u001b[0mtup\u001b[0m\u001b[0;34m]\u001b[0m\u001b[0;34m,\u001b[0m \u001b[0;36m0\u001b[0m\u001b[0;34m)\u001b[0m\u001b[0;34m\u001b[0m\u001b[0m\n\u001b[0m\u001b[1;32m    238\u001b[0m \u001b[0;34m\u001b[0m\u001b[0m\n\u001b[1;32m    239\u001b[0m \u001b[0;32mdef\u001b[0m \u001b[0mhstack\u001b[0m\u001b[0;34m(\u001b[0m\u001b[0mtup\u001b[0m\u001b[0;34m)\u001b[0m\u001b[0;34m:\u001b[0m\u001b[0;34m\u001b[0m\u001b[0m\n",
      "\u001b[0;31mValueError\u001b[0m: all the input array dimensions except for the concatenation axis must match exactly"
     ]
    }
   ],
   "source": [
    "scores_df_GECS, aurocs_GECS = cross_validate_ml_clf(mlaram, cv, np.hstack((X_L1000_pca, X_CS_pca)), Y,\n",
    "                                                   groups=sig_info_df.pert_id)"
   ]
  },
  {
   "cell_type": "code",
   "execution_count": null,
   "metadata": {},
   "outputs": [],
   "source": [
    "ax = sns.violinplot(data=pd.DataFrame({'GE': aurocs_GE, \n",
    "                                  'CS': aurocs_CS,\n",
    "                                  'GE + CS': aurocs_GECS,\n",
    "                                 }))\n",
    "ax.set_ylabel('AUROC');"
   ]
  },
  {
   "cell_type": "code",
   "execution_count": 46,
   "metadata": {},
   "outputs": [
    {
     "data": {
      "text/html": [
       "<div>\n",
       "<style scoped>\n",
       "    .dataframe tbody tr th:only-of-type {\n",
       "        vertical-align: middle;\n",
       "    }\n",
       "\n",
       "    .dataframe tbody tr th {\n",
       "        vertical-align: top;\n",
       "    }\n",
       "\n",
       "    .dataframe thead th {\n",
       "        text-align: right;\n",
       "    }\n",
       "</style>\n",
       "<table border=\"1\" class=\"dataframe\">\n",
       "  <thead>\n",
       "    <tr style=\"text-align: right;\">\n",
       "      <th></th>\n",
       "      <th>auroc</th>\n",
       "    </tr>\n",
       "  </thead>\n",
       "  <tbody>\n",
       "    <tr>\n",
       "      <th>Anaphylactoid reaction</th>\n",
       "      <td>0.747516</td>\n",
       "    </tr>\n",
       "    <tr>\n",
       "      <th>Eosinophilia</th>\n",
       "      <td>0.746875</td>\n",
       "    </tr>\n",
       "    <tr>\n",
       "      <th>Neutropenia</th>\n",
       "      <td>0.743902</td>\n",
       "    </tr>\n",
       "    <tr>\n",
       "      <th>Agranulocytosis</th>\n",
       "      <td>0.743180</td>\n",
       "    </tr>\n",
       "    <tr>\n",
       "      <th>Stomatitis</th>\n",
       "      <td>0.739922</td>\n",
       "    </tr>\n",
       "  </tbody>\n",
       "</table>\n",
       "</div>"
      ],
      "text/plain": [
       "                           auroc\n",
       "Anaphylactoid reaction  0.747516\n",
       "Eosinophilia            0.746875\n",
       "Neutropenia             0.743902\n",
       "Agranulocytosis         0.743180\n",
       "Stomatitis              0.739922"
      ]
     },
     "execution_count": 46,
     "metadata": {},
     "output_type": "execute_result"
    }
   ],
   "source": [
    "auroc_df = pd.DataFrame({'auroc': aurocs_GECS}, index=sider_df.columns[mask_ADR_to_predict])\n",
    "# Most predictable ADRs\n",
    "auroc_df.sort_values('auroc', ascending=False).head()"
   ]
  },
  {
   "cell_type": "code",
   "execution_count": 47,
   "metadata": {},
   "outputs": [
    {
     "data": {
      "text/html": [
       "<div>\n",
       "<style scoped>\n",
       "    .dataframe tbody tr th:only-of-type {\n",
       "        vertical-align: middle;\n",
       "    }\n",
       "\n",
       "    .dataframe tbody tr th {\n",
       "        vertical-align: top;\n",
       "    }\n",
       "\n",
       "    .dataframe thead th {\n",
       "        text-align: right;\n",
       "    }\n",
       "</style>\n",
       "<table border=\"1\" class=\"dataframe\">\n",
       "  <thead>\n",
       "    <tr style=\"text-align: right;\">\n",
       "      <th></th>\n",
       "      <th>auroc</th>\n",
       "    </tr>\n",
       "  </thead>\n",
       "  <tbody>\n",
       "    <tr>\n",
       "      <th>Discomfort</th>\n",
       "      <td>0.571963</td>\n",
       "    </tr>\n",
       "    <tr>\n",
       "      <th>Shock</th>\n",
       "      <td>0.602563</td>\n",
       "    </tr>\n",
       "    <tr>\n",
       "      <th>Dry skin</th>\n",
       "      <td>0.618516</td>\n",
       "    </tr>\n",
       "    <tr>\n",
       "      <th>Respiratory tract infection</th>\n",
       "      <td>0.620866</td>\n",
       "    </tr>\n",
       "    <tr>\n",
       "      <th>Bronchospasm</th>\n",
       "      <td>0.620998</td>\n",
       "    </tr>\n",
       "  </tbody>\n",
       "</table>\n",
       "</div>"
      ],
      "text/plain": [
       "                                auroc\n",
       "Discomfort                   0.571963\n",
       "Shock                        0.602563\n",
       "Dry skin                     0.618516\n",
       "Respiratory tract infection  0.620866\n",
       "Bronchospasm                 0.620998"
      ]
     },
     "execution_count": 47,
     "metadata": {},
     "output_type": "execute_result"
    }
   ],
   "source": [
    "# Least predictable ADRs\n",
    "auroc_df.sort_values('auroc').head()"
   ]
  },
  {
   "cell_type": "code",
   "execution_count": null,
   "metadata": {},
   "outputs": [],
   "source": []
  }
 ],
 "metadata": {
  "kernelspec": {
   "display_name": "Python 3",
   "language": "python",
   "name": "python3"
  },
  "language_info": {
   "codemirror_mode": {
    "name": "ipython",
    "version": 3
   },
   "file_extension": ".py",
   "mimetype": "text/x-python",
   "name": "python",
   "nbconvert_exporter": "python",
   "pygments_lexer": "ipython3",
   "version": "3.6.6"
  }
 },
 "nbformat": 4,
 "nbformat_minor": 2
}
