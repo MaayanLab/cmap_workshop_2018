{
 "cells": [
  {
   "cell_type": "markdown",
   "metadata": {},
   "source": [
    "# Predicting Adverse Drug Reactions (ADRs) with the LINCS L1000 Data\n",
    "\n",
    "---\n",
    "\n",
    "\n",
    "## _Zichen Wang, Avi Ma'ayan_\n",
    "\n",
    "<img src=\"http://lincs-dcic.org/images/dcic-logo/DCIC_500x375_cropped.png\" style=\"float: right; width: 100px;\"/>\n",
    "\n",
    "#### BD2K-LINCS Data Coordination and Integration Center (DCIC)<br>Mount Sinai Center for Bioinformatics<br>Icahn School of Medicine at Mount Sinai, New York, NY<br>Grant # U54HL127624\n",
    "\n",
    "#### CMap Workshop - Dec. 4-6, 2018 \n",
    "\n",
    "---\n",
    "\n",
    "## Table of Contents\n",
    "\n",
    "- [0. Introductions](#0.-Introductions)\n",
    "- [1. Preparing the datasets for the Machine Learning task](#1.-Prepare-datasets-for-the-machine-learning-task)\n",
    "- [2. Training and validating multi-label classification model to predict ADRs](#2.-Train-and-validate-multi-label-classification-models-to-predict-ADRs)\n",
    "- [3. Other use cases](#3.-Other-use-cases-of-this-workflow)\n",
    "\n",
    "---"
   ]
  },
  {
   "attachments": {
    "image.png": {
     "image/png": "[encoded data removed]"
    }
   },
   "cell_type": "markdown",
   "metadata": {},
   "source": [
    "# 0. Introductions\n",
    "\n",
    "## Introduction to multi-label classification\n",
    "\n",
    "- **Multi-label classification** is a variant of the classical machine learning classification problem where multiple target labels are assigned to each instance. The goal is to find a model that maps the input feature vector $\\mathbf{x}$ to a binary vector $\\mathbf{y}$ rather than a scalar output as it is done for classical machine learning![image.png](attachment:image.png) (single-label) classification problems.\n",
    "\n",
    "<img src=\"img/multi-label_classification.png\" style=\"width: 600px;\"/>\n",
    "\n",
    "\n",
    "- Approaches for multi-label classification\n",
    "    + **Problem transformation**: converts a multi-label problem to many single-label classification problems\n",
    "        - **Binary Relevance (BR)**: train classifiers for each label individually and ignore label correlations\n",
    "        - **Classifier Chain (CC)**: treats each label as part of a conditioned chain of single-class classification problems\n",
    "        - **Label Power-set (LP)**: treats each label combination as a separate class with one multi-class classification problem\n",
    "    + **Algorithm adaptation**: change the cost functions of single-label classification algorithms to have multi-label objectives\n",
    "        - K-Nearest Neighbors\n",
    "\n",
    "- Evaluation metrics for multi-label classification\n",
    "    + **Label-based**: ROC curves for individual labels\n",
    "    + **Instance-based**: Hamming loss, micro-averaged F1 score\n",
    "    "
   ]
  },
  {
   "cell_type": "markdown",
   "metadata": {},
   "source": [
    "## Application of multi-label classification to predict drug side effects/ADRs\n",
    "\n",
    "![](https://www.ncbi.nlm.nih.gov/pmc/articles/PMC4965635/bin/btw168f1p.jpg)\n",
    "\n",
    "Wang Z, Clark NR, Ma'ayan A (2016) _Bioinformatics_ [doi: 10.1093/bioinformatics/btw168](https://www.ncbi.nlm.nih.gov/pubmed/27153606)\n",
    "\n",
    "---"
   ]
  },
  {
   "cell_type": "code",
   "execution_count": 1,
   "metadata": {},
   "outputs": [],
   "source": [
    "# Set paths to find the data required\n",
    "## paths on jupyter.clue.io\n",
    "DATA_DIR = '/srv/data/workshop/data/common'\n",
    "DATA_MODULE3_DIR = '/srv/data/workshop/data/Module3'\n",
    "\n",
    "## paths on my desktop\n",
    "# DATA_DIR = '/Volumes/Untitled/Zichen_Projects/LINCS_L1000_GSE92742_data/data/'\n",
    "# DATA_MODULE3_DIR = '/Volumes/Untitled/Zichen_Projects/LINCS_L1000_GSE92742_data/data/'"
   ]
  },
  {
   "cell_type": "code",
   "execution_count": 2,
   "metadata": {},
   "outputs": [],
   "source": [
    "%load_ext autoreload\n",
    "%autoreload 2"
   ]
  },
  {
   "cell_type": "code",
   "execution_count": 3,
   "metadata": {},
   "outputs": [],
   "source": [
    "from __future__ import print_function, division\n",
    "import os, sys\n",
    "import warnings\n",
    "warnings.filterwarnings(\"ignore\")\n",
    "import h5py\n",
    "import numpy as np\n",
    "import pandas as pd\n",
    "from sklearn import decomposition, manifold\n",
    "\n",
    "import matplotlib.pyplot as plt\n",
    "%matplotlib inline\n",
    "import seaborn as sns\n",
    "sns.set(context='talk', style='white')"
   ]
  },
  {
   "cell_type": "code",
   "execution_count": 4,
   "metadata": {},
   "outputs": [
    {
     "data": {
      "text/html": [
       "<script type=\"text/javascript\">window.PlotlyConfig = {MathJaxConfig: 'local'};</script><script type=\"text/javascript\">if (window.MathJax) {MathJax.Hub.Config({SVG: {font: \"STIX-Web\"}});}</script><script>requirejs.config({paths: { 'plotly': ['https://cdn.plot.ly/plotly-latest.min']},});if(!window._Plotly) {require(['plotly'],function(plotly) {window._Plotly=plotly;});}</script>"
      ],
      "text/vnd.plotly.v1+html": [
       "<script type=\"text/javascript\">window.PlotlyConfig = {MathJaxConfig: 'local'};</script><script type=\"text/javascript\">if (window.MathJax) {MathJax.Hub.Config({SVG: {font: \"STIX-Web\"}});}</script><script>requirejs.config({paths: { 'plotly': ['https://cdn.plot.ly/plotly-latest.min']},});if(!window._Plotly) {require(['plotly'],function(plotly) {window._Plotly=plotly;});}</script>"
      ]
     },
     "metadata": {},
     "output_type": "display_data"
    }
   ],
   "source": [
    "import plots\n",
    "import gctx_utils"
   ]
  },
  {
   "cell_type": "markdown",
   "metadata": {},
   "source": [
    "---\n",
    "# 1. Prepare datasets for the machine learning task\n",
    "\n",
    "## 1.1. Prepare Level 5 signatures for drugs/compounds\n",
    "\n",
    "- Load the metadata for genes and signatures"
   ]
  },
  {
   "cell_type": "code",
   "execution_count": 5,
   "metadata": {},
   "outputs": [],
   "source": [
    "gctx5 = h5py.File('%s/GSE92742_Broad_LINCS_Level5_COMPZ.MODZ_n473647x12328.gctx' % DATA_DIR, 'r')"
   ]
  },
  {
   "cell_type": "code",
   "execution_count": 6,
   "metadata": {},
   "outputs": [
    {
     "name": "stdout",
     "output_type": "stream",
     "text": [
      "(12328, 4)\n",
      "Number of landmark genes 978\n"
     ]
    }
   ],
   "source": [
    "gene_info_df = pd.read_csv('%s/GSE92742_Broad_LINCS_gene_info.txt' % DATA_DIR, \n",
    "                          sep='\\t')\n",
    "gene_info_df.set_index(gene_info_df.columns[0], inplace=True)\n",
    "gene_info_df.index = gene_info_df.index.astype(str)\n",
    "print(gene_info_df.shape)\n",
    "# Get the Landmark 1000 genes\n",
    "LM_GENE_IDS = gene_info_df.query('pr_is_lm == 1').index\n",
    "LM_GENE_IDS = LM_GENE_IDS.values.astype(np.str) # convert to np.array with np.str as dtype\n",
    "print('Number of landmark genes', len(LM_GENE_IDS))"
   ]
  },
  {
   "cell_type": "code",
   "execution_count": 7,
   "metadata": {},
   "outputs": [
    {
     "name": "stdout",
     "output_type": "stream",
     "text": [
      "(473647, 11)\n",
      "(23123, 11)\n"
     ]
    }
   ],
   "source": [
    "sig_info_df = pd.read_csv('%s/GSE92742_Broad_LINCS_sig_info.txt' % DATA_DIR, \n",
    "                          sep='\\t')\n",
    "sig_info_df = sig_info_df.set_index('sig_id')\n",
    "print(sig_info_df.shape)\n",
    "\n",
    "# Get compound treatment signatures in PC3 cell line\n",
    "sig_info_df = sig_info_df.query('cell_id == \"PC3\" & pert_type == \"trt_cp\"')\n",
    "print(sig_info_df.shape)"
   ]
  },
  {
   "cell_type": "code",
   "execution_count": 8,
   "metadata": {},
   "outputs": [
    {
     "data": {
      "text/plain": [
       "pert_id           11150\n",
       "pert_iname        10661\n",
       "pert_type             1\n",
       "cell_id               1\n",
       "pert_dose          1392\n",
       "pert_dose_unit        1\n",
       "pert_idose           27\n",
       "pert_time             2\n",
       "pert_time_unit        1\n",
       "pert_itime            2\n",
       "distil_id         23123\n",
       "dtype: int64"
      ]
     },
     "execution_count": 8,
     "metadata": {},
     "output_type": "execute_result"
    }
   ],
   "source": [
    "sig_info_df.nunique()"
   ]
  },
  {
   "cell_type": "markdown",
   "metadata": {},
   "source": [
    "## 1.2. Load chemical fingerprints for drugs/compounds\n",
    "\n",
    "The 166-bit MACCS chemical fingerprints for drugs/compounds are generated using [Open Babel](http://openbabel.org/wiki/Main_Page). Each MACCS key corresponds to a chemical substructure/fragment. Other more elaborate methods exist:\n",
    "\n",
    "- [Extended-Connectivity Fingerprints (ECFP)](https://pubs.acs.org/doi/10.1021/ci100050t)\n",
    "- [Pharmacophore fingerprint](https://www.mdpi.com/1420-3049/5/7/987)\n",
    "- [Representing chemical structures with variational autoencoder (VAE)](https://pubs.acs.org/doi/full/10.1021/acscentsci.7b00572)"
   ]
  },
  {
   "cell_type": "code",
   "execution_count": 9,
   "metadata": {},
   "outputs": [
    {
     "data": {
      "text/plain": [
       "(41774, 166)"
      ]
     },
     "execution_count": 9,
     "metadata": {},
     "output_type": "execute_result"
    }
   ],
   "source": [
    "drugs_fp_df = pd.read_csv('%s/MACCS_bitmatrix.csv.gz' % DATA_MODULE3_DIR, \n",
    "                         compression='gzip',\n",
    "                         ).set_index('pert_id')\n",
    "drugs_fp_df.shape"
   ]
  },
  {
   "cell_type": "code",
   "execution_count": 10,
   "metadata": {},
   "outputs": [
    {
     "data": {
      "text/html": [
       "<div>\n",
       "<style scoped>\n",
       "    .dataframe tbody tr th:only-of-type {\n",
       "        vertical-align: middle;\n",
       "    }\n",
       "\n",
       "    .dataframe tbody tr th {\n",
       "        vertical-align: top;\n",
       "    }\n",
       "\n",
       "    .dataframe thead th {\n",
       "        text-align: right;\n",
       "    }\n",
       "</style>\n",
       "<table border=\"1\" class=\"dataframe\">\n",
       "  <thead>\n",
       "    <tr style=\"text-align: right;\">\n",
       "      <th></th>\n",
       "      <th>MACCS_1</th>\n",
       "      <th>MACCS_2</th>\n",
       "      <th>MACCS_3</th>\n",
       "      <th>MACCS_4</th>\n",
       "      <th>MACCS_5</th>\n",
       "      <th>MACCS_6</th>\n",
       "      <th>MACCS_7</th>\n",
       "      <th>MACCS_8</th>\n",
       "      <th>MACCS_9</th>\n",
       "      <th>MACCS_10</th>\n",
       "      <th>...</th>\n",
       "      <th>MACCS_157</th>\n",
       "      <th>MACCS_158</th>\n",
       "      <th>MACCS_159</th>\n",
       "      <th>MACCS_160</th>\n",
       "      <th>MACCS_161</th>\n",
       "      <th>MACCS_162</th>\n",
       "      <th>MACCS_163</th>\n",
       "      <th>MACCS_164</th>\n",
       "      <th>MACCS_165</th>\n",
       "      <th>MACCS_166</th>\n",
       "    </tr>\n",
       "    <tr>\n",
       "      <th>pert_id</th>\n",
       "      <th></th>\n",
       "      <th></th>\n",
       "      <th></th>\n",
       "      <th></th>\n",
       "      <th></th>\n",
       "      <th></th>\n",
       "      <th></th>\n",
       "      <th></th>\n",
       "      <th></th>\n",
       "      <th></th>\n",
       "      <th></th>\n",
       "      <th></th>\n",
       "      <th></th>\n",
       "      <th></th>\n",
       "      <th></th>\n",
       "      <th></th>\n",
       "      <th></th>\n",
       "      <th></th>\n",
       "      <th></th>\n",
       "      <th></th>\n",
       "      <th></th>\n",
       "    </tr>\n",
       "  </thead>\n",
       "  <tbody>\n",
       "    <tr>\n",
       "      <th>BRD-A00037023</th>\n",
       "      <td>0</td>\n",
       "      <td>0</td>\n",
       "      <td>0</td>\n",
       "      <td>0</td>\n",
       "      <td>0</td>\n",
       "      <td>0</td>\n",
       "      <td>0</td>\n",
       "      <td>0</td>\n",
       "      <td>0</td>\n",
       "      <td>0</td>\n",
       "      <td>...</td>\n",
       "      <td>1</td>\n",
       "      <td>1</td>\n",
       "      <td>1</td>\n",
       "      <td>1</td>\n",
       "      <td>1</td>\n",
       "      <td>1</td>\n",
       "      <td>1</td>\n",
       "      <td>1</td>\n",
       "      <td>1</td>\n",
       "      <td>1</td>\n",
       "    </tr>\n",
       "    <tr>\n",
       "      <th>BRD-A00051892</th>\n",
       "      <td>0</td>\n",
       "      <td>0</td>\n",
       "      <td>0</td>\n",
       "      <td>0</td>\n",
       "      <td>0</td>\n",
       "      <td>0</td>\n",
       "      <td>0</td>\n",
       "      <td>0</td>\n",
       "      <td>0</td>\n",
       "      <td>0</td>\n",
       "      <td>...</td>\n",
       "      <td>1</td>\n",
       "      <td>1</td>\n",
       "      <td>1</td>\n",
       "      <td>1</td>\n",
       "      <td>0</td>\n",
       "      <td>1</td>\n",
       "      <td>1</td>\n",
       "      <td>0</td>\n",
       "      <td>1</td>\n",
       "      <td>1</td>\n",
       "    </tr>\n",
       "    <tr>\n",
       "      <th>BRD-A00100033</th>\n",
       "      <td>0</td>\n",
       "      <td>0</td>\n",
       "      <td>0</td>\n",
       "      <td>0</td>\n",
       "      <td>0</td>\n",
       "      <td>0</td>\n",
       "      <td>0</td>\n",
       "      <td>0</td>\n",
       "      <td>0</td>\n",
       "      <td>0</td>\n",
       "      <td>...</td>\n",
       "      <td>1</td>\n",
       "      <td>0</td>\n",
       "      <td>1</td>\n",
       "      <td>1</td>\n",
       "      <td>1</td>\n",
       "      <td>1</td>\n",
       "      <td>1</td>\n",
       "      <td>1</td>\n",
       "      <td>1</td>\n",
       "      <td>1</td>\n",
       "    </tr>\n",
       "    <tr>\n",
       "      <th>BRD-A00150179</th>\n",
       "      <td>0</td>\n",
       "      <td>0</td>\n",
       "      <td>0</td>\n",
       "      <td>0</td>\n",
       "      <td>0</td>\n",
       "      <td>0</td>\n",
       "      <td>0</td>\n",
       "      <td>0</td>\n",
       "      <td>0</td>\n",
       "      <td>0</td>\n",
       "      <td>...</td>\n",
       "      <td>1</td>\n",
       "      <td>1</td>\n",
       "      <td>1</td>\n",
       "      <td>1</td>\n",
       "      <td>0</td>\n",
       "      <td>1</td>\n",
       "      <td>1</td>\n",
       "      <td>1</td>\n",
       "      <td>1</td>\n",
       "      <td>1</td>\n",
       "    </tr>\n",
       "    <tr>\n",
       "      <th>BRD-A00214921</th>\n",
       "      <td>0</td>\n",
       "      <td>0</td>\n",
       "      <td>0</td>\n",
       "      <td>0</td>\n",
       "      <td>0</td>\n",
       "      <td>0</td>\n",
       "      <td>0</td>\n",
       "      <td>0</td>\n",
       "      <td>0</td>\n",
       "      <td>0</td>\n",
       "      <td>...</td>\n",
       "      <td>1</td>\n",
       "      <td>1</td>\n",
       "      <td>1</td>\n",
       "      <td>1</td>\n",
       "      <td>1</td>\n",
       "      <td>1</td>\n",
       "      <td>1</td>\n",
       "      <td>1</td>\n",
       "      <td>1</td>\n",
       "      <td>1</td>\n",
       "    </tr>\n",
       "  </tbody>\n",
       "</table>\n",
       "<p>5 rows × 166 columns</p>\n",
       "</div>"
      ],
      "text/plain": [
       "               MACCS_1  MACCS_2  MACCS_3  MACCS_4  MACCS_5  MACCS_6  MACCS_7  \\\n",
       "pert_id                                                                        \n",
       "BRD-A00037023        0        0        0        0        0        0        0   \n",
       "BRD-A00051892        0        0        0        0        0        0        0   \n",
       "BRD-A00100033        0        0        0        0        0        0        0   \n",
       "BRD-A00150179        0        0        0        0        0        0        0   \n",
       "BRD-A00214921        0        0        0        0        0        0        0   \n",
       "\n",
       "               MACCS_8  MACCS_9  MACCS_10    ...      MACCS_157  MACCS_158  \\\n",
       "pert_id                                      ...                             \n",
       "BRD-A00037023        0        0         0    ...              1          1   \n",
       "BRD-A00051892        0        0         0    ...              1          1   \n",
       "BRD-A00100033        0        0         0    ...              1          0   \n",
       "BRD-A00150179        0        0         0    ...              1          1   \n",
       "BRD-A00214921        0        0         0    ...              1          1   \n",
       "\n",
       "               MACCS_159  MACCS_160  MACCS_161  MACCS_162  MACCS_163  \\\n",
       "pert_id                                                                \n",
       "BRD-A00037023          1          1          1          1          1   \n",
       "BRD-A00051892          1          1          0          1          1   \n",
       "BRD-A00100033          1          1          1          1          1   \n",
       "BRD-A00150179          1          1          0          1          1   \n",
       "BRD-A00214921          1          1          1          1          1   \n",
       "\n",
       "               MACCS_164  MACCS_165  MACCS_166  \n",
       "pert_id                                         \n",
       "BRD-A00037023          1          1          1  \n",
       "BRD-A00051892          0          1          1  \n",
       "BRD-A00100033          1          1          1  \n",
       "BRD-A00150179          1          1          1  \n",
       "BRD-A00214921          1          1          1  \n",
       "\n",
       "[5 rows x 166 columns]"
      ]
     },
     "execution_count": 10,
     "metadata": {},
     "output_type": "execute_result"
    }
   ],
   "source": [
    "drugs_fp_df.head()"
   ]
  },
  {
   "cell_type": "markdown",
   "metadata": {},
   "source": [
    "## 1.3. Load drug-ADR connections from [SIDER](http://sideeffects.embl.de/)\n",
    "\n",
    "SIDER contains information on marketed medicines and their recorded adverse drug reactions. The information is extracted from public documents and package inserts."
   ]
  },
  {
   "cell_type": "code",
   "execution_count": 11,
   "metadata": {},
   "outputs": [
    {
     "data": {
      "text/plain": [
       "(834, 3165)"
      ]
     },
     "execution_count": 11,
     "metadata": {},
     "output_type": "execute_result"
    }
   ],
   "source": [
    "sider_df = pd.read_csv('%s/SIDER_PTs.csv.gz' % DATA_MODULE3_DIR, \n",
    "                      compression='gzip'\n",
    "                      ).set_index('pert_id')\n",
    "sider_df.shape"
   ]
  },
  {
   "cell_type": "code",
   "execution_count": 12,
   "metadata": {},
   "outputs": [
    {
     "data": {
      "text/html": [
       "<div>\n",
       "<style scoped>\n",
       "    .dataframe tbody tr th:only-of-type {\n",
       "        vertical-align: middle;\n",
       "    }\n",
       "\n",
       "    .dataframe tbody tr th {\n",
       "        vertical-align: top;\n",
       "    }\n",
       "\n",
       "    .dataframe thead th {\n",
       "        text-align: right;\n",
       "    }\n",
       "</style>\n",
       "<table border=\"1\" class=\"dataframe\">\n",
       "  <thead>\n",
       "    <tr style=\"text-align: right;\">\n",
       "      <th></th>\n",
       "      <th>Vulvovaginal disorder</th>\n",
       "      <th>Cardiac failure</th>\n",
       "      <th>Thalassaemia</th>\n",
       "      <th>Peritoneal haemorrhage</th>\n",
       "      <th>Cardiac murmur</th>\n",
       "      <th>Judgement impaired</th>\n",
       "      <th>Jaundice</th>\n",
       "      <th>Plasmodium falciparum infection</th>\n",
       "      <th>Influenza like illness</th>\n",
       "      <th>Ingrown hair</th>\n",
       "      <th>...</th>\n",
       "      <th>Phobia</th>\n",
       "      <th>Rash maculo-papular</th>\n",
       "      <th>Oesophageal candidiasis</th>\n",
       "      <th>Blepharitis</th>\n",
       "      <th>Muscle contractions involuntary</th>\n",
       "      <th>Echolalia</th>\n",
       "      <th>Dysplasia</th>\n",
       "      <th>Hypermagnesaemia</th>\n",
       "      <th>Ileus</th>\n",
       "      <th>Blood bilirubin increased</th>\n",
       "    </tr>\n",
       "    <tr>\n",
       "      <th>pert_id</th>\n",
       "      <th></th>\n",
       "      <th></th>\n",
       "      <th></th>\n",
       "      <th></th>\n",
       "      <th></th>\n",
       "      <th></th>\n",
       "      <th></th>\n",
       "      <th></th>\n",
       "      <th></th>\n",
       "      <th></th>\n",
       "      <th></th>\n",
       "      <th></th>\n",
       "      <th></th>\n",
       "      <th></th>\n",
       "      <th></th>\n",
       "      <th></th>\n",
       "      <th></th>\n",
       "      <th></th>\n",
       "      <th></th>\n",
       "      <th></th>\n",
       "      <th></th>\n",
       "    </tr>\n",
       "  </thead>\n",
       "  <tbody>\n",
       "    <tr>\n",
       "      <th>BRD-A00546892</th>\n",
       "      <td>0</td>\n",
       "      <td>0</td>\n",
       "      <td>0</td>\n",
       "      <td>0</td>\n",
       "      <td>0</td>\n",
       "      <td>0</td>\n",
       "      <td>0</td>\n",
       "      <td>0</td>\n",
       "      <td>0</td>\n",
       "      <td>0</td>\n",
       "      <td>...</td>\n",
       "      <td>0</td>\n",
       "      <td>0</td>\n",
       "      <td>0</td>\n",
       "      <td>0</td>\n",
       "      <td>0</td>\n",
       "      <td>0</td>\n",
       "      <td>0</td>\n",
       "      <td>0</td>\n",
       "      <td>0</td>\n",
       "      <td>0</td>\n",
       "    </tr>\n",
       "    <tr>\n",
       "      <th>BRD-A00827783</th>\n",
       "      <td>0</td>\n",
       "      <td>0</td>\n",
       "      <td>0</td>\n",
       "      <td>0</td>\n",
       "      <td>0</td>\n",
       "      <td>0</td>\n",
       "      <td>0</td>\n",
       "      <td>0</td>\n",
       "      <td>0</td>\n",
       "      <td>0</td>\n",
       "      <td>...</td>\n",
       "      <td>0</td>\n",
       "      <td>0</td>\n",
       "      <td>0</td>\n",
       "      <td>0</td>\n",
       "      <td>0</td>\n",
       "      <td>0</td>\n",
       "      <td>0</td>\n",
       "      <td>0</td>\n",
       "      <td>0</td>\n",
       "      <td>0</td>\n",
       "    </tr>\n",
       "    <tr>\n",
       "      <th>BRD-A01320529</th>\n",
       "      <td>0</td>\n",
       "      <td>0</td>\n",
       "      <td>0</td>\n",
       "      <td>0</td>\n",
       "      <td>0</td>\n",
       "      <td>0</td>\n",
       "      <td>0</td>\n",
       "      <td>0</td>\n",
       "      <td>0</td>\n",
       "      <td>0</td>\n",
       "      <td>...</td>\n",
       "      <td>0</td>\n",
       "      <td>0</td>\n",
       "      <td>0</td>\n",
       "      <td>0</td>\n",
       "      <td>0</td>\n",
       "      <td>0</td>\n",
       "      <td>0</td>\n",
       "      <td>0</td>\n",
       "      <td>0</td>\n",
       "      <td>0</td>\n",
       "    </tr>\n",
       "    <tr>\n",
       "      <th>BRD-A01636364</th>\n",
       "      <td>0</td>\n",
       "      <td>0</td>\n",
       "      <td>0</td>\n",
       "      <td>0</td>\n",
       "      <td>0</td>\n",
       "      <td>0</td>\n",
       "      <td>0</td>\n",
       "      <td>0</td>\n",
       "      <td>0</td>\n",
       "      <td>0</td>\n",
       "      <td>...</td>\n",
       "      <td>0</td>\n",
       "      <td>0</td>\n",
       "      <td>0</td>\n",
       "      <td>0</td>\n",
       "      <td>0</td>\n",
       "      <td>0</td>\n",
       "      <td>0</td>\n",
       "      <td>0</td>\n",
       "      <td>0</td>\n",
       "      <td>0</td>\n",
       "    </tr>\n",
       "    <tr>\n",
       "      <th>BRD-A01643550</th>\n",
       "      <td>0</td>\n",
       "      <td>1</td>\n",
       "      <td>0</td>\n",
       "      <td>0</td>\n",
       "      <td>0</td>\n",
       "      <td>0</td>\n",
       "      <td>0</td>\n",
       "      <td>0</td>\n",
       "      <td>0</td>\n",
       "      <td>0</td>\n",
       "      <td>...</td>\n",
       "      <td>0</td>\n",
       "      <td>0</td>\n",
       "      <td>0</td>\n",
       "      <td>0</td>\n",
       "      <td>0</td>\n",
       "      <td>0</td>\n",
       "      <td>0</td>\n",
       "      <td>0</td>\n",
       "      <td>0</td>\n",
       "      <td>0</td>\n",
       "    </tr>\n",
       "  </tbody>\n",
       "</table>\n",
       "<p>5 rows × 3165 columns</p>\n",
       "</div>"
      ],
      "text/plain": [
       "               Vulvovaginal disorder  Cardiac failure  Thalassaemia  \\\n",
       "pert_id                                                               \n",
       "BRD-A00546892                      0                0             0   \n",
       "BRD-A00827783                      0                0             0   \n",
       "BRD-A01320529                      0                0             0   \n",
       "BRD-A01636364                      0                0             0   \n",
       "BRD-A01643550                      0                1             0   \n",
       "\n",
       "               Peritoneal haemorrhage  Cardiac murmur  Judgement impaired  \\\n",
       "pert_id                                                                     \n",
       "BRD-A00546892                       0               0                   0   \n",
       "BRD-A00827783                       0               0                   0   \n",
       "BRD-A01320529                       0               0                   0   \n",
       "BRD-A01636364                       0               0                   0   \n",
       "BRD-A01643550                       0               0                   0   \n",
       "\n",
       "               Jaundice  Plasmodium falciparum infection  \\\n",
       "pert_id                                                    \n",
       "BRD-A00546892         0                                0   \n",
       "BRD-A00827783         0                                0   \n",
       "BRD-A01320529         0                                0   \n",
       "BRD-A01636364         0                                0   \n",
       "BRD-A01643550         0                                0   \n",
       "\n",
       "               Influenza like illness  Ingrown hair  \\\n",
       "pert_id                                               \n",
       "BRD-A00546892                       0             0   \n",
       "BRD-A00827783                       0             0   \n",
       "BRD-A01320529                       0             0   \n",
       "BRD-A01636364                       0             0   \n",
       "BRD-A01643550                       0             0   \n",
       "\n",
       "                         ...              Phobia  Rash maculo-papular  \\\n",
       "pert_id                  ...                                            \n",
       "BRD-A00546892            ...                   0                    0   \n",
       "BRD-A00827783            ...                   0                    0   \n",
       "BRD-A01320529            ...                   0                    0   \n",
       "BRD-A01636364            ...                   0                    0   \n",
       "BRD-A01643550            ...                   0                    0   \n",
       "\n",
       "               Oesophageal candidiasis  Blepharitis  \\\n",
       "pert_id                                               \n",
       "BRD-A00546892                        0            0   \n",
       "BRD-A00827783                        0            0   \n",
       "BRD-A01320529                        0            0   \n",
       "BRD-A01636364                        0            0   \n",
       "BRD-A01643550                        0            0   \n",
       "\n",
       "               Muscle contractions involuntary  Echolalia  Dysplasia  \\\n",
       "pert_id                                                                \n",
       "BRD-A00546892                                0          0          0   \n",
       "BRD-A00827783                                0          0          0   \n",
       "BRD-A01320529                                0          0          0   \n",
       "BRD-A01636364                                0          0          0   \n",
       "BRD-A01643550                                0          0          0   \n",
       "\n",
       "               Hypermagnesaemia  Ileus  Blood bilirubin increased  \n",
       "pert_id                                                            \n",
       "BRD-A00546892                 0      0                          0  \n",
       "BRD-A00827783                 0      0                          0  \n",
       "BRD-A01320529                 0      0                          0  \n",
       "BRD-A01636364                 0      0                          0  \n",
       "BRD-A01643550                 0      0                          0  \n",
       "\n",
       "[5 rows x 3165 columns]"
      ]
     },
     "execution_count": 12,
     "metadata": {},
     "output_type": "execute_result"
    }
   ],
   "source": [
    "sider_df.head()"
   ]
  },
  {
   "cell_type": "markdown",
   "metadata": {},
   "source": [
    "## 1.4. Find drugs/compounds that are shared among the three datasets"
   ]
  },
  {
   "cell_type": "code",
   "execution_count": 13,
   "metadata": {},
   "outputs": [],
   "source": [
    "# !pip install --user matplotlib-venn"
   ]
  },
  {
   "cell_type": "code",
   "execution_count": 14,
   "metadata": {},
   "outputs": [],
   "source": [
    "from matplotlib_venn import venn3, venn2"
   ]
  },
  {
   "cell_type": "code",
   "execution_count": 15,
   "metadata": {},
   "outputs": [
    {
     "data": {
      "image/png": "[encoded data removed]",
      "text/plain": [
       "<Figure size 432x288 with 1 Axes>"
      ]
     },
     "metadata": {},
     "output_type": "display_data"
    }
   ],
   "source": [
    "venn3([set(sig_info_df.pert_id), set(drugs_fp_df.index), set(sider_df.index)],\n",
    "      ('L1000', 'Chemical fingerprint', 'SIDER')\n",
    "     );"
   ]
  },
  {
   "cell_type": "code",
   "execution_count": 16,
   "metadata": {},
   "outputs": [
    {
     "data": {
      "image/png": "[encoded data removed]",
      "text/plain": [
       "<Figure size 432x288 with 1 Axes>"
      ]
     },
     "metadata": {},
     "output_type": "display_data"
    }
   ],
   "source": [
    "venn2([set(sig_info_df.pert_id), set(sider_df.index)],\n",
    "      ('L1000', 'SIDER')\n",
    "     );"
   ]
  },
  {
   "cell_type": "code",
   "execution_count": 17,
   "metadata": {},
   "outputs": [
    {
     "name": "stdout",
     "output_type": "stream",
     "text": [
      "765\n"
     ]
    }
   ],
   "source": [
    "shared_drugs = set(sig_info_df.pert_id) & set(drugs_fp_df.index) & set(sider_df.index)\n",
    "shared_drugs = sorted(shared_drugs)\n",
    "print(len(shared_drugs))"
   ]
  },
  {
   "cell_type": "code",
   "execution_count": 18,
   "metadata": {},
   "outputs": [
    {
     "data": {
      "text/plain": [
       "(2723, 11)"
      ]
     },
     "execution_count": 18,
     "metadata": {},
     "output_type": "execute_result"
    }
   ],
   "source": [
    "# Subset metadata with the shared drugs\n",
    "sig_info_df = sig_info_df.loc[sig_info_df['pert_id'].isin(shared_drugs)]\n",
    "sig_info_df.shape"
   ]
  },
  {
   "cell_type": "code",
   "execution_count": 19,
   "metadata": {},
   "outputs": [
    {
     "data": {
      "text/plain": [
       "(2723, 978)"
      ]
     },
     "execution_count": 19,
     "metadata": {},
     "output_type": "execute_result"
    }
   ],
   "source": [
    "# Retrieve L1000 signatures from the level 5 data\n",
    "X_L1000 = gctx_utils.slice_matrix(gctx5, rids=LM_GENE_IDS, \n",
    "                                  cids=sig_info_df.index.values.astype(np.str))\n",
    "X_L1000.shape"
   ]
  },
  {
   "cell_type": "code",
   "execution_count": 20,
   "metadata": {},
   "outputs": [
    {
     "data": {
      "text/plain": [
       "(2723, 50)"
      ]
     },
     "execution_count": 20,
     "metadata": {},
     "output_type": "execute_result"
    }
   ],
   "source": [
    "# Use PCA to reduce the dimensions of the gene expression signatures\n",
    "pca = decomposition.PCA(n_components=50)\n",
    "X_L1000_pca = pca.fit_transform(X_L1000)\n",
    "X_L1000_pca.shape"
   ]
  },
  {
   "cell_type": "code",
   "execution_count": 21,
   "metadata": {},
   "outputs": [
    {
     "data": {
      "image/png": "[encoded data removed]",
      "text/plain": [
       "<Figure size 432x288 with 1 Axes>"
      ]
     },
     "metadata": {},
     "output_type": "display_data"
    }
   ],
   "source": [
    "plt.imshow(X_L1000_pca, aspect='auto')\n",
    "plt.ylabel('Signatures')\n",
    "plt.xlabel('PCs of landmark genes');"
   ]
  },
  {
   "cell_type": "code",
   "execution_count": 22,
   "metadata": {},
   "outputs": [
    {
     "data": {
      "text/plain": [
       "(2723, 154)"
      ]
     },
     "execution_count": 22,
     "metadata": {},
     "output_type": "execute_result"
    }
   ],
   "source": [
    "# Subset chemical fingerprint matrix\n",
    "X_CS = drugs_fp_df.loc[sig_info_df['pert_id']].values\n",
    "# remove zero features\n",
    "X_CS = X_CS[:, X_CS.sum(axis=0) > 0]\n",
    "X_CS.shape"
   ]
  },
  {
   "cell_type": "code",
   "execution_count": 23,
   "metadata": {},
   "outputs": [
    {
     "data": {
      "image/png": "[encoded data removed]",
      "text/plain": [
       "<Figure size 432x288 with 1 Axes>"
      ]
     },
     "metadata": {},
     "output_type": "display_data"
    }
   ],
   "source": [
    "plt.imshow(X_CS, aspect='auto', cmap='binary');\n",
    "plt.ylabel('Drugs/Chemical compounds')\n",
    "plt.xlabel('MACCS substructures');"
   ]
  },
  {
   "cell_type": "code",
   "execution_count": 24,
   "metadata": {},
   "outputs": [],
   "source": [
    "pca = decomposition.TruncatedSVD(n_components=50)\n",
    "X_CS_pca = pca.fit_transform(X_CS)"
   ]
  },
  {
   "cell_type": "code",
   "execution_count": 25,
   "metadata": {},
   "outputs": [
    {
     "data": {
      "text/plain": [
       "(2723, 3165)"
      ]
     },
     "execution_count": 25,
     "metadata": {},
     "output_type": "execute_result"
    }
   ],
   "source": [
    "# Subset SIDER matrix\n",
    "Y = sider_df.loc[sig_info_df['pert_id']].values\n",
    "Y.shape"
   ]
  },
  {
   "cell_type": "code",
   "execution_count": 26,
   "metadata": {},
   "outputs": [
    {
     "data": {
      "image/png": "[encoded data removed]",
      "text/plain": [
       "<Figure size 432x288 with 1 Axes>"
      ]
     },
     "metadata": {},
     "output_type": "display_data"
    }
   ],
   "source": [
    "plt.imshow(Y, aspect='auto', cmap='binary')\n",
    "plt.ylabel('Drugs')\n",
    "plt.xlabel('ADRs');"
   ]
  },
  {
   "cell_type": "code",
   "execution_count": 27,
   "metadata": {},
   "outputs": [
    {
     "data": {
      "image/png": "[encoded data removed]",
      "text/plain": [
       "<Figure size 432x288 with 1 Axes>"
      ]
     },
     "metadata": {},
     "output_type": "display_data"
    }
   ],
   "source": [
    "# Examine label (ADR) frequencies\n",
    "freqs_ADR = Y.mean(axis=0)\n",
    "plt.hist(freqs_ADR, bins=25, log=True)\n",
    "plt.xlabel('ADR frequency');"
   ]
  },
  {
   "cell_type": "code",
   "execution_count": 28,
   "metadata": {},
   "outputs": [
    {
     "data": {
      "text/html": [
       "<div>\n",
       "<style scoped>\n",
       "    .dataframe tbody tr th:only-of-type {\n",
       "        vertical-align: middle;\n",
       "    }\n",
       "\n",
       "    .dataframe tbody tr th {\n",
       "        vertical-align: top;\n",
       "    }\n",
       "\n",
       "    .dataframe thead th {\n",
       "        text-align: right;\n",
       "    }\n",
       "</style>\n",
       "<table border=\"1\" class=\"dataframe\">\n",
       "  <thead>\n",
       "    <tr style=\"text-align: right;\">\n",
       "      <th></th>\n",
       "      <th>frequency</th>\n",
       "    </tr>\n",
       "  </thead>\n",
       "  <tbody>\n",
       "    <tr>\n",
       "      <th>Nausea</th>\n",
       "      <td>0.874770</td>\n",
       "    </tr>\n",
       "    <tr>\n",
       "      <th>Rash</th>\n",
       "      <td>0.854939</td>\n",
       "    </tr>\n",
       "    <tr>\n",
       "      <th>Vomiting</th>\n",
       "      <td>0.827029</td>\n",
       "    </tr>\n",
       "    <tr>\n",
       "      <th>Headache</th>\n",
       "      <td>0.791039</td>\n",
       "    </tr>\n",
       "    <tr>\n",
       "      <th>Pain</th>\n",
       "      <td>0.762027</td>\n",
       "    </tr>\n",
       "    <tr>\n",
       "      <th>Diarrhoea</th>\n",
       "      <td>0.742196</td>\n",
       "    </tr>\n",
       "    <tr>\n",
       "      <th>Oedema</th>\n",
       "      <td>0.723467</td>\n",
       "    </tr>\n",
       "    <tr>\n",
       "      <th>Dizziness</th>\n",
       "      <td>0.719427</td>\n",
       "    </tr>\n",
       "    <tr>\n",
       "      <th>Pruritus</th>\n",
       "      <td>0.710981</td>\n",
       "    </tr>\n",
       "    <tr>\n",
       "      <th>Hypersensitivity</th>\n",
       "      <td>0.651855</td>\n",
       "    </tr>\n",
       "  </tbody>\n",
       "</table>\n",
       "</div>"
      ],
      "text/plain": [
       "                  frequency\n",
       "Nausea             0.874770\n",
       "Rash               0.854939\n",
       "Vomiting           0.827029\n",
       "Headache           0.791039\n",
       "Pain               0.762027\n",
       "Diarrhoea          0.742196\n",
       "Oedema             0.723467\n",
       "Dizziness          0.719427\n",
       "Pruritus           0.710981\n",
       "Hypersensitivity   0.651855"
      ]
     },
     "execution_count": 28,
     "metadata": {},
     "output_type": "execute_result"
    }
   ],
   "source": [
    "# Examine frequent ADRs\n",
    "ADRs_freq_df = pd.DataFrame({'frequency': freqs_ADR}, \n",
    "                            index=sider_df.columns)\n",
    "\n",
    "ADRs_freq_df.sort_values('frequency', ascending=False).head(10)"
   ]
  },
  {
   "cell_type": "code",
   "execution_count": 29,
   "metadata": {},
   "outputs": [
    {
     "data": {
      "text/html": [
       "<div>\n",
       "<style scoped>\n",
       "    .dataframe tbody tr th:only-of-type {\n",
       "        vertical-align: middle;\n",
       "    }\n",
       "\n",
       "    .dataframe tbody tr th {\n",
       "        vertical-align: top;\n",
       "    }\n",
       "\n",
       "    .dataframe thead th {\n",
       "        text-align: right;\n",
       "    }\n",
       "</style>\n",
       "<table border=\"1\" class=\"dataframe\">\n",
       "  <thead>\n",
       "    <tr style=\"text-align: right;\">\n",
       "      <th></th>\n",
       "      <th>frequency</th>\n",
       "    </tr>\n",
       "  </thead>\n",
       "  <tbody>\n",
       "    <tr>\n",
       "      <th>Brain abscess</th>\n",
       "      <td>0.000367</td>\n",
       "    </tr>\n",
       "    <tr>\n",
       "      <th>Hepatoblastoma</th>\n",
       "      <td>0.000367</td>\n",
       "    </tr>\n",
       "    <tr>\n",
       "      <th>Serum sickness-like reaction</th>\n",
       "      <td>0.000367</td>\n",
       "    </tr>\n",
       "    <tr>\n",
       "      <th>Ear pruritus</th>\n",
       "      <td>0.000367</td>\n",
       "    </tr>\n",
       "    <tr>\n",
       "      <th>Ovarian neoplasm</th>\n",
       "      <td>0.000367</td>\n",
       "    </tr>\n",
       "    <tr>\n",
       "      <th>Haemorrhagic anaemia</th>\n",
       "      <td>0.000367</td>\n",
       "    </tr>\n",
       "    <tr>\n",
       "      <th>Renal cell carcinoma</th>\n",
       "      <td>0.000367</td>\n",
       "    </tr>\n",
       "    <tr>\n",
       "      <th>Tooth deposit</th>\n",
       "      <td>0.000367</td>\n",
       "    </tr>\n",
       "    <tr>\n",
       "      <th>Ovarian germ cell teratoma benign</th>\n",
       "      <td>0.000367</td>\n",
       "    </tr>\n",
       "    <tr>\n",
       "      <th>Hypercoagulation</th>\n",
       "      <td>0.000367</td>\n",
       "    </tr>\n",
       "  </tbody>\n",
       "</table>\n",
       "</div>"
      ],
      "text/plain": [
       "                                   frequency\n",
       "Brain abscess                       0.000367\n",
       "Hepatoblastoma                      0.000367\n",
       "Serum sickness-like reaction        0.000367\n",
       "Ear pruritus                        0.000367\n",
       "Ovarian neoplasm                    0.000367\n",
       "Haemorrhagic anaemia                0.000367\n",
       "Renal cell carcinoma                0.000367\n",
       "Tooth deposit                       0.000367\n",
       "Ovarian germ cell teratoma benign   0.000367\n",
       "Hypercoagulation                    0.000367"
      ]
     },
     "execution_count": 29,
     "metadata": {},
     "output_type": "execute_result"
    }
   ],
   "source": [
    "# Examine infrequent ADRs\n",
    "ADRs_freq_df.query('frequency > 0').sort_values('frequency').head(10)"
   ]
  },
  {
   "cell_type": "code",
   "execution_count": 30,
   "metadata": {},
   "outputs": [
    {
     "data": {
      "text/plain": [
       "(2723, 143)"
      ]
     },
     "execution_count": 30,
     "metadata": {},
     "output_type": "execute_result"
    }
   ],
   "source": [
    "# Exclude ADRs that are too infrequent or frequent\n",
    "mask_ADR_to_predict = (freqs_ADR > 0.2) & (freqs_ADR < 0.7)\n",
    "\n",
    "Y = Y[:, mask_ADR_to_predict]\n",
    "Y.shape"
   ]
  },
  {
   "cell_type": "code",
   "execution_count": 31,
   "metadata": {},
   "outputs": [
    {
     "data": {
      "image/png": "[encoded data removed]",
      "text/plain": [
       "<Figure size 432x288 with 1 Axes>"
      ]
     },
     "metadata": {},
     "output_type": "display_data"
    }
   ],
   "source": [
    "plt.imshow(Y, aspect='auto', cmap='binary');\n",
    "plt.ylabel('Drugs')\n",
    "plt.xlabel('ADRs');"
   ]
  },
  {
   "cell_type": "markdown",
   "metadata": {},
   "source": [
    "---\n",
    "# 2. Train and validate multi-label classification models to predict ADRs"
   ]
  },
  {
   "cell_type": "code",
   "execution_count": 32,
   "metadata": {},
   "outputs": [],
   "source": [
    "from skmultilearn.problem_transform import BinaryRelevance, ClassifierChain\n",
    "from skmultilearn.ensemble import RakelD\n",
    "from sklearn import linear_model, ensemble, metrics\n",
    "from sklearn.model_selection import GroupKFold\n",
    "from joblib import Parallel, delayed"
   ]
  },
  {
   "cell_type": "code",
   "execution_count": 33,
   "metadata": {},
   "outputs": [],
   "source": [
    "def _fit_and_predict_probas(clf, X, Y, train_idx, valid_idx):\n",
    "    clf.fit(X[train_idx], Y[train_idx])\n",
    "    probas = clf.predict_proba(X[valid_idx])\n",
    "    if type(probas) != np.ndarray:\n",
    "        probas = probas.toarray()\n",
    "    return probas\n",
    "\n",
    "def cross_validate_ml_clf(ml_clf, cv, X, Y, groups, n_jobs=1):\n",
    "    '''\n",
    "    Perform cross validation for a ml-classifier on data and return evaluation metrics.\n",
    "    @params:\n",
    "        ml_clf: multi-label classifier\n",
    "        cv: a cross-validation object\n",
    "        X: data matrix (instances x features)\n",
    "        Y: target matrix (instances x labels)\n",
    "        groups: the same group (signatures of the same compound) will not appear \n",
    "            in two different folds to avoid over-estimation of predictive performance.\n",
    "    '''\n",
    "\n",
    "    scores_df = pd.DataFrame(columns=['hamming_loss', 'accuracy', 'F1'])\n",
    "    label_aurocs = np.zeros(Y.shape[1])    \n",
    "    \n",
    "    parallel = Parallel(n_jobs=n_jobs, verbose=0)\n",
    "    Y_valid_probas_list = parallel(delayed(_fit_and_predict_probas)(\n",
    "        ml_clf, X, Y, train_idx, valid_idx) \n",
    "                              for train_idx, valid_idx in cv.split(X, Y, groups))\n",
    "        \n",
    "    i = 0\n",
    "    for train_idx, valid_idx in cv.split(X, Y, groups):\n",
    "        Y_valid_proba = Y_valid_probas_list[i]\n",
    "        Y_valid_pred = (Y_valid_proba > 0.5).astype(np.int)\n",
    "        \n",
    "        hamming_loss = metrics.hamming_loss(Y[valid_idx], Y_valid_pred)\n",
    "        acc = metrics.accuracy_score(Y[valid_idx].ravel(), Y_valid_pred.ravel())\n",
    "        f1 = metrics.f1_score(Y[valid_idx], Y_valid_pred, average='micro') # micro-F1\n",
    "        print('Fold %d, hamming loss=%.4f, accuracy=%.4f, F1=%.4f'% (i, hamming_loss, acc, f1))\n",
    "        scores_df.loc[i] = [hamming_loss, acc, f1]\n",
    "\n",
    "        # Per-label AUROC scores        \n",
    "        aurocs = metrics.roc_auc_score(Y[valid_idx], Y_valid_proba, average=None)\n",
    "        label_aurocs += aurocs / cv.n_splits\n",
    "        i += 1\n",
    "\n",
    "    return scores_df, label_aurocs"
   ]
  },
  {
   "cell_type": "code",
   "execution_count": 34,
   "metadata": {},
   "outputs": [],
   "source": [
    "# Set up cross-validation iterator\n",
    "cv = GroupKFold(n_splits=3)"
   ]
  },
  {
   "cell_type": "markdown",
   "metadata": {},
   "source": [
    "## 2.1. Examine the performance of a few multi-label classification algorithms\n",
    "\n",
    "A simple single-label Random Forest classifier is used as the base classifier for the following multi-label algorithms:\n",
    "\n",
    "- Binary Relevance (BR)\n",
    "- Classifier Chain (CC)\n",
    "- Distinct RAndom k-labELsets multi-label classifier (RAkELd)"
   ]
  },
  {
   "cell_type": "code",
   "execution_count": 35,
   "metadata": {},
   "outputs": [],
   "source": [
    "rf = ensemble.RandomForestClassifier(n_estimators=10)\n",
    "br_rf = BinaryRelevance(\n",
    "    classifier=rf\n",
    ")"
   ]
  },
  {
   "cell_type": "code",
   "execution_count": 36,
   "metadata": {},
   "outputs": [
    {
     "name": "stdout",
     "output_type": "stream",
     "text": [
      "Fold 0, hamming loss=0.3448, accuracy=0.6552, F1=0.3375\n",
      "Fold 1, hamming loss=0.3329, accuracy=0.6671, F1=0.3526\n",
      "Fold 2, hamming loss=0.3562, accuracy=0.6438, F1=0.3480\n"
     ]
    }
   ],
   "source": [
    "scores_df, label_aurocs = cross_validate_ml_clf(br_rf, cv, X_L1000_pca, Y, \n",
    "                                                groups=sig_info_df.pert_id, \n",
    "                                               n_jobs=3)"
   ]
  },
  {
   "cell_type": "code",
   "execution_count": 37,
   "metadata": {},
   "outputs": [],
   "source": [
    "cc_rf = ClassifierChain(\n",
    "    classifier=rf\n",
    ")"
   ]
  },
  {
   "cell_type": "code",
   "execution_count": 38,
   "metadata": {},
   "outputs": [
    {
     "name": "stdout",
     "output_type": "stream",
     "text": [
      "Fold 0, hamming loss=0.3471, accuracy=0.6529, F1=0.1013\n",
      "Fold 1, hamming loss=0.3229, accuracy=0.6771, F1=0.1326\n",
      "Fold 2, hamming loss=0.3631, accuracy=0.6369, F1=0.1120\n"
     ]
    }
   ],
   "source": [
    "scores_df2, label_aurocs2 = cross_validate_ml_clf(cc_rf, cv, X_L1000_pca, Y,\n",
    "                                                 groups=sig_info_df.pert_id,\n",
    "                                                 n_jobs=3)"
   ]
  },
  {
   "cell_type": "code",
   "execution_count": 39,
   "metadata": {},
   "outputs": [],
   "source": [
    "rakeld = RakelD(base_classifier=rf,\n",
    "               base_classifier_require_dense=[True, True],\n",
    "               labelset_size=3)"
   ]
  },
  {
   "cell_type": "code",
   "execution_count": 40,
   "metadata": {},
   "outputs": [
    {
     "name": "stdout",
     "output_type": "stream",
     "text": [
      "Fold 0, hamming loss=0.3424, accuracy=0.6576, F1=0.3357\n",
      "Fold 1, hamming loss=0.3283, accuracy=0.6717, F1=0.3546\n",
      "Fold 2, hamming loss=0.3529, accuracy=0.6471, F1=0.3440\n"
     ]
    }
   ],
   "source": [
    "scores_df3, label_aurocs3 = cross_validate_ml_clf(rakeld, cv, X_L1000_pca, Y,\n",
    "                                                 groups=sig_info_df.pert_id,\n",
    "                                                 n_jobs=3)"
   ]
  },
  {
   "cell_type": "code",
   "execution_count": 41,
   "metadata": {},
   "outputs": [
    {
     "data": {
      "image/png": "[encoded data removed]",
      "text/plain": [
       "<Figure size 432x288 with 1 Axes>"
      ]
     },
     "metadata": {},
     "output_type": "display_data"
    }
   ],
   "source": [
    "ax = sns.violinplot(data=pd.DataFrame({'BR(RF)': label_aurocs, \n",
    "                                  'CC(RF)': label_aurocs2,\n",
    "                                  'RAkELd(RF)': label_aurocs3,                                       \n",
    "                                 }))\n",
    "ax.set_ylabel('AUROC');"
   ]
  },
  {
   "cell_type": "markdown",
   "metadata": {},
   "source": [
    "## 2.2. Cross-validate classifier on different subset of features \n",
    "\n",
    "The following features are used for multi-label prediction of ADRs:\n",
    "- L1000 signatures alone\n",
    "- chemical fingerprints alone\n",
    "- combining L1000 + chemical fingerprints"
   ]
  },
  {
   "cell_type": "code",
   "execution_count": 42,
   "metadata": {},
   "outputs": [
    {
     "name": "stdout",
     "output_type": "stream",
     "text": [
      "Fold 0, hamming loss=0.3435, accuracy=0.6565, F1=0.3425\n",
      "Fold 1, hamming loss=0.3339, accuracy=0.6661, F1=0.3527\n",
      "Fold 2, hamming loss=0.3561, accuracy=0.6439, F1=0.3478\n"
     ]
    }
   ],
   "source": [
    "rf = ensemble.RandomForestClassifier(n_estimators=10)\n",
    "br_rf = BinaryRelevance(\n",
    "    classifier=rf\n",
    ")\n",
    "\n",
    "scores_df_GE, aurocs_GE = cross_validate_ml_clf(br_rf, cv, X_L1000_pca, Y, \n",
    "                                                groups=sig_info_df.pert_id,\n",
    "                                                n_jobs=3)\n"
   ]
  },
  {
   "cell_type": "code",
   "execution_count": 43,
   "metadata": {},
   "outputs": [
    {
     "name": "stdout",
     "output_type": "stream",
     "text": [
      "Fold 0, hamming loss=0.3075, accuracy=0.6925, F1=0.4129\n",
      "Fold 1, hamming loss=0.2742, accuracy=0.7258, F1=0.4714\n",
      "Fold 2, hamming loss=0.2738, accuracy=0.7262, F1=0.5243\n"
     ]
    }
   ],
   "source": [
    "scores_df_CS, aurocs_CS = cross_validate_ml_clf(br_rf, cv, X_CS_pca, Y, \n",
    "                                                groups=sig_info_df.pert_id,\n",
    "                                                n_jobs=3)"
   ]
  },
  {
   "cell_type": "code",
   "execution_count": 44,
   "metadata": {},
   "outputs": [
    {
     "name": "stdout",
     "output_type": "stream",
     "text": [
      "Fold 0, hamming loss=0.3096, accuracy=0.6904, F1=0.4029\n",
      "Fold 1, hamming loss=0.2766, accuracy=0.7234, F1=0.4594\n",
      "Fold 2, hamming loss=0.2808, accuracy=0.7192, F1=0.5031\n"
     ]
    }
   ],
   "source": [
    "scores_df_GECS, aurocs_GECS = cross_validate_ml_clf(br_rf, cv, np.hstack((X_L1000_pca, X_CS_pca)), Y,\n",
    "                                                    groups=sig_info_df.pert_id,\n",
    "                                                    n_jobs=3)"
   ]
  },
  {
   "cell_type": "code",
   "execution_count": 45,
   "metadata": {},
   "outputs": [
    {
     "data": {
      "image/png": "[encoded data removed]",
      "text/plain": [
       "<Figure size 432x288 with 1 Axes>"
      ]
     },
     "metadata": {},
     "output_type": "display_data"
    }
   ],
   "source": [
    "ax = sns.violinplot(data=pd.DataFrame({'GE': aurocs_GE, \n",
    "                                  'CS': aurocs_CS,\n",
    "                                  'GE + CS': aurocs_GECS,\n",
    "                                 }))\n",
    "ax.set_ylabel('AUROC');"
   ]
  },
  {
   "cell_type": "code",
   "execution_count": 46,
   "metadata": {},
   "outputs": [
    {
     "data": {
      "text/html": [
       "<div>\n",
       "<style scoped>\n",
       "    .dataframe tbody tr th:only-of-type {\n",
       "        vertical-align: middle;\n",
       "    }\n",
       "\n",
       "    .dataframe tbody tr th {\n",
       "        vertical-align: top;\n",
       "    }\n",
       "\n",
       "    .dataframe thead th {\n",
       "        text-align: right;\n",
       "    }\n",
       "</style>\n",
       "<table border=\"1\" class=\"dataframe\">\n",
       "  <thead>\n",
       "    <tr style=\"text-align: right;\">\n",
       "      <th></th>\n",
       "      <th>auroc</th>\n",
       "    </tr>\n",
       "  </thead>\n",
       "  <tbody>\n",
       "    <tr>\n",
       "      <th>Vasculitis</th>\n",
       "      <td>0.748993</td>\n",
       "    </tr>\n",
       "    <tr>\n",
       "      <th>Pancytopenia</th>\n",
       "      <td>0.738387</td>\n",
       "    </tr>\n",
       "    <tr>\n",
       "      <th>Agranulocytosis</th>\n",
       "      <td>0.736390</td>\n",
       "    </tr>\n",
       "    <tr>\n",
       "      <th>Orthostatic hypotension</th>\n",
       "      <td>0.733864</td>\n",
       "    </tr>\n",
       "    <tr>\n",
       "      <th>Aspartate aminotransferase increased</th>\n",
       "      <td>0.727967</td>\n",
       "    </tr>\n",
       "  </tbody>\n",
       "</table>\n",
       "</div>"
      ],
      "text/plain": [
       "                                         auroc\n",
       "Vasculitis                            0.748993\n",
       "Pancytopenia                          0.738387\n",
       "Agranulocytosis                       0.736390\n",
       "Orthostatic hypotension               0.733864\n",
       "Aspartate aminotransferase increased  0.727967"
      ]
     },
     "execution_count": 46,
     "metadata": {},
     "output_type": "execute_result"
    }
   ],
   "source": [
    "auroc_df = pd.DataFrame({'auroc': aurocs_GECS}, index=sider_df.columns[mask_ADR_to_predict])\n",
    "# Most predictable ADRs\n",
    "auroc_df.sort_values('auroc', ascending=False).head()"
   ]
  },
  {
   "cell_type": "code",
   "execution_count": 47,
   "metadata": {},
   "outputs": [
    {
     "data": {
      "text/html": [
       "<div>\n",
       "<style scoped>\n",
       "    .dataframe tbody tr th:only-of-type {\n",
       "        vertical-align: middle;\n",
       "    }\n",
       "\n",
       "    .dataframe tbody tr th {\n",
       "        vertical-align: top;\n",
       "    }\n",
       "\n",
       "    .dataframe thead th {\n",
       "        text-align: right;\n",
       "    }\n",
       "</style>\n",
       "<table border=\"1\" class=\"dataframe\">\n",
       "  <thead>\n",
       "    <tr style=\"text-align: right;\">\n",
       "      <th></th>\n",
       "      <th>auroc</th>\n",
       "    </tr>\n",
       "  </thead>\n",
       "  <tbody>\n",
       "    <tr>\n",
       "      <th>Dry skin</th>\n",
       "      <td>0.572622</td>\n",
       "    </tr>\n",
       "    <tr>\n",
       "      <th>Swelling</th>\n",
       "      <td>0.587881</td>\n",
       "    </tr>\n",
       "    <tr>\n",
       "      <th>Hypoaesthesia</th>\n",
       "      <td>0.588497</td>\n",
       "    </tr>\n",
       "    <tr>\n",
       "      <th>Hypokalaemia</th>\n",
       "      <td>0.599312</td>\n",
       "    </tr>\n",
       "    <tr>\n",
       "      <th>Hyperglycaemia</th>\n",
       "      <td>0.607684</td>\n",
       "    </tr>\n",
       "  </tbody>\n",
       "</table>\n",
       "</div>"
      ],
      "text/plain": [
       "                   auroc\n",
       "Dry skin        0.572622\n",
       "Swelling        0.587881\n",
       "Hypoaesthesia   0.588497\n",
       "Hypokalaemia    0.599312\n",
       "Hyperglycaemia  0.607684"
      ]
     },
     "execution_count": 47,
     "metadata": {},
     "output_type": "execute_result"
    }
   ],
   "source": [
    "# Least predictable ADRs\n",
    "auroc_df.sort_values('auroc').head()"
   ]
  },
  {
   "cell_type": "markdown",
   "metadata": {},
   "source": [
    "---\n",
    "# 3. Other use cases of this workflow\n",
    "\n",
    "- Predicting other attributes of drugs and small molecules:\n",
    "    + Indications\n",
    "    + Targets\n",
    "    + MOAs\n",
    "- Predicting attributes for genes using the L1000 KD/OE/CRISPR gene signatures\n",
    "    + Pathways\n",
    "    + Functions\n",
    "    + KO Mouse phenotypes "
   ]
  },
  {
   "cell_type": "code",
   "execution_count": null,
   "metadata": {},
   "outputs": [],
   "source": []
  }
 ],
 "metadata": {
  "kernelspec": {
   "display_name": "Python 3",
   "language": "python",
   "name": "python3"
  },
  "language_info": {
   "codemirror_mode": {
    "name": "ipython",
    "version": 3
   },
   "file_extension": ".py",
   "mimetype": "text/x-python",
   "name": "python",
   "nbconvert_exporter": "python",
   "pygments_lexer": "ipython3",
   "version": "3.6.5"
  }
 },
 "nbformat": 4,
 "nbformat_minor": 2
}
