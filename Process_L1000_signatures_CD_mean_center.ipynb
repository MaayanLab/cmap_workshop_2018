{
 "cells": [
  {
   "cell_type": "code",
   "execution_count": 1,
   "metadata": {
    "collapsed": true
   },
   "outputs": [],
   "source": [
    "from __future__ import print_function, division\n",
    "import os, sys\n",
    "import h5py\n",
    "import numpy as np\n",
    "import pandas as pd\n",
    "from joblib import Parallel, delayed\n",
    "\n",
    "%matplotlib inline\n",
    "import seaborn as sns\n",
    "sns.set(context='talk', style='whitegrid')"
   ]
  },
  {
   "cell_type": "code",
   "execution_count": 2,
   "metadata": {
    "collapsed": true
   },
   "outputs": [],
   "source": [
    "import gctx_utils\n",
    "import geode"
   ]
  },
  {
   "cell_type": "markdown",
   "metadata": {},
   "source": [
    "## Load gene_meta, sig_meta and inst_meta"
   ]
  },
  {
   "cell_type": "code",
   "execution_count": 3,
   "metadata": {},
   "outputs": [
    {
     "name": "stdout",
     "output_type": "stream",
     "text": [
      "(12328, 4)\n"
     ]
    }
   ],
   "source": [
    "gene_info_df = pd.read_csv('data/GSE92742_Broad_LINCS_gene_info.txt.gz', \n",
    "                           compression='gzip',\n",
    "                          sep='\\t')\n",
    "gene_info_df.set_index(gene_info_df.columns[0], inplace=True)\n",
    "gene_info_df.index = gene_info_df.index.astype(str)\n",
    "print(gene_info_df.shape)\n"
   ]
  },
  {
   "cell_type": "code",
   "execution_count": 4,
   "metadata": {},
   "outputs": [
    {
     "name": "stdout",
     "output_type": "stream",
     "text": [
      "978\n"
     ]
    }
   ],
   "source": [
    "LM_GENE_IDS = gene_info_df.query('pr_is_lm == 1').index\n",
    "print(len(LM_GENE_IDS))"
   ]
  },
  {
   "cell_type": "code",
   "execution_count": 5,
   "metadata": {},
   "outputs": [
    {
     "name": "stdout",
     "output_type": "stream",
     "text": [
      "(1319138, 10)\n"
     ]
    },
    {
     "name": "stderr",
     "output_type": "stream",
     "text": [
      "/usr/local/lib/python2.7/dist-packages/IPython/core/interactiveshell.py:2871: DtypeWarning: Columns (7) have mixed types. Specify dtype option on import or set low_memory=False.\n",
      "  interactivity=interactivity, compiler=compiler, result=result)\n"
     ]
    }
   ],
   "source": [
    "inst_info_df = pd.read_csv('data/GSE92742_Broad_LINCS_inst_info.txt.gz', \n",
    "                          compression='gzip',\n",
    "                          sep='\\t')\n",
    "inst_info_df.set_index(inst_info_df.columns[0], inplace=True)\n",
    "print(inst_info_df.shape)"
   ]
  },
  {
   "cell_type": "code",
   "execution_count": 6,
   "metadata": {},
   "outputs": [
    {
     "name": "stdout",
     "output_type": "stream",
     "text": [
      "(96014, 10)\n"
     ]
    }
   ],
   "source": [
    "# Keep trt_cp and ctl_vehicle\n",
    "inst_info_df = inst_info_df.loc[inst_info_df['pert_type'].isin(['trt_cp', 'ctl_vehicle'])]\\\n",
    "    .query('cell_id == \"PC3\"')\n",
    "# keep PC3 \n",
    "print(inst_info_df.shape)"
   ]
  },
  {
   "cell_type": "code",
   "execution_count": 7,
   "metadata": {
    "collapsed": true
   },
   "outputs": [],
   "source": [
    "# Extract batch and det_plate from the instance_id\n",
    "inst_info_df['batch'] = inst_info_df['rna_plate'].map(lambda x: '_'.join(x.split('_')[:3]))\n",
    "inst_info_df['det_plate'] = inst_info_df.index.map(lambda x: x.split(':')[0])"
   ]
  },
  {
   "cell_type": "code",
   "execution_count": 8,
   "metadata": {},
   "outputs": [
    {
     "name": "stderr",
     "output_type": "stream",
     "text": [
      "/usr/local/lib/python2.7/dist-packages/IPython/core/interactiveshell.py:2871: DtypeWarning: Columns (5) have mixed types. Specify dtype option on import or set low_memory=False.\n",
      "  interactivity=interactivity, compiler=compiler, result=result)\n"
     ]
    },
    {
     "data": {
      "text/plain": [
       "(473647, 11)"
      ]
     },
     "execution_count": 8,
     "metadata": {},
     "output_type": "execute_result"
    }
   ],
   "source": [
    "sig_info_df = pd.read_csv('data/GSE92742_Broad_LINCS_sig_info.txt.gz', \n",
    "                          compression='gzip',\n",
    "                          sep='\\t')\n",
    "sig_info_df = sig_info_df.set_index('sig_id')\n",
    "sig_info_df.shape"
   ]
  },
  {
   "cell_type": "code",
   "execution_count": 9,
   "metadata": {},
   "outputs": [
    {
     "name": "stdout",
     "output_type": "stream",
     "text": [
      "(23123, 11)\n"
     ]
    },
    {
     "data": {
      "text/html": [
       "<div>\n",
       "<style scoped>\n",
       "    .dataframe tbody tr th:only-of-type {\n",
       "        vertical-align: middle;\n",
       "    }\n",
       "\n",
       "    .dataframe tbody tr th {\n",
       "        vertical-align: top;\n",
       "    }\n",
       "\n",
       "    .dataframe thead th {\n",
       "        text-align: right;\n",
       "    }\n",
       "</style>\n",
       "<table border=\"1\" class=\"dataframe\">\n",
       "  <thead>\n",
       "    <tr style=\"text-align: right;\">\n",
       "      <th></th>\n",
       "      <th>pert_id</th>\n",
       "      <th>pert_iname</th>\n",
       "      <th>pert_type</th>\n",
       "      <th>cell_id</th>\n",
       "      <th>pert_dose</th>\n",
       "      <th>pert_dose_unit</th>\n",
       "      <th>pert_idose</th>\n",
       "      <th>pert_time</th>\n",
       "      <th>pert_time_unit</th>\n",
       "      <th>pert_itime</th>\n",
       "      <th>distil_id</th>\n",
       "    </tr>\n",
       "    <tr>\n",
       "      <th>sig_id</th>\n",
       "      <th></th>\n",
       "      <th></th>\n",
       "      <th></th>\n",
       "      <th></th>\n",
       "      <th></th>\n",
       "      <th></th>\n",
       "      <th></th>\n",
       "      <th></th>\n",
       "      <th></th>\n",
       "      <th></th>\n",
       "      <th></th>\n",
       "    </tr>\n",
       "  </thead>\n",
       "  <tbody>\n",
       "    <tr>\n",
       "      <th>AML001_PC3_6H:BRD-A03772856:0.37037</th>\n",
       "      <td>BRD-A03772856</td>\n",
       "      <td>BRD-A03772856</td>\n",
       "      <td>trt_cp</td>\n",
       "      <td>PC3</td>\n",
       "      <td>0.37037</td>\n",
       "      <td>µM</td>\n",
       "      <td>500 nM</td>\n",
       "      <td>6</td>\n",
       "      <td>h</td>\n",
       "      <td>6 h</td>\n",
       "      <td>AML001_PC3_6H_X1_F1B10:J16|AML001_PC3_6H_X2_F1...</td>\n",
       "    </tr>\n",
       "    <tr>\n",
       "      <th>AML001_PC3_6H:BRD-A03772856:1.11111</th>\n",
       "      <td>BRD-A03772856</td>\n",
       "      <td>BRD-A03772856</td>\n",
       "      <td>trt_cp</td>\n",
       "      <td>PC3</td>\n",
       "      <td>1.11111</td>\n",
       "      <td>µM</td>\n",
       "      <td>1 µM</td>\n",
       "      <td>6</td>\n",
       "      <td>h</td>\n",
       "      <td>6 h</td>\n",
       "      <td>AML001_PC3_6H_X1_F1B10:J15|AML001_PC3_6H_X2_F1...</td>\n",
       "    </tr>\n",
       "    <tr>\n",
       "      <th>AML001_PC3_6H:BRD-A03772856:10</th>\n",
       "      <td>BRD-A03772856</td>\n",
       "      <td>BRD-A03772856</td>\n",
       "      <td>trt_cp</td>\n",
       "      <td>PC3</td>\n",
       "      <td>10</td>\n",
       "      <td>µM</td>\n",
       "      <td>10 µM</td>\n",
       "      <td>6</td>\n",
       "      <td>h</td>\n",
       "      <td>6 h</td>\n",
       "      <td>AML001_PC3_6H_X1_F1B10:I15|AML001_PC3_6H_X2_F1...</td>\n",
       "    </tr>\n",
       "    <tr>\n",
       "      <th>AML001_PC3_6H:BRD-A03772856:3.33333</th>\n",
       "      <td>BRD-A03772856</td>\n",
       "      <td>BRD-A03772856</td>\n",
       "      <td>trt_cp</td>\n",
       "      <td>PC3</td>\n",
       "      <td>3.33333</td>\n",
       "      <td>µM</td>\n",
       "      <td>3 µM</td>\n",
       "      <td>6</td>\n",
       "      <td>h</td>\n",
       "      <td>6 h</td>\n",
       "      <td>AML001_PC3_6H_X1_F1B10:I16|AML001_PC3_6H_X2_F1...</td>\n",
       "    </tr>\n",
       "    <tr>\n",
       "      <th>AML001_PC3_6H:BRD-A19037878:0.37037</th>\n",
       "      <td>BRD-A19037878</td>\n",
       "      <td>trichostatin-a</td>\n",
       "      <td>trt_cp</td>\n",
       "      <td>PC3</td>\n",
       "      <td>0.37037</td>\n",
       "      <td>µM</td>\n",
       "      <td>500 nM</td>\n",
       "      <td>6</td>\n",
       "      <td>h</td>\n",
       "      <td>6 h</td>\n",
       "      <td>AML001_PC3_6H_X1_F1B10:F18|AML001_PC3_6H_X2_F1...</td>\n",
       "    </tr>\n",
       "  </tbody>\n",
       "</table>\n",
       "</div>"
      ],
      "text/plain": [
       "                                           pert_id      pert_iname pert_type  \\\n",
       "sig_id                                                                         \n",
       "AML001_PC3_6H:BRD-A03772856:0.37037  BRD-A03772856   BRD-A03772856    trt_cp   \n",
       "AML001_PC3_6H:BRD-A03772856:1.11111  BRD-A03772856   BRD-A03772856    trt_cp   \n",
       "AML001_PC3_6H:BRD-A03772856:10       BRD-A03772856   BRD-A03772856    trt_cp   \n",
       "AML001_PC3_6H:BRD-A03772856:3.33333  BRD-A03772856   BRD-A03772856    trt_cp   \n",
       "AML001_PC3_6H:BRD-A19037878:0.37037  BRD-A19037878  trichostatin-a    trt_cp   \n",
       "\n",
       "                                    cell_id pert_dose pert_dose_unit  \\\n",
       "sig_id                                                                 \n",
       "AML001_PC3_6H:BRD-A03772856:0.37037     PC3   0.37037             µM   \n",
       "AML001_PC3_6H:BRD-A03772856:1.11111     PC3   1.11111             µM   \n",
       "AML001_PC3_6H:BRD-A03772856:10          PC3        10             µM   \n",
       "AML001_PC3_6H:BRD-A03772856:3.33333     PC3   3.33333             µM   \n",
       "AML001_PC3_6H:BRD-A19037878:0.37037     PC3   0.37037             µM   \n",
       "\n",
       "                                    pert_idose  pert_time pert_time_unit  \\\n",
       "sig_id                                                                     \n",
       "AML001_PC3_6H:BRD-A03772856:0.37037     500 nM          6              h   \n",
       "AML001_PC3_6H:BRD-A03772856:1.11111       1 µM          6              h   \n",
       "AML001_PC3_6H:BRD-A03772856:10           10 µM          6              h   \n",
       "AML001_PC3_6H:BRD-A03772856:3.33333       3 µM          6              h   \n",
       "AML001_PC3_6H:BRD-A19037878:0.37037     500 nM          6              h   \n",
       "\n",
       "                                    pert_itime  \\\n",
       "sig_id                                           \n",
       "AML001_PC3_6H:BRD-A03772856:0.37037        6 h   \n",
       "AML001_PC3_6H:BRD-A03772856:1.11111        6 h   \n",
       "AML001_PC3_6H:BRD-A03772856:10             6 h   \n",
       "AML001_PC3_6H:BRD-A03772856:3.33333        6 h   \n",
       "AML001_PC3_6H:BRD-A19037878:0.37037        6 h   \n",
       "\n",
       "                                                                             distil_id  \n",
       "sig_id                                                                                  \n",
       "AML001_PC3_6H:BRD-A03772856:0.37037  AML001_PC3_6H_X1_F1B10:J16|AML001_PC3_6H_X2_F1...  \n",
       "AML001_PC3_6H:BRD-A03772856:1.11111  AML001_PC3_6H_X1_F1B10:J15|AML001_PC3_6H_X2_F1...  \n",
       "AML001_PC3_6H:BRD-A03772856:10       AML001_PC3_6H_X1_F1B10:I15|AML001_PC3_6H_X2_F1...  \n",
       "AML001_PC3_6H:BRD-A03772856:3.33333  AML001_PC3_6H_X1_F1B10:I16|AML001_PC3_6H_X2_F1...  \n",
       "AML001_PC3_6H:BRD-A19037878:0.37037  AML001_PC3_6H_X1_F1B10:F18|AML001_PC3_6H_X2_F1...  "
      ]
     },
     "execution_count": 9,
     "metadata": {},
     "output_type": "execute_result"
    }
   ],
   "source": [
    "sig_info_df = sig_info_df.query('cell_id == \"PC3\" & pert_type == \"trt_cp\"')\n",
    "print(sig_info_df.shape)\n",
    "sig_info_df.head()"
   ]
  },
  {
   "cell_type": "code",
   "execution_count": 10,
   "metadata": {},
   "outputs": [
    {
     "data": {
      "text/plain": [
       "(22664, 13)"
      ]
     },
     "execution_count": 10,
     "metadata": {},
     "output_type": "execute_result"
    }
   ],
   "source": [
    "sig_info_df['batch'] = sig_info_df.index.map(lambda x: x.split(':')[0])\n",
    "sig_info_df['n_distil_ids'] = sig_info_df['distil_id'].map(lambda x: len(x.split('|')))\n",
    "sig_info_df = sig_info_df.query('n_distil_ids > 1')\n",
    "sig_info_df.shape"
   ]
  },
  {
   "cell_type": "code",
   "execution_count": 11,
   "metadata": {
    "scrolled": true
   },
   "outputs": [
    {
     "data": {
      "text/plain": [
       "CPC019_PC3_24H      364\n",
       "CPC008_PC3_6H       364\n",
       "CPC001_PC3_6H       364\n",
       "CPC009_PC3_24H      364\n",
       "CPC003_PC3_6H       364\n",
       "CPC012_PC3_24H      364\n",
       "CPC003_PC3_24H      364\n",
       "CPC013_PC3_6H       364\n",
       "CPC002_PC3_6H       364\n",
       "CPD001_PC3_24H      364\n",
       "CPC012_PC3_6H       364\n",
       "CPC009_PC3_6H       364\n",
       "CPC004_PC3_24H      364\n",
       "CPC004_PC3_6H       364\n",
       "CPC005_PC3_24H      363\n",
       "CPC001_PC3_24H      363\n",
       "CPC013_PC3_24H      363\n",
       "CPC005_PC3_6H       363\n",
       "CPC006_PC3_6H       363\n",
       "CPC019_PC3_6H       363\n",
       "CPC002_PC3_24H      363\n",
       "CPC008_PC3_24H      362\n",
       "CPD002_PC3_24H      361\n",
       "CPD002_PC3_6H       361\n",
       "CPD003_PC3_6H       360\n",
       "PCLB003_PC3_24H     360\n",
       "CPC006_PC3_24H      359\n",
       "CPC007_PC3_6H       356\n",
       "CPC007_PC3_24H      356\n",
       "CPC010_PC3_6H       356\n",
       "                   ... \n",
       "DOS056_PC3_24H      317\n",
       "DOS047_PC3_24H      317\n",
       "DOS046_PC3_24H      317\n",
       "ERG012_PC3_24H      317\n",
       "DOS054_PC3_24H      315\n",
       "DOS034_PC3_24H      315\n",
       "DOS051_PC3_24H      315\n",
       "DOS055_PC3_24H      314\n",
       "DOS033_PC3_24H      314\n",
       "DOS050_PC3_24H      311\n",
       "DOS058_PC3_24H      308\n",
       "DOS032_PC3_24H      306\n",
       "DOS057_PC3_24H      303\n",
       "DOS053_PC3_24H      300\n",
       "PCLB002_PC3_24H     296\n",
       "DOS031_PC3_24H      288\n",
       "RAD001_PC3_6H       245\n",
       "PCLB001_PC3_6H      215\n",
       "HDAC002_PC3_6H      175\n",
       "AML001_PC3_6H       161\n",
       "HDAC002_PC3_24H     158\n",
       "PCLB001_PC3_24H     124\n",
       "DEB001_PC3_6H       100\n",
       "DEB001_PC3_24H      100\n",
       "ASG001_PC3_24H       84\n",
       "HDAC001_PC3_6H       84\n",
       "HDAC001_PC3_24H      84\n",
       "ASG001_PC3_6H        84\n",
       "PRISM001_PC3_6H      55\n",
       "PRISM001_PC3_24H     55\n",
       "Name: batch, Length: 75, dtype: int64"
      ]
     },
     "execution_count": 11,
     "metadata": {},
     "output_type": "execute_result"
    }
   ],
   "source": [
    "sig_info_df['batch'].value_counts()"
   ]
  },
  {
   "cell_type": "code",
   "execution_count": 12,
   "metadata": {
    "collapsed": true
   },
   "outputs": [],
   "source": [
    "gctx3 = h5py.File('data/GSE92742_Broad_LINCS_Level3_INF_mlr12k_n1319138x12328.gctx', 'r')"
   ]
  },
  {
   "cell_type": "markdown",
   "metadata": {},
   "source": [
    "The normalization method is described in [Iskar et al PLoS comp Bio, 2010](https://journals.plos.org/ploscompbiol/article?id=10.1371/journal.pcbi.1000925):\n",
    "\n",
    "```python\n",
    "for batch in batches:\n",
    "    1. discard control samples\n",
    "    2. mean center each probe across treatment samples in batch\n",
    "    3. average replicate treatment samples as the signature\n",
    "```\n",
    "\n",
    "<img src=\"img/mean_center_method.png\" style=\"width: 400px;\"/>\n"
   ]
  },
  {
   "cell_type": "code",
   "execution_count": 13,
   "metadata": {},
   "outputs": [
    {
     "name": "stdout",
     "output_type": "stream",
     "text": [
      "75\n"
     ]
    }
   ],
   "source": [
    "all_batches = sig_info_df['batch'].unique()\n",
    "n_batches = len(all_batches)\n",
    "print(n_batches)"
   ]
  },
  {
   "cell_type": "code",
   "execution_count": 14,
   "metadata": {
    "collapsed": true
   },
   "outputs": [],
   "source": [
    "!mkdir -p data/results"
   ]
  },
  {
   "cell_type": "code",
   "execution_count": 15,
   "metadata": {
    "collapsed": true
   },
   "outputs": [],
   "source": [
    "# Create gctx (h5 files) for the three types of signatures\n",
    "shape = (len(LM_GENE_IDS), sig_info_df.shape[0])\n",
    "\n",
    "gctx5_files = {\n",
    "    'CD_center_LM': h5py.File('data/results/CD_center_level5_PC3_n%dx%d.gctx' % shape, 'w'),\n",
    "    'avg_center_LM': h5py.File('data/results/Avg_center_level5_PC3_n%dx%d.gctx' % shape, 'w'),\n",
    "}\n",
    "\n",
    "# Write rids and cids\n",
    "for gctx5_file in gctx5_files.values():\n",
    "    cids = gctx5_file.create_dataset('/0/META/COL/id', \n",
    "                                     data=sig_info_df.index.values.astype(np.str))\n",
    "    rids = gctx5_file.create_dataset('/0/META/ROW/id', \n",
    "                                     data=LM_GENE_IDS.values.astype(np.str))\n",
    "\n",
    "gctx5_mats = {}\n",
    "# Create dataset for the matrix inside each gctx file\n",
    "for sig_name, gctx5_file in gctx5_files.items():\n",
    "    mat = gctx5_file.create_dataset('/0/DATA/0/matrix', shape=shape, dtype=np.float32)\n",
    "    gctx5_mats[sig_name] = mat"
   ]
  },
  {
   "cell_type": "code",
   "execution_count": 16,
   "metadata": {},
   "outputs": [
    {
     "name": "stdout",
     "output_type": "stream",
     "text": [
      "===== Batch 0/75 AML001_PC3_6H =====\n",
      "Number of signatures: 161\n",
      "Number of pert samples: 506\n",
      "(506, 978)\n"
     ]
    },
    {
     "name": "stderr",
     "output_type": "stream",
     "text": [
      "[Parallel(n_jobs=8)]: Using backend MultiprocessingBackend with 8 concurrent workers.\n",
      "[Parallel(n_jobs=8)]: Done   2 tasks      | elapsed:    3.0s\n",
      "[Parallel(n_jobs=8)]: Done   9 tasks      | elapsed:    6.1s\n",
      "[Parallel(n_jobs=8)]: Done  16 tasks      | elapsed:    7.7s\n",
      "[Parallel(n_jobs=8)]: Done  25 tasks      | elapsed:   12.3s\n",
      "[Parallel(n_jobs=8)]: Done  34 tasks      | elapsed:   16.8s\n",
      "[Parallel(n_jobs=8)]: Done  45 tasks      | elapsed:   20.2s\n",
      "[Parallel(n_jobs=8)]: Done  56 tasks      | elapsed:   26.1s\n",
      "[Parallel(n_jobs=8)]: Done  69 tasks      | elapsed:   31.5s\n",
      "[Parallel(n_jobs=8)]: Done  82 tasks      | elapsed:   38.0s\n",
      "[Parallel(n_jobs=8)]: Done  97 tasks      | elapsed:   44.5s\n",
      "[Parallel(n_jobs=8)]: Done 112 tasks      | elapsed:   51.5s\n",
      "[Parallel(n_jobs=8)]: Done 129 tasks      | elapsed:   58.6s\n",
      "[Parallel(n_jobs=8)]: Done 146 tasks      | elapsed:  1.1min\n",
      "[Parallel(n_jobs=8)]: Done 161 out of 161 | elapsed:  1.2min finished\n"
     ]
    },
    {
     "name": "stdout",
     "output_type": "stream",
     "text": [
      "===== Batch 1/75 ASG001_PC3_24H =====\n",
      "Number of signatures: 84\n",
      "Number of pert samples: 1000\n",
      "(1000, 978)\n"
     ]
    },
    {
     "name": "stderr",
     "output_type": "stream",
     "text": [
      "[Parallel(n_jobs=8)]: Using backend MultiprocessingBackend with 8 concurrent workers.\n",
      "[Parallel(n_jobs=8)]: Done   2 tasks      | elapsed:    9.1s\n",
      "[Parallel(n_jobs=8)]: Done   9 tasks      | elapsed:   17.6s\n",
      "[Parallel(n_jobs=8)]: Done  16 tasks      | elapsed:   23.7s\n",
      "[Parallel(n_jobs=8)]: Done  25 tasks      | elapsed:   37.5s\n",
      "[Parallel(n_jobs=8)]: Done  34 tasks      | elapsed:   49.8s\n",
      "[Parallel(n_jobs=8)]: Done  45 tasks      | elapsed:  1.1min\n",
      "[Parallel(n_jobs=8)]: Done  56 tasks      | elapsed:  1.3min\n",
      "[Parallel(n_jobs=8)]: Done  69 tasks      | elapsed:  1.6min\n",
      "[Parallel(n_jobs=8)]: Done  78 out of  84 | elapsed:  1.8min remaining:    8.1s\n",
      "[Parallel(n_jobs=8)]: Done  84 out of  84 | elapsed:  1.8min finished\n"
     ]
    },
    {
     "name": "stdout",
     "output_type": "stream",
     "text": [
      "===== Batch 2/75 ASG001_PC3_6H =====\n",
      "Number of signatures: 84\n",
      "Number of pert samples: 656\n",
      "(656, 978)\n"
     ]
    },
    {
     "name": "stderr",
     "output_type": "stream",
     "text": [
      "[Parallel(n_jobs=8)]: Using backend MultiprocessingBackend with 8 concurrent workers.\n",
      "[Parallel(n_jobs=8)]: Done   2 tasks      | elapsed:    3.9s\n",
      "[Parallel(n_jobs=8)]: Done   9 tasks      | elapsed:    7.7s\n",
      "[Parallel(n_jobs=8)]: Done  16 tasks      | elapsed:   10.9s\n",
      "[Parallel(n_jobs=8)]: Done  25 tasks      | elapsed:   17.4s\n",
      "[Parallel(n_jobs=8)]: Done  34 tasks      | elapsed:   22.3s\n",
      "[Parallel(n_jobs=8)]: Done  45 tasks      | elapsed:   29.6s\n",
      "[Parallel(n_jobs=8)]: Done  56 tasks      | elapsed:   36.1s\n",
      "[Parallel(n_jobs=8)]: Done  69 tasks      | elapsed:   45.9s\n",
      "[Parallel(n_jobs=8)]: Done  78 out of  84 | elapsed:   51.5s remaining:    4.0s\n",
      "[Parallel(n_jobs=8)]: Done  84 out of  84 | elapsed:   53.1s finished\n"
     ]
    },
    {
     "name": "stdout",
     "output_type": "stream",
     "text": [
      "===== Batch 3/75 CPC001_PC3_24H =====\n",
      "Number of signatures: 363\n",
      "Number of pert samples: 2127\n",
      "(2127, 978)\n"
     ]
    },
    {
     "name": "stderr",
     "output_type": "stream",
     "text": [
      "[Parallel(n_jobs=8)]: Using backend MultiprocessingBackend with 8 concurrent workers.\n",
      "[Parallel(n_jobs=8)]: Done   2 tasks      | elapsed:   14.5s\n",
      "[Parallel(n_jobs=8)]: Done   9 tasks      | elapsed:   30.0s\n",
      "[Parallel(n_jobs=8)]: Done  16 tasks      | elapsed:   31.4s\n",
      "[Parallel(n_jobs=8)]: Done  25 tasks      | elapsed:  1.0min\n",
      "[Parallel(n_jobs=8)]: Done  34 tasks      | elapsed:  1.3min\n",
      "[Parallel(n_jobs=8)]: Done  45 tasks      | elapsed:  1.7min\n",
      "[Parallel(n_jobs=8)]: Done  56 tasks      | elapsed:  2.1min\n",
      "[Parallel(n_jobs=8)]: Done  69 tasks      | elapsed:  2.6min\n",
      "[Parallel(n_jobs=8)]: Done  82 tasks      | elapsed:  3.2min\n",
      "[Parallel(n_jobs=8)]: Done  97 tasks      | elapsed:  3.7min\n",
      "[Parallel(n_jobs=8)]: Done 112 tasks      | elapsed:  4.2min\n",
      "[Parallel(n_jobs=8)]: Done 129 tasks      | elapsed:  4.8min\n",
      "[Parallel(n_jobs=8)]: Done 146 tasks      | elapsed:  5.5min\n",
      "[Parallel(n_jobs=8)]: Done 165 tasks      | elapsed:  6.2min\n",
      "[Parallel(n_jobs=8)]: Done 184 tasks      | elapsed:  7.0min\n",
      "[Parallel(n_jobs=8)]: Done 205 tasks      | elapsed:  7.7min\n",
      "[Parallel(n_jobs=8)]: Done 226 tasks      | elapsed:  8.5min\n",
      "[Parallel(n_jobs=8)]: Done 249 tasks      | elapsed:  9.4min\n",
      "[Parallel(n_jobs=8)]: Done 272 tasks      | elapsed: 10.2min\n",
      "[Parallel(n_jobs=8)]: Done 297 tasks      | elapsed: 11.1min\n",
      "[Parallel(n_jobs=8)]: Done 322 tasks      | elapsed: 12.0min\n",
      "[Parallel(n_jobs=8)]: Done 363 out of 363 | elapsed: 13.4min finished\n"
     ]
    },
    {
     "name": "stdout",
     "output_type": "stream",
     "text": [
      "===== Batch 4/75 CPC001_PC3_6H =====\n",
      "Number of signatures: 364\n",
      "Number of pert samples: 1436\n",
      "(1436, 978)\n"
     ]
    },
    {
     "name": "stderr",
     "output_type": "stream",
     "text": [
      "[Parallel(n_jobs=8)]: Using backend MultiprocessingBackend with 8 concurrent workers.\n",
      "[Parallel(n_jobs=8)]: Done   2 tasks      | elapsed:   12.1s\n",
      "[Parallel(n_jobs=8)]: Done   9 tasks      | elapsed:   24.8s\n",
      "[Parallel(n_jobs=8)]: Done  16 tasks      | elapsed:   29.5s\n",
      "[Parallel(n_jobs=8)]: Done  25 tasks      | elapsed:   50.4s\n",
      "[Parallel(n_jobs=8)]: Done  34 tasks      | elapsed:  1.1min\n",
      "[Parallel(n_jobs=8)]: Done  45 tasks      | elapsed:  1.3min\n",
      "[Parallel(n_jobs=8)]: Done  56 tasks      | elapsed:  1.7min\n",
      "[Parallel(n_jobs=8)]: Done  69 tasks      | elapsed:  2.0min\n",
      "[Parallel(n_jobs=8)]: Done  82 tasks      | elapsed:  2.5min\n",
      "[Parallel(n_jobs=8)]: Done  97 tasks      | elapsed:  2.9min\n",
      "[Parallel(n_jobs=8)]: Done 112 tasks      | elapsed:  3.4min\n",
      "[Parallel(n_jobs=8)]: Done 129 tasks      | elapsed:  4.0min\n",
      "[Parallel(n_jobs=8)]: Done 146 tasks      | elapsed:  4.6min\n",
      "[Parallel(n_jobs=8)]: Done 165 tasks      | elapsed:  5.2min\n",
      "[Parallel(n_jobs=8)]: Done 184 tasks      | elapsed:  5.9min\n",
      "[Parallel(n_jobs=8)]: Done 205 tasks      | elapsed:  6.6min\n",
      "[Parallel(n_jobs=8)]: Done 226 tasks      | elapsed:  7.1min\n",
      "[Parallel(n_jobs=8)]: Done 249 tasks      | elapsed:  7.8min\n",
      "[Parallel(n_jobs=8)]: Done 272 tasks      | elapsed:  8.5min\n",
      "[Parallel(n_jobs=8)]: Done 297 tasks      | elapsed:  9.2min\n",
      "[Parallel(n_jobs=8)]: Done 322 tasks      | elapsed:  9.9min\n",
      "[Parallel(n_jobs=8)]: Done 349 tasks      | elapsed: 10.7min\n",
      "[Parallel(n_jobs=8)]: Done 364 out of 364 | elapsed: 11.0min finished\n"
     ]
    },
    {
     "name": "stdout",
     "output_type": "stream",
     "text": [
      "===== Batch 5/75 CPC002_PC3_24H =====\n",
      "Number of signatures: 363\n",
      "Number of pert samples: 1781\n",
      "(1781, 978)\n"
     ]
    },
    {
     "name": "stderr",
     "output_type": "stream",
     "text": [
      "[Parallel(n_jobs=8)]: Using backend MultiprocessingBackend with 8 concurrent workers.\n",
      "[Parallel(n_jobs=8)]: Done   2 tasks      | elapsed:   13.8s\n",
      "[Parallel(n_jobs=8)]: Done   9 tasks      | elapsed:   28.4s\n",
      "[Parallel(n_jobs=8)]: Done  16 tasks      | elapsed:   34.2s\n",
      "[Parallel(n_jobs=8)]: Done  25 tasks      | elapsed:   58.7s\n",
      "[Parallel(n_jobs=8)]: Done  34 tasks      | elapsed:  1.2min\n",
      "[Parallel(n_jobs=8)]: Done  45 tasks      | elapsed:  1.6min\n",
      "[Parallel(n_jobs=8)]: Done  56 tasks      | elapsed:  2.0min\n",
      "[Parallel(n_jobs=8)]: Done  69 tasks      | elapsed:  2.6min\n",
      "[Parallel(n_jobs=8)]: Done  82 tasks      | elapsed:  3.0min\n",
      "[Parallel(n_jobs=8)]: Done  97 tasks      | elapsed:  3.6min\n",
      "[Parallel(n_jobs=8)]: Done 112 tasks      | elapsed:  4.2min\n",
      "[Parallel(n_jobs=8)]: Done 129 tasks      | elapsed:  4.8min\n",
      "[Parallel(n_jobs=8)]: Done 146 tasks      | elapsed:  5.5min\n",
      "[Parallel(n_jobs=8)]: Done 165 tasks      | elapsed:  6.2min\n",
      "[Parallel(n_jobs=8)]: Done 184 tasks      | elapsed:  6.9min\n",
      "[Parallel(n_jobs=8)]: Done 205 tasks      | elapsed:  7.6min\n",
      "[Parallel(n_jobs=8)]: Done 226 tasks      | elapsed:  8.3min\n",
      "[Parallel(n_jobs=8)]: Done 249 tasks      | elapsed:  9.1min\n",
      "[Parallel(n_jobs=8)]: Done 272 tasks      | elapsed: 10.1min\n",
      "[Parallel(n_jobs=8)]: Done 297 tasks      | elapsed: 10.9min\n",
      "[Parallel(n_jobs=8)]: Done 322 tasks      | elapsed: 11.8min\n",
      "[Parallel(n_jobs=8)]: Done 363 out of 363 | elapsed: 13.3min finished\n"
     ]
    },
    {
     "name": "stdout",
     "output_type": "stream",
     "text": [
      "===== Batch 6/75 CPC002_PC3_6H =====\n",
      "Number of signatures: 364\n",
      "Number of pert samples: 1794\n",
      "(1794, 978)\n"
     ]
    },
    {
     "name": "stderr",
     "output_type": "stream",
     "text": [
      "[Parallel(n_jobs=8)]: Using backend MultiprocessingBackend with 8 concurrent workers.\n",
      "[Parallel(n_jobs=8)]: Done   2 tasks      | elapsed:   15.2s\n",
      "[Parallel(n_jobs=8)]: Done   9 tasks      | elapsed:   31.3s\n",
      "[Parallel(n_jobs=8)]: Done  16 tasks      | elapsed:   37.3s\n",
      "[Parallel(n_jobs=8)]: Done  25 tasks      | elapsed:  1.1min\n",
      "[Parallel(n_jobs=8)]: Done  34 tasks      | elapsed:  1.4min\n",
      "[Parallel(n_jobs=8)]: Done  45 tasks      | elapsed:  1.8min\n",
      "[Parallel(n_jobs=8)]: Done  56 tasks      | elapsed:  2.3min\n",
      "[Parallel(n_jobs=8)]: Done  69 tasks      | elapsed:  2.7min\n",
      "[Parallel(n_jobs=8)]: Done  82 tasks      | elapsed:  3.3min\n",
      "[Parallel(n_jobs=8)]: Done  97 tasks      | elapsed:  3.8min\n",
      "[Parallel(n_jobs=8)]: Done 112 tasks      | elapsed:  4.4min\n",
      "[Parallel(n_jobs=8)]: Done 129 tasks      | elapsed:  5.0min\n",
      "[Parallel(n_jobs=8)]: Done 146 tasks      | elapsed:  5.7min\n",
      "[Parallel(n_jobs=8)]: Done 165 tasks      | elapsed:  6.4min\n",
      "[Parallel(n_jobs=8)]: Done 184 tasks      | elapsed:  7.1min\n",
      "[Parallel(n_jobs=8)]: Done 205 tasks      | elapsed:  7.9min\n",
      "[Parallel(n_jobs=8)]: Done 226 tasks      | elapsed:  8.6min\n",
      "[Parallel(n_jobs=8)]: Done 249 tasks      | elapsed:  9.5min\n",
      "[Parallel(n_jobs=8)]: Done 272 tasks      | elapsed: 10.3min\n",
      "[Parallel(n_jobs=8)]: Done 297 tasks      | elapsed: 11.4min\n",
      "[Parallel(n_jobs=8)]: Done 322 tasks      | elapsed: 12.3min\n",
      "[Parallel(n_jobs=8)]: Done 349 tasks      | elapsed: 13.3min\n",
      "[Parallel(n_jobs=8)]: Done 364 out of 364 | elapsed: 13.7min finished\n"
     ]
    },
    {
     "name": "stdout",
     "output_type": "stream",
     "text": [
      "===== Batch 7/75 CPC003_PC3_24H =====\n",
      "Number of signatures: 364\n",
      "Number of pert samples: 1798\n",
      "(1798, 978)\n"
     ]
    },
    {
     "name": "stderr",
     "output_type": "stream",
     "text": [
      "[Parallel(n_jobs=8)]: Using backend MultiprocessingBackend with 8 concurrent workers.\n",
      "[Parallel(n_jobs=8)]: Done   2 tasks      | elapsed:   14.1s\n",
      "[Parallel(n_jobs=8)]: Done   9 tasks      | elapsed:   29.4s\n",
      "[Parallel(n_jobs=8)]: Done  16 tasks      | elapsed:   33.5s\n",
      "[Parallel(n_jobs=8)]: Done  25 tasks      | elapsed:  1.0min\n",
      "[Parallel(n_jobs=8)]: Done  34 tasks      | elapsed:  1.3min\n",
      "[Parallel(n_jobs=8)]: Done  45 tasks      | elapsed:  1.7min\n",
      "[Parallel(n_jobs=8)]: Done  56 tasks      | elapsed:  2.1min\n",
      "[Parallel(n_jobs=8)]: Done  69 tasks      | elapsed:  2.6min\n",
      "[Parallel(n_jobs=8)]: Done  82 tasks      | elapsed:  3.1min\n",
      "[Parallel(n_jobs=8)]: Done  97 tasks      | elapsed:  3.7min\n",
      "[Parallel(n_jobs=8)]: Done 112 tasks      | elapsed:  4.2min\n",
      "[Parallel(n_jobs=8)]: Done 129 tasks      | elapsed:  4.8min\n",
      "[Parallel(n_jobs=8)]: Done 146 tasks      | elapsed:  5.4min\n",
      "[Parallel(n_jobs=8)]: Done 165 tasks      | elapsed:  6.0min\n",
      "[Parallel(n_jobs=8)]: Done 184 tasks      | elapsed:  6.8min\n",
      "[Parallel(n_jobs=8)]: Done 205 tasks      | elapsed:  7.5min\n",
      "[Parallel(n_jobs=8)]: Done 226 tasks      | elapsed:  8.3min\n",
      "[Parallel(n_jobs=8)]: Done 249 tasks      | elapsed:  9.2min\n",
      "[Parallel(n_jobs=8)]: Done 272 tasks      | elapsed:  9.9min\n",
      "[Parallel(n_jobs=8)]: Done 297 tasks      | elapsed: 10.8min\n",
      "[Parallel(n_jobs=8)]: Done 322 tasks      | elapsed: 11.7min\n",
      "[Parallel(n_jobs=8)]: Done 349 tasks      | elapsed: 12.7min\n",
      "[Parallel(n_jobs=8)]: Done 364 out of 364 | elapsed: 13.2min finished\n"
     ]
    },
    {
     "name": "stdout",
     "output_type": "stream",
     "text": [
      "===== Batch 8/75 CPC003_PC3_6H =====\n",
      "Number of signatures: 364\n",
      "Number of pert samples: 1429\n",
      "(1429, 978)\n"
     ]
    },
    {
     "name": "stderr",
     "output_type": "stream",
     "text": [
      "[Parallel(n_jobs=8)]: Using backend MultiprocessingBackend with 8 concurrent workers.\n",
      "[Parallel(n_jobs=8)]: Done   2 tasks      | elapsed:   13.2s\n",
      "[Parallel(n_jobs=8)]: Done   9 tasks      | elapsed:   25.5s\n",
      "[Parallel(n_jobs=8)]: Done  16 tasks      | elapsed:   29.3s\n",
      "[Parallel(n_jobs=8)]: Done  25 tasks      | elapsed:   51.1s\n",
      "[Parallel(n_jobs=8)]: Done  34 tasks      | elapsed:  1.1min\n",
      "[Parallel(n_jobs=8)]: Done  45 tasks      | elapsed:  1.3min\n",
      "[Parallel(n_jobs=8)]: Done  56 tasks      | elapsed:  1.6min\n",
      "[Parallel(n_jobs=8)]: Done  69 tasks      | elapsed:  2.0min\n",
      "[Parallel(n_jobs=8)]: Done  82 tasks      | elapsed:  2.4min\n",
      "[Parallel(n_jobs=8)]: Done  97 tasks      | elapsed:  2.8min\n",
      "[Parallel(n_jobs=8)]: Done 112 tasks      | elapsed:  3.2min\n",
      "[Parallel(n_jobs=8)]: Done 129 tasks      | elapsed:  3.7min\n",
      "[Parallel(n_jobs=8)]: Done 146 tasks      | elapsed:  4.2min\n",
      "[Parallel(n_jobs=8)]: Done 165 tasks      | elapsed:  4.7min\n",
      "[Parallel(n_jobs=8)]: Done 184 tasks      | elapsed:  5.3min\n",
      "[Parallel(n_jobs=8)]: Done 205 tasks      | elapsed:  5.9min\n",
      "[Parallel(n_jobs=8)]: Done 226 tasks      | elapsed:  6.5min\n",
      "[Parallel(n_jobs=8)]: Done 249 tasks      | elapsed:  7.2min\n",
      "[Parallel(n_jobs=8)]: Done 272 tasks      | elapsed:  7.7min\n",
      "[Parallel(n_jobs=8)]: Done 297 tasks      | elapsed:  8.4min\n",
      "[Parallel(n_jobs=8)]: Done 322 tasks      | elapsed:  9.1min\n",
      "[Parallel(n_jobs=8)]: Done 349 tasks      | elapsed:  9.9min\n",
      "[Parallel(n_jobs=8)]: Done 364 out of 364 | elapsed: 10.2min finished\n"
     ]
    },
    {
     "name": "stdout",
     "output_type": "stream",
     "text": [
      "===== Batch 9/75 CPC004_PC3_24H =====\n",
      "Number of signatures: 364\n",
      "Number of pert samples: 1780\n",
      "(1780, 978)\n"
     ]
    },
    {
     "name": "stderr",
     "output_type": "stream",
     "text": [
      "[Parallel(n_jobs=8)]: Using backend MultiprocessingBackend with 8 concurrent workers.\n",
      "[Parallel(n_jobs=8)]: Done   2 tasks      | elapsed:   13.7s\n",
      "[Parallel(n_jobs=8)]: Done   9 tasks      | elapsed:   28.9s\n",
      "[Parallel(n_jobs=8)]: Done  16 tasks      | elapsed:   36.1s\n",
      "[Parallel(n_jobs=8)]: Done  25 tasks      | elapsed:  1.0min\n",
      "[Parallel(n_jobs=8)]: Done  34 tasks      | elapsed:  1.3min\n",
      "[Parallel(n_jobs=8)]: Done  45 tasks      | elapsed:  1.6min\n",
      "[Parallel(n_jobs=8)]: Done  56 tasks      | elapsed:  2.0min\n",
      "[Parallel(n_jobs=8)]: Done  69 tasks      | elapsed:  2.5min\n",
      "[Parallel(n_jobs=8)]: Done  82 tasks      | elapsed:  2.9min\n",
      "[Parallel(n_jobs=8)]: Done  97 tasks      | elapsed:  3.4min\n",
      "[Parallel(n_jobs=8)]: Done 112 tasks      | elapsed:  4.0min\n",
      "[Parallel(n_jobs=8)]: Done 129 tasks      | elapsed:  4.5min\n",
      "[Parallel(n_jobs=8)]: Done 146 tasks      | elapsed:  5.1min\n",
      "[Parallel(n_jobs=8)]: Done 165 tasks      | elapsed:  5.7min\n",
      "[Parallel(n_jobs=8)]: Done 184 tasks      | elapsed:  6.3min\n",
      "[Parallel(n_jobs=8)]: Done 205 tasks      | elapsed:  7.1min\n",
      "[Parallel(n_jobs=8)]: Done 226 tasks      | elapsed:  7.8min\n",
      "[Parallel(n_jobs=8)]: Done 249 tasks      | elapsed:  8.5min\n",
      "[Parallel(n_jobs=8)]: Done 272 tasks      | elapsed:  9.3min\n",
      "[Parallel(n_jobs=8)]: Done 297 tasks      | elapsed: 10.2min\n",
      "[Parallel(n_jobs=8)]: Done 322 tasks      | elapsed: 11.0min\n",
      "[Parallel(n_jobs=8)]: Done 349 tasks      | elapsed: 11.9min\n",
      "[Parallel(n_jobs=8)]: Done 364 out of 364 | elapsed: 12.3min finished\n"
     ]
    },
    {
     "name": "stdout",
     "output_type": "stream",
     "text": [
      "===== Batch 10/75 CPC004_PC3_6H =====\n",
      "Number of signatures: 364\n",
      "Number of pert samples: 1768\n",
      "(1768, 978)\n"
     ]
    },
    {
     "name": "stderr",
     "output_type": "stream",
     "text": [
      "[Parallel(n_jobs=8)]: Using backend MultiprocessingBackend with 8 concurrent workers.\n",
      "[Parallel(n_jobs=8)]: Done   2 tasks      | elapsed:   13.6s\n",
      "[Parallel(n_jobs=8)]: Done   9 tasks      | elapsed:   28.6s\n",
      "[Parallel(n_jobs=8)]: Done  16 tasks      | elapsed:   34.9s\n",
      "[Parallel(n_jobs=8)]: Done  25 tasks      | elapsed:   58.9s\n",
      "[Parallel(n_jobs=8)]: Done  34 tasks      | elapsed:  1.3min\n",
      "[Parallel(n_jobs=8)]: Done  45 tasks      | elapsed:  1.6min\n",
      "[Parallel(n_jobs=8)]: Done  56 tasks      | elapsed:  1.9min\n",
      "[Parallel(n_jobs=8)]: Done  69 tasks      | elapsed:  2.4min\n",
      "[Parallel(n_jobs=8)]: Done  82 tasks      | elapsed:  2.9min\n",
      "[Parallel(n_jobs=8)]: Done  97 tasks      | elapsed:  3.4min\n",
      "[Parallel(n_jobs=8)]: Done 112 tasks      | elapsed:  4.0min\n",
      "[Parallel(n_jobs=8)]: Done 129 tasks      | elapsed:  4.5min\n",
      "[Parallel(n_jobs=8)]: Done 146 tasks      | elapsed:  5.1min\n",
      "[Parallel(n_jobs=8)]: Done 165 tasks      | elapsed:  5.7min\n",
      "[Parallel(n_jobs=8)]: Done 184 tasks      | elapsed:  6.4min\n",
      "[Parallel(n_jobs=8)]: Done 205 tasks      | elapsed:  7.1min\n",
      "[Parallel(n_jobs=8)]: Done 226 tasks      | elapsed:  7.9min\n",
      "[Parallel(n_jobs=8)]: Done 249 tasks      | elapsed:  8.6min\n",
      "[Parallel(n_jobs=8)]: Done 272 tasks      | elapsed:  9.4min\n",
      "[Parallel(n_jobs=8)]: Done 297 tasks      | elapsed: 10.2min\n",
      "[Parallel(n_jobs=8)]: Done 322 tasks      | elapsed: 11.1min\n",
      "[Parallel(n_jobs=8)]: Done 349 tasks      | elapsed: 12.0min\n",
      "[Parallel(n_jobs=8)]: Done 364 out of 364 | elapsed: 12.4min finished\n"
     ]
    },
    {
     "name": "stdout",
     "output_type": "stream",
     "text": [
      "===== Batch 11/75 CPC005_PC3_24H =====\n",
      "Number of signatures: 363\n",
      "Number of pert samples: 1781\n",
      "(1781, 978)\n"
     ]
    },
    {
     "name": "stderr",
     "output_type": "stream",
     "text": [
      "[Parallel(n_jobs=8)]: Using backend MultiprocessingBackend with 8 concurrent workers.\n",
      "[Parallel(n_jobs=8)]: Done   2 tasks      | elapsed:   13.7s\n",
      "[Parallel(n_jobs=8)]: Done   9 tasks      | elapsed:   28.6s\n",
      "[Parallel(n_jobs=8)]: Done  16 tasks      | elapsed:   34.8s\n",
      "[Parallel(n_jobs=8)]: Done  25 tasks      | elapsed:   59.0s\n",
      "[Parallel(n_jobs=8)]: Done  34 tasks      | elapsed:  1.3min\n",
      "[Parallel(n_jobs=8)]: Done  45 tasks      | elapsed:  1.6min\n",
      "[Parallel(n_jobs=8)]: Done  56 tasks      | elapsed:  2.0min\n",
      "[Parallel(n_jobs=8)]: Done  69 tasks      | elapsed:  2.5min\n",
      "[Parallel(n_jobs=8)]: Done  82 tasks      | elapsed:  2.9min\n",
      "[Parallel(n_jobs=8)]: Done  97 tasks      | elapsed:  3.4min\n",
      "[Parallel(n_jobs=8)]: Done 112 tasks      | elapsed:  3.9min\n",
      "[Parallel(n_jobs=8)]: Done 129 tasks      | elapsed:  4.4min\n",
      "[Parallel(n_jobs=8)]: Done 146 tasks      | elapsed:  5.0min\n",
      "[Parallel(n_jobs=8)]: Done 165 tasks      | elapsed:  5.6min\n",
      "[Parallel(n_jobs=8)]: Done 184 tasks      | elapsed:  6.3min\n",
      "[Parallel(n_jobs=8)]: Done 205 tasks      | elapsed:  7.0min\n",
      "[Parallel(n_jobs=8)]: Done 226 tasks      | elapsed:  7.7min\n",
      "[Parallel(n_jobs=8)]: Done 249 tasks      | elapsed:  8.5min\n",
      "[Parallel(n_jobs=8)]: Done 272 tasks      | elapsed:  9.2min\n",
      "[Parallel(n_jobs=8)]: Done 297 tasks      | elapsed: 10.1min\n",
      "[Parallel(n_jobs=8)]: Done 322 tasks      | elapsed: 11.0min\n",
      "[Parallel(n_jobs=8)]: Done 363 out of 363 | elapsed: 12.3min finished\n"
     ]
    },
    {
     "name": "stdout",
     "output_type": "stream",
     "text": [
      "===== Batch 12/75 CPC005_PC3_6H =====\n",
      "Number of signatures: 363\n",
      "Number of pert samples: 1431\n",
      "(1431, 978)\n"
     ]
    },
    {
     "name": "stderr",
     "output_type": "stream",
     "text": [
      "[Parallel(n_jobs=8)]: Using backend MultiprocessingBackend with 8 concurrent workers.\n",
      "[Parallel(n_jobs=8)]: Done   2 tasks      | elapsed:   11.2s\n",
      "[Parallel(n_jobs=8)]: Done   9 tasks      | elapsed:   23.3s\n",
      "[Parallel(n_jobs=8)]: Done  16 tasks      | elapsed:   28.0s\n",
      "[Parallel(n_jobs=8)]: Done  25 tasks      | elapsed:   48.4s\n",
      "[Parallel(n_jobs=8)]: Done  34 tasks      | elapsed:  1.0min\n",
      "[Parallel(n_jobs=8)]: Done  45 tasks      | elapsed:  1.3min\n",
      "[Parallel(n_jobs=8)]: Done  56 tasks      | elapsed:  1.6min\n",
      "[Parallel(n_jobs=8)]: Done  69 tasks      | elapsed:  2.0min\n",
      "[Parallel(n_jobs=8)]: Done  82 tasks      | elapsed:  2.4min\n",
      "[Parallel(n_jobs=8)]: Done  97 tasks      | elapsed:  2.8min\n",
      "[Parallel(n_jobs=8)]: Done 112 tasks      | elapsed:  3.3min\n",
      "[Parallel(n_jobs=8)]: Done 129 tasks      | elapsed:  3.8min\n",
      "[Parallel(n_jobs=8)]: Done 146 tasks      | elapsed:  4.2min\n",
      "[Parallel(n_jobs=8)]: Done 165 tasks      | elapsed:  4.8min\n",
      "[Parallel(n_jobs=8)]: Done 184 tasks      | elapsed:  5.4min\n",
      "[Parallel(n_jobs=8)]: Done 205 tasks      | elapsed:  5.9min\n",
      "[Parallel(n_jobs=8)]: Done 226 tasks      | elapsed:  6.5min\n",
      "[Parallel(n_jobs=8)]: Done 249 tasks      | elapsed:  7.2min\n",
      "[Parallel(n_jobs=8)]: Done 272 tasks      | elapsed:  7.8min\n",
      "[Parallel(n_jobs=8)]: Done 297 tasks      | elapsed:  8.5min\n",
      "[Parallel(n_jobs=8)]: Done 322 tasks      | elapsed:  9.3min\n",
      "[Parallel(n_jobs=8)]: Done 363 out of 363 | elapsed: 10.3min finished\n"
     ]
    },
    {
     "name": "stdout",
     "output_type": "stream",
     "text": [
      "===== Batch 13/75 CPC006_PC3_24H =====\n",
      "Number of signatures: 359\n",
      "Number of pert samples: 2124\n",
      "(2124, 978)\n"
     ]
    },
    {
     "name": "stderr",
     "output_type": "stream",
     "text": [
      "[Parallel(n_jobs=8)]: Using backend MultiprocessingBackend with 8 concurrent workers.\n",
      "[Parallel(n_jobs=8)]: Done   2 tasks      | elapsed:   14.4s\n",
      "[Parallel(n_jobs=8)]: Done   9 tasks      | elapsed:   30.3s\n",
      "[Parallel(n_jobs=8)]: Done  16 tasks      | elapsed:   36.0s\n",
      "[Parallel(n_jobs=8)]: Done  25 tasks      | elapsed:  1.0min\n",
      "[Parallel(n_jobs=8)]: Done  34 tasks      | elapsed:  1.3min\n",
      "[Parallel(n_jobs=8)]: Done  45 tasks      | elapsed:  1.7min\n",
      "[Parallel(n_jobs=8)]: Done  56 tasks      | elapsed:  2.1min\n",
      "[Parallel(n_jobs=8)]: Done  69 tasks      | elapsed:  2.6min\n",
      "[Parallel(n_jobs=8)]: Done  82 tasks      | elapsed:  3.1min\n",
      "[Parallel(n_jobs=8)]: Done  97 tasks      | elapsed:  3.6min\n",
      "[Parallel(n_jobs=8)]: Done 112 tasks      | elapsed:  4.1min\n",
      "[Parallel(n_jobs=8)]: Done 129 tasks      | elapsed:  4.8min\n",
      "[Parallel(n_jobs=8)]: Done 146 tasks      | elapsed:  5.3min\n",
      "[Parallel(n_jobs=8)]: Done 165 tasks      | elapsed:  6.0min\n",
      "[Parallel(n_jobs=8)]: Done 184 tasks      | elapsed:  6.7min\n",
      "[Parallel(n_jobs=8)]: Done 205 tasks      | elapsed:  7.5min\n",
      "[Parallel(n_jobs=8)]: Done 226 tasks      | elapsed:  8.3min\n",
      "[Parallel(n_jobs=8)]: Done 249 tasks      | elapsed:  9.1min\n",
      "[Parallel(n_jobs=8)]: Done 272 tasks      | elapsed: 10.0min\n",
      "[Parallel(n_jobs=8)]: Done 297 tasks      | elapsed: 10.9min\n",
      "[Parallel(n_jobs=8)]: Done 322 tasks      | elapsed: 11.8min\n",
      "[Parallel(n_jobs=8)]: Done 359 out of 359 | elapsed: 13.0min finished\n"
     ]
    },
    {
     "name": "stdout",
     "output_type": "stream",
     "text": [
      "===== Batch 14/75 CPC006_PC3_6H =====\n",
      "Number of signatures: 363\n",
      "Number of pert samples: 1439\n",
      "(1439, 978)\n"
     ]
    },
    {
     "name": "stderr",
     "output_type": "stream",
     "text": [
      "[Parallel(n_jobs=8)]: Using backend MultiprocessingBackend with 8 concurrent workers.\n",
      "[Parallel(n_jobs=8)]: Done   2 tasks      | elapsed:   11.6s\n",
      "[Parallel(n_jobs=8)]: Done   9 tasks      | elapsed:   24.9s\n",
      "[Parallel(n_jobs=8)]: Done  16 tasks      | elapsed:   28.6s\n",
      "[Parallel(n_jobs=8)]: Done  25 tasks      | elapsed:   50.8s\n",
      "[Parallel(n_jobs=8)]: Done  34 tasks      | elapsed:  1.1min\n",
      "[Parallel(n_jobs=8)]: Done  45 tasks      | elapsed:  1.4min\n",
      "[Parallel(n_jobs=8)]: Done  56 tasks      | elapsed:  1.7min\n",
      "[Parallel(n_jobs=8)]: Done  69 tasks      | elapsed:  2.1min\n",
      "[Parallel(n_jobs=8)]: Done  82 tasks      | elapsed:  2.4min\n",
      "[Parallel(n_jobs=8)]: Done  97 tasks      | elapsed:  2.8min\n",
      "[Parallel(n_jobs=8)]: Done 112 tasks      | elapsed:  3.3min\n",
      "[Parallel(n_jobs=8)]: Done 129 tasks      | elapsed:  3.7min\n",
      "[Parallel(n_jobs=8)]: Done 146 tasks      | elapsed:  4.2min\n",
      "[Parallel(n_jobs=8)]: Done 165 tasks      | elapsed:  4.9min\n",
      "[Parallel(n_jobs=8)]: Done 184 tasks      | elapsed:  5.4min\n",
      "[Parallel(n_jobs=8)]: Done 205 tasks      | elapsed:  6.0min\n",
      "[Parallel(n_jobs=8)]: Done 226 tasks      | elapsed:  6.6min\n",
      "[Parallel(n_jobs=8)]: Done 249 tasks      | elapsed:  7.3min\n",
      "[Parallel(n_jobs=8)]: Done 272 tasks      | elapsed:  7.9min\n",
      "[Parallel(n_jobs=8)]: Done 297 tasks      | elapsed:  8.6min\n",
      "[Parallel(n_jobs=8)]: Done 322 tasks      | elapsed:  9.4min\n",
      "[Parallel(n_jobs=8)]: Done 363 out of 363 | elapsed: 10.4min finished\n"
     ]
    },
    {
     "name": "stdout",
     "output_type": "stream",
     "text": [
      "===== Batch 15/75 CPC007_PC3_24H =====\n",
      "Number of signatures: 356\n",
      "Number of pert samples: 1386\n",
      "(1386, 978)\n"
     ]
    },
    {
     "name": "stderr",
     "output_type": "stream",
     "text": [
      "[Parallel(n_jobs=8)]: Using backend MultiprocessingBackend with 8 concurrent workers.\n",
      "[Parallel(n_jobs=8)]: Done   2 tasks      | elapsed:   10.8s\n",
      "[Parallel(n_jobs=8)]: Done   9 tasks      | elapsed:   22.6s\n",
      "[Parallel(n_jobs=8)]: Done  16 tasks      | elapsed:   27.0s\n",
      "[Parallel(n_jobs=8)]: Done  25 tasks      | elapsed:   48.2s\n",
      "[Parallel(n_jobs=8)]: Done  34 tasks      | elapsed:  1.0min\n",
      "[Parallel(n_jobs=8)]: Done  45 tasks      | elapsed:  1.3min\n",
      "[Parallel(n_jobs=8)]: Done  56 tasks      | elapsed:  1.6min\n",
      "[Parallel(n_jobs=8)]: Done  69 tasks      | elapsed:  2.0min\n",
      "[Parallel(n_jobs=8)]: Done  82 tasks      | elapsed:  2.4min\n",
      "[Parallel(n_jobs=8)]: Done  97 tasks      | elapsed:  2.7min\n",
      "[Parallel(n_jobs=8)]: Done 112 tasks      | elapsed:  3.1min\n",
      "[Parallel(n_jobs=8)]: Done 129 tasks      | elapsed:  3.6min\n",
      "[Parallel(n_jobs=8)]: Done 146 tasks      | elapsed:  4.1min\n",
      "[Parallel(n_jobs=8)]: Done 165 tasks      | elapsed:  4.6min\n",
      "[Parallel(n_jobs=8)]: Done 184 tasks      | elapsed:  5.1min\n",
      "[Parallel(n_jobs=8)]: Done 205 tasks      | elapsed:  5.7min\n",
      "[Parallel(n_jobs=8)]: Done 226 tasks      | elapsed:  6.3min\n",
      "[Parallel(n_jobs=8)]: Done 249 tasks      | elapsed:  7.0min\n",
      "[Parallel(n_jobs=8)]: Done 272 tasks      | elapsed:  7.6min\n",
      "[Parallel(n_jobs=8)]: Done 297 tasks      | elapsed:  8.2min\n",
      "[Parallel(n_jobs=8)]: Done 322 tasks      | elapsed:  8.9min\n",
      "[Parallel(n_jobs=8)]: Done 356 out of 356 | elapsed:  9.7min finished\n"
     ]
    },
    {
     "name": "stdout",
     "output_type": "stream",
     "text": [
      "===== Batch 16/75 CPC007_PC3_6H =====\n",
      "Number of signatures: 356\n",
      "Number of pert samples: 1756\n",
      "(1756, 978)\n"
     ]
    },
    {
     "name": "stderr",
     "output_type": "stream",
     "text": [
      "[Parallel(n_jobs=8)]: Using backend MultiprocessingBackend with 8 concurrent workers.\n",
      "[Parallel(n_jobs=8)]: Done   2 tasks      | elapsed:   13.7s\n",
      "[Parallel(n_jobs=8)]: Done   9 tasks      | elapsed:   22.6s\n",
      "[Parallel(n_jobs=8)]: Done  16 tasks      | elapsed:   34.5s\n",
      "[Parallel(n_jobs=8)]: Done  25 tasks      | elapsed:   54.5s\n",
      "[Parallel(n_jobs=8)]: Done  34 tasks      | elapsed:  1.2min\n",
      "[Parallel(n_jobs=8)]: Done  45 tasks      | elapsed:  1.6min\n",
      "[Parallel(n_jobs=8)]: Done  56 tasks      | elapsed:  1.9min\n",
      "[Parallel(n_jobs=8)]: Done  69 tasks      | elapsed:  2.4min\n",
      "[Parallel(n_jobs=8)]: Done  82 tasks      | elapsed:  2.8min\n",
      "[Parallel(n_jobs=8)]: Done  97 tasks      | elapsed:  3.3min\n",
      "[Parallel(n_jobs=8)]: Done 112 tasks      | elapsed:  3.8min\n",
      "[Parallel(n_jobs=8)]: Done 129 tasks      | elapsed:  4.4min\n",
      "[Parallel(n_jobs=8)]: Done 146 tasks      | elapsed:  5.0min\n",
      "[Parallel(n_jobs=8)]: Done 165 tasks      | elapsed:  5.6min\n",
      "[Parallel(n_jobs=8)]: Done 184 tasks      | elapsed:  6.2min\n",
      "[Parallel(n_jobs=8)]: Done 205 tasks      | elapsed:  6.9min\n",
      "[Parallel(n_jobs=8)]: Done 226 tasks      | elapsed:  7.6min\n",
      "[Parallel(n_jobs=8)]: Done 249 tasks      | elapsed:  8.3min\n",
      "[Parallel(n_jobs=8)]: Done 272 tasks      | elapsed:  9.0min\n",
      "[Parallel(n_jobs=8)]: Done 297 tasks      | elapsed:  9.9min\n",
      "[Parallel(n_jobs=8)]: Done 322 tasks      | elapsed: 10.8min\n",
      "[Parallel(n_jobs=8)]: Done 356 out of 356 | elapsed: 11.7min finished\n"
     ]
    },
    {
     "name": "stdout",
     "output_type": "stream",
     "text": [
      "===== Batch 17/75 CPC008_PC3_24H =====\n",
      "Number of signatures: 362\n",
      "Number of pert samples: 1724\n",
      "(1724, 978)\n"
     ]
    },
    {
     "name": "stderr",
     "output_type": "stream",
     "text": [
      "[Parallel(n_jobs=8)]: Using backend MultiprocessingBackend with 8 concurrent workers.\n",
      "[Parallel(n_jobs=8)]: Done   2 tasks      | elapsed:   13.1s\n",
      "[Parallel(n_jobs=8)]: Done   9 tasks      | elapsed:   28.1s\n",
      "[Parallel(n_jobs=8)]: Done  16 tasks      | elapsed:   33.0s\n",
      "[Parallel(n_jobs=8)]: Done  25 tasks      | elapsed:   57.6s\n",
      "[Parallel(n_jobs=8)]: Done  34 tasks      | elapsed:  1.2min\n",
      "[Parallel(n_jobs=8)]: Done  45 tasks      | elapsed:  1.5min\n",
      "[Parallel(n_jobs=8)]: Done  56 tasks      | elapsed:  1.9min\n",
      "[Parallel(n_jobs=8)]: Done  69 tasks      | elapsed:  2.3min\n",
      "[Parallel(n_jobs=8)]: Done  82 tasks      | elapsed:  2.7min\n",
      "[Parallel(n_jobs=8)]: Done  97 tasks      | elapsed:  3.2min\n",
      "[Parallel(n_jobs=8)]: Done 112 tasks      | elapsed:  3.7min\n",
      "[Parallel(n_jobs=8)]: Done 129 tasks      | elapsed:  4.3min\n",
      "[Parallel(n_jobs=8)]: Done 146 tasks      | elapsed:  4.8min\n",
      "[Parallel(n_jobs=8)]: Done 165 tasks      | elapsed:  5.4min\n",
      "[Parallel(n_jobs=8)]: Done 184 tasks      | elapsed:  6.0min\n",
      "[Parallel(n_jobs=8)]: Done 205 tasks      | elapsed:  6.7min\n",
      "[Parallel(n_jobs=8)]: Done 226 tasks      | elapsed:  7.3min\n",
      "[Parallel(n_jobs=8)]: Done 249 tasks      | elapsed:  8.1min\n",
      "[Parallel(n_jobs=8)]: Done 272 tasks      | elapsed:  8.9min\n",
      "[Parallel(n_jobs=8)]: Done 297 tasks      | elapsed:  9.7min\n",
      "[Parallel(n_jobs=8)]: Done 322 tasks      | elapsed: 10.4min\n",
      "[Parallel(n_jobs=8)]: Done 362 out of 362 | elapsed: 11.6min finished\n"
     ]
    },
    {
     "name": "stdout",
     "output_type": "stream",
     "text": [
      "===== Batch 18/75 CPC008_PC3_6H =====\n",
      "Number of signatures: 364\n",
      "Number of pert samples: 1806\n",
      "(1806, 978)\n"
     ]
    },
    {
     "name": "stderr",
     "output_type": "stream",
     "text": [
      "[Parallel(n_jobs=8)]: Using backend MultiprocessingBackend with 8 concurrent workers.\n",
      "[Parallel(n_jobs=8)]: Done   2 tasks      | elapsed:   13.0s\n",
      "[Parallel(n_jobs=8)]: Done   9 tasks      | elapsed:   27.2s\n",
      "[Parallel(n_jobs=8)]: Done  16 tasks      | elapsed:   30.4s\n",
      "[Parallel(n_jobs=8)]: Done  25 tasks      | elapsed:   56.2s\n",
      "[Parallel(n_jobs=8)]: Done  34 tasks      | elapsed:  1.2min\n",
      "[Parallel(n_jobs=8)]: Done  45 tasks      | elapsed:  1.5min\n",
      "[Parallel(n_jobs=8)]: Done  56 tasks      | elapsed:  1.9min\n",
      "[Parallel(n_jobs=8)]: Done  69 tasks      | elapsed:  2.4min\n",
      "[Parallel(n_jobs=8)]: Done  82 tasks      | elapsed:  2.7min\n",
      "[Parallel(n_jobs=8)]: Done  97 tasks      | elapsed:  3.2min\n",
      "[Parallel(n_jobs=8)]: Done 112 tasks      | elapsed:  3.8min\n",
      "[Parallel(n_jobs=8)]: Done 129 tasks      | elapsed:  4.4min\n",
      "[Parallel(n_jobs=8)]: Done 146 tasks      | elapsed:  5.0min\n",
      "[Parallel(n_jobs=8)]: Done 165 tasks      | elapsed:  5.5min\n",
      "[Parallel(n_jobs=8)]: Done 184 tasks      | elapsed:  6.2min\n",
      "[Parallel(n_jobs=8)]: Done 205 tasks      | elapsed:  6.9min\n",
      "[Parallel(n_jobs=8)]: Done 226 tasks      | elapsed:  7.6min\n",
      "[Parallel(n_jobs=8)]: Done 249 tasks      | elapsed:  8.4min\n",
      "[Parallel(n_jobs=8)]: Done 272 tasks      | elapsed:  9.2min\n",
      "[Parallel(n_jobs=8)]: Done 297 tasks      | elapsed: 10.0min\n",
      "[Parallel(n_jobs=8)]: Done 322 tasks      | elapsed: 10.8min\n",
      "[Parallel(n_jobs=8)]: Done 349 tasks      | elapsed: 11.8min\n",
      "[Parallel(n_jobs=8)]: Done 364 out of 364 | elapsed: 12.1min finished\n"
     ]
    },
    {
     "name": "stdout",
     "output_type": "stream",
     "text": [
      "===== Batch 19/75 CPC009_PC3_24H =====\n",
      "Number of signatures: 364\n",
      "Number of pert samples: 1782\n",
      "(1782, 978)\n"
     ]
    },
    {
     "name": "stderr",
     "output_type": "stream",
     "text": [
      "[Parallel(n_jobs=8)]: Using backend MultiprocessingBackend with 8 concurrent workers.\n",
      "[Parallel(n_jobs=8)]: Done   2 tasks      | elapsed:   13.3s\n",
      "[Parallel(n_jobs=8)]: Done   9 tasks      | elapsed:   28.3s\n",
      "[Parallel(n_jobs=8)]: Done  16 tasks      | elapsed:   34.3s\n",
      "[Parallel(n_jobs=8)]: Done  25 tasks      | elapsed:   58.8s\n",
      "[Parallel(n_jobs=8)]: Done  34 tasks      | elapsed:  1.3min\n",
      "[Parallel(n_jobs=8)]: Done  45 tasks      | elapsed:  1.6min\n",
      "[Parallel(n_jobs=8)]: Done  56 tasks      | elapsed:  2.0min\n",
      "[Parallel(n_jobs=8)]: Done  69 tasks      | elapsed:  2.4min\n",
      "[Parallel(n_jobs=8)]: Done  82 tasks      | elapsed:  2.9min\n",
      "[Parallel(n_jobs=8)]: Done  97 tasks      | elapsed:  3.4min\n",
      "[Parallel(n_jobs=8)]: Done 112 tasks      | elapsed:  3.8min\n",
      "[Parallel(n_jobs=8)]: Done 129 tasks      | elapsed:  4.5min\n",
      "[Parallel(n_jobs=8)]: Done 146 tasks      | elapsed:  5.1min\n",
      "[Parallel(n_jobs=8)]: Done 165 tasks      | elapsed:  5.7min\n",
      "[Parallel(n_jobs=8)]: Done 184 tasks      | elapsed:  6.3min\n",
      "[Parallel(n_jobs=8)]: Done 205 tasks      | elapsed:  7.0min\n",
      "[Parallel(n_jobs=8)]: Done 226 tasks      | elapsed:  7.8min\n",
      "[Parallel(n_jobs=8)]: Done 249 tasks      | elapsed:  8.5min\n",
      "[Parallel(n_jobs=8)]: Done 272 tasks      | elapsed:  9.3min\n",
      "[Parallel(n_jobs=8)]: Done 297 tasks      | elapsed: 10.2min\n",
      "[Parallel(n_jobs=8)]: Done 322 tasks      | elapsed: 11.0min\n",
      "[Parallel(n_jobs=8)]: Done 349 tasks      | elapsed: 11.9min\n",
      "[Parallel(n_jobs=8)]: Done 364 out of 364 | elapsed: 12.3min finished\n"
     ]
    },
    {
     "name": "stdout",
     "output_type": "stream",
     "text": [
      "===== Batch 20/75 CPC009_PC3_6H =====\n",
      "Number of signatures: 364\n",
      "Number of pert samples: 2496\n",
      "(2496, 978)\n"
     ]
    },
    {
     "name": "stderr",
     "output_type": "stream",
     "text": [
      "[Parallel(n_jobs=8)]: Using backend MultiprocessingBackend with 8 concurrent workers.\n",
      "[Parallel(n_jobs=8)]: Done   2 tasks      | elapsed:   15.6s\n",
      "[Parallel(n_jobs=8)]: Done   9 tasks      | elapsed:   32.9s\n",
      "[Parallel(n_jobs=8)]: Done  16 tasks      | elapsed:   39.4s\n",
      "[Parallel(n_jobs=8)]: Done  25 tasks      | elapsed:  1.1min\n",
      "[Parallel(n_jobs=8)]: Done  34 tasks      | elapsed:  1.5min\n",
      "[Parallel(n_jobs=8)]: Done  45 tasks      | elapsed:  1.9min\n",
      "[Parallel(n_jobs=8)]: Done  56 tasks      | elapsed:  2.3min\n",
      "[Parallel(n_jobs=8)]: Done  69 tasks      | elapsed:  2.9min\n",
      "[Parallel(n_jobs=8)]: Done  82 tasks      | elapsed:  3.4min\n",
      "[Parallel(n_jobs=8)]: Done  97 tasks      | elapsed:  3.9min\n",
      "[Parallel(n_jobs=8)]: Done 112 tasks      | elapsed:  4.6min\n",
      "[Parallel(n_jobs=8)]: Done 129 tasks      | elapsed:  5.3min\n",
      "[Parallel(n_jobs=8)]: Done 146 tasks      | elapsed:  6.1min\n",
      "[Parallel(n_jobs=8)]: Done 165 tasks      | elapsed:  6.8min\n",
      "[Parallel(n_jobs=8)]: Done 184 tasks      | elapsed:  7.6min\n",
      "[Parallel(n_jobs=8)]: Done 205 tasks      | elapsed:  8.3min\n",
      "[Parallel(n_jobs=8)]: Done 226 tasks      | elapsed:  9.2min\n",
      "[Parallel(n_jobs=8)]: Done 249 tasks      | elapsed: 10.1min\n",
      "[Parallel(n_jobs=8)]: Done 272 tasks      | elapsed: 11.0min\n",
      "[Parallel(n_jobs=8)]: Done 297 tasks      | elapsed: 12.0min\n",
      "[Parallel(n_jobs=8)]: Done 322 tasks      | elapsed: 12.9min\n",
      "[Parallel(n_jobs=8)]: Done 349 tasks      | elapsed: 13.9min\n",
      "[Parallel(n_jobs=8)]: Done 364 out of 364 | elapsed: 14.4min finished\n"
     ]
    },
    {
     "name": "stdout",
     "output_type": "stream",
     "text": [
      "===== Batch 21/75 CPC010_PC3_24H =====\n",
      "Number of signatures: 355\n",
      "Number of pert samples: 1758\n",
      "(1758, 978)\n"
     ]
    },
    {
     "name": "stderr",
     "output_type": "stream",
     "text": [
      "[Parallel(n_jobs=8)]: Using backend MultiprocessingBackend with 8 concurrent workers.\n",
      "[Parallel(n_jobs=8)]: Done   2 tasks      | elapsed:   13.6s\n",
      "[Parallel(n_jobs=8)]: Done   9 tasks      | elapsed:   28.8s\n",
      "[Parallel(n_jobs=8)]: Done  16 tasks      | elapsed:   32.5s\n",
      "[Parallel(n_jobs=8)]: Done  25 tasks      | elapsed:   58.1s\n",
      "[Parallel(n_jobs=8)]: Done  34 tasks      | elapsed:  1.2min\n",
      "[Parallel(n_jobs=8)]: Done  45 tasks      | elapsed:  1.6min\n",
      "[Parallel(n_jobs=8)]: Done  56 tasks      | elapsed:  1.9min\n",
      "[Parallel(n_jobs=8)]: Done  69 tasks      | elapsed:  2.3min\n",
      "[Parallel(n_jobs=8)]: Done  82 tasks      | elapsed:  2.8min\n",
      "[Parallel(n_jobs=8)]: Done  97 tasks      | elapsed:  3.3min\n",
      "[Parallel(n_jobs=8)]: Done 112 tasks      | elapsed:  3.8min\n",
      "[Parallel(n_jobs=8)]: Done 129 tasks      | elapsed:  4.4min\n",
      "[Parallel(n_jobs=8)]: Done 146 tasks      | elapsed:  5.0min\n",
      "[Parallel(n_jobs=8)]: Done 165 tasks      | elapsed:  5.5min\n",
      "[Parallel(n_jobs=8)]: Done 184 tasks      | elapsed:  6.2min\n",
      "[Parallel(n_jobs=8)]: Done 205 tasks      | elapsed:  6.9min\n",
      "[Parallel(n_jobs=8)]: Done 226 tasks      | elapsed:  7.6min\n",
      "[Parallel(n_jobs=8)]: Done 249 tasks      | elapsed:  8.4min\n",
      "[Parallel(n_jobs=8)]: Done 272 tasks      | elapsed:  9.1min\n",
      "[Parallel(n_jobs=8)]: Done 297 tasks      | elapsed:  9.9min\n",
      "[Parallel(n_jobs=8)]: Done 322 tasks      | elapsed: 10.8min\n",
      "[Parallel(n_jobs=8)]: Done 355 out of 355 | elapsed: 11.7min finished\n"
     ]
    },
    {
     "name": "stdout",
     "output_type": "stream",
     "text": [
      "===== Batch 22/75 CPC010_PC3_6H =====\n",
      "Number of signatures: 356\n",
      "Number of pert samples: 1768\n",
      "(1768, 978)\n"
     ]
    },
    {
     "name": "stderr",
     "output_type": "stream",
     "text": [
      "[Parallel(n_jobs=8)]: Using backend MultiprocessingBackend with 8 concurrent workers.\n",
      "[Parallel(n_jobs=8)]: Done   2 tasks      | elapsed:   14.2s\n",
      "[Parallel(n_jobs=8)]: Done   9 tasks      | elapsed:   28.6s\n",
      "[Parallel(n_jobs=8)]: Done  16 tasks      | elapsed:   36.4s\n",
      "[Parallel(n_jobs=8)]: Done  25 tasks      | elapsed:   57.3s\n",
      "[Parallel(n_jobs=8)]: Done  34 tasks      | elapsed:  1.2min\n",
      "[Parallel(n_jobs=8)]: Done  45 tasks      | elapsed:  1.6min\n",
      "[Parallel(n_jobs=8)]: Done  56 tasks      | elapsed:  2.0min\n",
      "[Parallel(n_jobs=8)]: Done  69 tasks      | elapsed:  2.4min\n",
      "[Parallel(n_jobs=8)]: Done  82 tasks      | elapsed:  2.9min\n",
      "[Parallel(n_jobs=8)]: Done  97 tasks      | elapsed:  3.4min\n",
      "[Parallel(n_jobs=8)]: Done 112 tasks      | elapsed:  3.9min\n",
      "[Parallel(n_jobs=8)]: Done 129 tasks      | elapsed:  4.5min\n",
      "[Parallel(n_jobs=8)]: Done 146 tasks      | elapsed:  5.1min\n",
      "[Parallel(n_jobs=8)]: Done 165 tasks      | elapsed:  5.7min\n",
      "[Parallel(n_jobs=8)]: Done 184 tasks      | elapsed:  6.4min\n",
      "[Parallel(n_jobs=8)]: Done 205 tasks      | elapsed:  7.1min\n",
      "[Parallel(n_jobs=8)]: Done 226 tasks      | elapsed:  7.8min\n",
      "[Parallel(n_jobs=8)]: Done 249 tasks      | elapsed:  8.6min\n",
      "[Parallel(n_jobs=8)]: Done 272 tasks      | elapsed:  9.3min\n",
      "[Parallel(n_jobs=8)]: Done 297 tasks      | elapsed: 10.2min\n",
      "[Parallel(n_jobs=8)]: Done 322 tasks      | elapsed: 11.0min\n",
      "[Parallel(n_jobs=8)]: Done 356 out of 356 | elapsed: 12.0min finished\n"
     ]
    },
    {
     "name": "stdout",
     "output_type": "stream",
     "text": [
      "===== Batch 23/75 CPC011_PC3_24H =====\n",
      "Number of signatures: 354\n",
      "Number of pert samples: 1390\n",
      "(1390, 978)\n"
     ]
    },
    {
     "name": "stderr",
     "output_type": "stream",
     "text": [
      "[Parallel(n_jobs=8)]: Using backend MultiprocessingBackend with 8 concurrent workers.\n",
      "[Parallel(n_jobs=8)]: Done   2 tasks      | elapsed:   11.3s\n",
      "[Parallel(n_jobs=8)]: Done   9 tasks      | elapsed:   23.1s\n",
      "[Parallel(n_jobs=8)]: Done  16 tasks      | elapsed:   29.3s\n",
      "[Parallel(n_jobs=8)]: Done  25 tasks      | elapsed:   46.4s\n",
      "[Parallel(n_jobs=8)]: Done  34 tasks      | elapsed:  1.0min\n",
      "[Parallel(n_jobs=8)]: Done  45 tasks      | elapsed:  1.3min\n",
      "[Parallel(n_jobs=8)]: Done  56 tasks      | elapsed:  1.6min\n",
      "[Parallel(n_jobs=8)]: Done  69 tasks      | elapsed:  2.0min\n",
      "[Parallel(n_jobs=8)]: Done  82 tasks      | elapsed:  2.3min\n",
      "[Parallel(n_jobs=8)]: Done  97 tasks      | elapsed:  2.8min\n",
      "[Parallel(n_jobs=8)]: Done 112 tasks      | elapsed:  3.2min\n",
      "[Parallel(n_jobs=8)]: Done 129 tasks      | elapsed:  3.6min\n",
      "[Parallel(n_jobs=8)]: Done 146 tasks      | elapsed:  4.1min\n",
      "[Parallel(n_jobs=8)]: Done 165 tasks      | elapsed:  4.7min\n",
      "[Parallel(n_jobs=8)]: Done 184 tasks      | elapsed:  5.2min\n",
      "[Parallel(n_jobs=8)]: Done 205 tasks      | elapsed:  5.8min\n",
      "[Parallel(n_jobs=8)]: Done 226 tasks      | elapsed:  6.4min\n",
      "[Parallel(n_jobs=8)]: Done 249 tasks      | elapsed:  7.0min\n",
      "[Parallel(n_jobs=8)]: Done 272 tasks      | elapsed:  7.6min\n",
      "[Parallel(n_jobs=8)]: Done 297 tasks      | elapsed:  8.3min\n",
      "[Parallel(n_jobs=8)]: Done 322 tasks      | elapsed:  9.0min\n",
      "[Parallel(n_jobs=8)]: Done 354 out of 354 | elapsed:  9.9min finished\n"
     ]
    },
    {
     "name": "stdout",
     "output_type": "stream",
     "text": [
      "===== Batch 24/75 CPC011_PC3_6H =====\n",
      "Number of signatures: 356\n",
      "Number of pert samples: 1408\n",
      "(1408, 978)\n"
     ]
    },
    {
     "name": "stderr",
     "output_type": "stream",
     "text": [
      "[Parallel(n_jobs=8)]: Using backend MultiprocessingBackend with 8 concurrent workers.\n",
      "[Parallel(n_jobs=8)]: Done   2 tasks      | elapsed:   11.4s\n",
      "[Parallel(n_jobs=8)]: Done   9 tasks      | elapsed:   23.6s\n",
      "[Parallel(n_jobs=8)]: Done  16 tasks      | elapsed:   30.0s\n",
      "[Parallel(n_jobs=8)]: Done  25 tasks      | elapsed:   49.5s\n",
      "[Parallel(n_jobs=8)]: Done  34 tasks      | elapsed:  1.0min\n",
      "[Parallel(n_jobs=8)]: Done  45 tasks      | elapsed:  1.3min\n",
      "[Parallel(n_jobs=8)]: Done  56 tasks      | elapsed:  1.6min\n",
      "[Parallel(n_jobs=8)]: Done  69 tasks      | elapsed:  2.0min\n",
      "[Parallel(n_jobs=8)]: Done  82 tasks      | elapsed:  2.3min\n",
      "[Parallel(n_jobs=8)]: Done  97 tasks      | elapsed:  2.8min\n",
      "[Parallel(n_jobs=8)]: Done 112 tasks      | elapsed:  3.2min\n",
      "[Parallel(n_jobs=8)]: Done 129 tasks      | elapsed:  3.7min\n",
      "[Parallel(n_jobs=8)]: Done 146 tasks      | elapsed:  4.2min\n",
      "[Parallel(n_jobs=8)]: Done 165 tasks      | elapsed:  4.7min\n",
      "[Parallel(n_jobs=8)]: Done 184 tasks      | elapsed:  5.2min\n",
      "[Parallel(n_jobs=8)]: Done 205 tasks      | elapsed:  5.8min\n",
      "[Parallel(n_jobs=8)]: Done 226 tasks      | elapsed:  6.4min\n",
      "[Parallel(n_jobs=8)]: Done 249 tasks      | elapsed:  7.0min\n",
      "[Parallel(n_jobs=8)]: Done 272 tasks      | elapsed:  7.7min\n",
      "[Parallel(n_jobs=8)]: Done 297 tasks      | elapsed:  8.3min\n",
      "[Parallel(n_jobs=8)]: Done 322 tasks      | elapsed:  9.0min\n",
      "[Parallel(n_jobs=8)]: Done 356 out of 356 | elapsed:  9.9min finished\n"
     ]
    },
    {
     "name": "stdout",
     "output_type": "stream",
     "text": [
      "===== Batch 25/75 CPC012_PC3_24H =====\n",
      "Number of signatures: 364\n",
      "Number of pert samples: 1802\n",
      "(1802, 978)\n"
     ]
    },
    {
     "name": "stderr",
     "output_type": "stream",
     "text": [
      "[Parallel(n_jobs=8)]: Using backend MultiprocessingBackend with 8 concurrent workers.\n",
      "[Parallel(n_jobs=8)]: Done   2 tasks      | elapsed:   13.3s\n",
      "[Parallel(n_jobs=8)]: Done   9 tasks      | elapsed:   27.3s\n",
      "[Parallel(n_jobs=8)]: Done  16 tasks      | elapsed:   36.3s\n",
      "[Parallel(n_jobs=8)]: Done  25 tasks      | elapsed:   58.5s\n",
      "[Parallel(n_jobs=8)]: Done  34 tasks      | elapsed:  1.2min\n",
      "[Parallel(n_jobs=8)]: Done  45 tasks      | elapsed:  1.6min\n",
      "[Parallel(n_jobs=8)]: Done  56 tasks      | elapsed:  1.9min\n",
      "[Parallel(n_jobs=8)]: Done  69 tasks      | elapsed:  2.4min\n",
      "[Parallel(n_jobs=8)]: Done  82 tasks      | elapsed:  2.8min\n",
      "[Parallel(n_jobs=8)]: Done  97 tasks      | elapsed:  3.2min\n",
      "[Parallel(n_jobs=8)]: Done 112 tasks      | elapsed:  3.7min\n",
      "[Parallel(n_jobs=8)]: Done 129 tasks      | elapsed:  4.3min\n",
      "[Parallel(n_jobs=8)]: Done 146 tasks      | elapsed:  4.9min\n",
      "[Parallel(n_jobs=8)]: Done 165 tasks      | elapsed:  5.5min\n",
      "[Parallel(n_jobs=8)]: Done 184 tasks      | elapsed:  6.2min\n",
      "[Parallel(n_jobs=8)]: Done 205 tasks      | elapsed:  6.8min\n",
      "[Parallel(n_jobs=8)]: Done 226 tasks      | elapsed:  7.5min\n",
      "[Parallel(n_jobs=8)]: Done 249 tasks      | elapsed:  8.2min\n",
      "[Parallel(n_jobs=8)]: Done 272 tasks      | elapsed:  9.0min\n",
      "[Parallel(n_jobs=8)]: Done 297 tasks      | elapsed:  9.9min\n",
      "[Parallel(n_jobs=8)]: Done 322 tasks      | elapsed: 10.7min\n",
      "[Parallel(n_jobs=8)]: Done 349 tasks      | elapsed: 11.7min\n",
      "[Parallel(n_jobs=8)]: Done 364 out of 364 | elapsed: 12.0min finished\n"
     ]
    },
    {
     "name": "stdout",
     "output_type": "stream",
     "text": [
      "===== Batch 26/75 CPC012_PC3_6H =====\n",
      "Number of signatures: 364\n",
      "Number of pert samples: 1419\n",
      "(1419, 978)\n"
     ]
    },
    {
     "name": "stderr",
     "output_type": "stream",
     "text": [
      "[Parallel(n_jobs=8)]: Using backend MultiprocessingBackend with 8 concurrent workers.\n",
      "[Parallel(n_jobs=8)]: Done   2 tasks      | elapsed:   11.7s\n",
      "[Parallel(n_jobs=8)]: Done   9 tasks      | elapsed:   23.1s\n",
      "[Parallel(n_jobs=8)]: Done  16 tasks      | elapsed:   28.1s\n",
      "[Parallel(n_jobs=8)]: Done  25 tasks      | elapsed:   48.4s\n",
      "[Parallel(n_jobs=8)]: Done  34 tasks      | elapsed:  1.0min\n",
      "[Parallel(n_jobs=8)]: Done  45 tasks      | elapsed:  1.3min\n",
      "[Parallel(n_jobs=8)]: Done  56 tasks      | elapsed:  1.6min\n",
      "[Parallel(n_jobs=8)]: Done  69 tasks      | elapsed:  2.0min\n",
      "[Parallel(n_jobs=8)]: Done  82 tasks      | elapsed:  2.4min\n",
      "[Parallel(n_jobs=8)]: Done  97 tasks      | elapsed:  2.8min\n",
      "[Parallel(n_jobs=8)]: Done 112 tasks      | elapsed:  3.2min\n",
      "[Parallel(n_jobs=8)]: Done 129 tasks      | elapsed:  3.7min\n",
      "[Parallel(n_jobs=8)]: Done 146 tasks      | elapsed:  4.1min\n",
      "[Parallel(n_jobs=8)]: Done 165 tasks      | elapsed:  4.7min\n",
      "[Parallel(n_jobs=8)]: Done 184 tasks      | elapsed:  5.2min\n",
      "[Parallel(n_jobs=8)]: Done 205 tasks      | elapsed:  5.7min\n",
      "[Parallel(n_jobs=8)]: Done 226 tasks      | elapsed:  6.3min\n",
      "[Parallel(n_jobs=8)]: Done 249 tasks      | elapsed:  7.0min\n",
      "[Parallel(n_jobs=8)]: Done 272 tasks      | elapsed:  7.6min\n",
      "[Parallel(n_jobs=8)]: Done 297 tasks      | elapsed:  8.3min\n",
      "[Parallel(n_jobs=8)]: Done 322 tasks      | elapsed:  9.0min\n",
      "[Parallel(n_jobs=8)]: Done 349 tasks      | elapsed:  9.7min\n",
      "[Parallel(n_jobs=8)]: Done 364 out of 364 | elapsed: 10.1min finished\n"
     ]
    },
    {
     "name": "stdout",
     "output_type": "stream",
     "text": [
      "===== Batch 27/75 CPC013_PC3_24H =====\n",
      "Number of signatures: 363\n",
      "Number of pert samples: 1720\n",
      "(1720, 978)\n"
     ]
    },
    {
     "name": "stderr",
     "output_type": "stream",
     "text": [
      "[Parallel(n_jobs=8)]: Using backend MultiprocessingBackend with 8 concurrent workers.\n",
      "[Parallel(n_jobs=8)]: Done   2 tasks      | elapsed:   13.0s\n",
      "[Parallel(n_jobs=8)]: Done   9 tasks      | elapsed:   26.7s\n",
      "[Parallel(n_jobs=8)]: Done  16 tasks      | elapsed:   32.0s\n",
      "[Parallel(n_jobs=8)]: Done  25 tasks      | elapsed:   55.9s\n",
      "[Parallel(n_jobs=8)]: Done  34 tasks      | elapsed:  1.2min\n",
      "[Parallel(n_jobs=8)]: Done  45 tasks      | elapsed:  1.5min\n",
      "[Parallel(n_jobs=8)]: Done  56 tasks      | elapsed:  1.9min\n",
      "[Parallel(n_jobs=8)]: Done  69 tasks      | elapsed:  2.3min\n",
      "[Parallel(n_jobs=8)]: Done  82 tasks      | elapsed:  2.7min\n",
      "[Parallel(n_jobs=8)]: Done  97 tasks      | elapsed:  3.2min\n",
      "[Parallel(n_jobs=8)]: Done 112 tasks      | elapsed:  3.7min\n",
      "[Parallel(n_jobs=8)]: Done 129 tasks      | elapsed:  4.3min\n",
      "[Parallel(n_jobs=8)]: Done 146 tasks      | elapsed:  4.8min\n",
      "[Parallel(n_jobs=8)]: Done 165 tasks      | elapsed:  5.4min\n",
      "[Parallel(n_jobs=8)]: Done 184 tasks      | elapsed:  6.1min\n",
      "[Parallel(n_jobs=8)]: Done 205 tasks      | elapsed:  6.7min\n",
      "[Parallel(n_jobs=8)]: Done 226 tasks      | elapsed:  7.5min\n",
      "[Parallel(n_jobs=8)]: Done 249 tasks      | elapsed:  8.2min\n",
      "[Parallel(n_jobs=8)]: Done 272 tasks      | elapsed:  9.0min\n",
      "[Parallel(n_jobs=8)]: Done 297 tasks      | elapsed:  9.8min\n",
      "[Parallel(n_jobs=8)]: Done 322 tasks      | elapsed: 10.6min\n",
      "[Parallel(n_jobs=8)]: Done 363 out of 363 | elapsed: 11.8min finished\n"
     ]
    },
    {
     "name": "stdout",
     "output_type": "stream",
     "text": [
      "===== Batch 28/75 CPC013_PC3_6H =====\n",
      "Number of signatures: 364\n",
      "Number of pert samples: 1764\n",
      "(1764, 978)\n"
     ]
    },
    {
     "name": "stderr",
     "output_type": "stream",
     "text": [
      "[Parallel(n_jobs=8)]: Using backend MultiprocessingBackend with 8 concurrent workers.\n",
      "[Parallel(n_jobs=8)]: Done   2 tasks      | elapsed:   13.4s\n",
      "[Parallel(n_jobs=8)]: Done   9 tasks      | elapsed:   28.1s\n",
      "[Parallel(n_jobs=8)]: Done  16 tasks      | elapsed:   35.9s\n",
      "[Parallel(n_jobs=8)]: Done  25 tasks      | elapsed:   59.9s\n",
      "[Parallel(n_jobs=8)]: Done  34 tasks      | elapsed:  1.3min\n",
      "[Parallel(n_jobs=8)]: Done  45 tasks      | elapsed:  1.6min\n",
      "[Parallel(n_jobs=8)]: Done  56 tasks      | elapsed:  1.9min\n",
      "[Parallel(n_jobs=8)]: Done  69 tasks      | elapsed:  2.4min\n",
      "[Parallel(n_jobs=8)]: Done  82 tasks      | elapsed:  2.8min\n",
      "[Parallel(n_jobs=8)]: Done  97 tasks      | elapsed:  3.3min\n",
      "[Parallel(n_jobs=8)]: Done 112 tasks      | elapsed:  3.8min\n",
      "[Parallel(n_jobs=8)]: Done 129 tasks      | elapsed:  4.3min\n",
      "[Parallel(n_jobs=8)]: Done 146 tasks      | elapsed:  4.9min\n",
      "[Parallel(n_jobs=8)]: Done 165 tasks      | elapsed:  5.5min\n",
      "[Parallel(n_jobs=8)]: Done 184 tasks      | elapsed:  6.1min\n",
      "[Parallel(n_jobs=8)]: Done 205 tasks      | elapsed:  6.8min\n",
      "[Parallel(n_jobs=8)]: Done 226 tasks      | elapsed:  7.6min\n",
      "[Parallel(n_jobs=8)]: Done 249 tasks      | elapsed:  8.3min\n",
      "[Parallel(n_jobs=8)]: Done 272 tasks      | elapsed:  9.0min\n",
      "[Parallel(n_jobs=8)]: Done 297 tasks      | elapsed:  9.9min\n",
      "[Parallel(n_jobs=8)]: Done 322 tasks      | elapsed: 10.7min\n",
      "[Parallel(n_jobs=8)]: Done 349 tasks      | elapsed: 11.6min\n",
      "[Parallel(n_jobs=8)]: Done 364 out of 364 | elapsed: 12.0min finished\n"
     ]
    },
    {
     "name": "stdout",
     "output_type": "stream",
     "text": [
      "===== Batch 29/75 CPC014_PC3_24H =====\n",
      "Number of signatures: 351\n",
      "Number of pert samples: 1789\n",
      "(1789, 978)\n"
     ]
    },
    {
     "name": "stderr",
     "output_type": "stream",
     "text": [
      "[Parallel(n_jobs=8)]: Using backend MultiprocessingBackend with 8 concurrent workers.\n",
      "[Parallel(n_jobs=8)]: Done   2 tasks      | elapsed:   13.9s\n",
      "[Parallel(n_jobs=8)]: Done   9 tasks      | elapsed:   27.1s\n",
      "[Parallel(n_jobs=8)]: Done  16 tasks      | elapsed:   37.2s\n",
      "[Parallel(n_jobs=8)]: Done  25 tasks      | elapsed:   58.9s\n",
      "[Parallel(n_jobs=8)]: Done  34 tasks      | elapsed:  1.3min\n",
      "[Parallel(n_jobs=8)]: Done  45 tasks      | elapsed:  1.6min\n",
      "[Parallel(n_jobs=8)]: Done  56 tasks      | elapsed:  2.0min\n",
      "[Parallel(n_jobs=8)]: Done  69 tasks      | elapsed:  2.4min\n",
      "[Parallel(n_jobs=8)]: Done  82 tasks      | elapsed:  2.9min\n",
      "[Parallel(n_jobs=8)]: Done  97 tasks      | elapsed:  3.4min\n",
      "[Parallel(n_jobs=8)]: Done 112 tasks      | elapsed:  3.9min\n",
      "[Parallel(n_jobs=8)]: Done 129 tasks      | elapsed:  4.4min\n",
      "[Parallel(n_jobs=8)]: Done 146 tasks      | elapsed:  5.0min\n",
      "[Parallel(n_jobs=8)]: Done 165 tasks      | elapsed:  5.7min\n",
      "[Parallel(n_jobs=8)]: Done 184 tasks      | elapsed:  6.3min\n",
      "[Parallel(n_jobs=8)]: Done 205 tasks      | elapsed:  7.0min\n",
      "[Parallel(n_jobs=8)]: Done 226 tasks      | elapsed:  7.6min\n",
      "[Parallel(n_jobs=8)]: Done 249 tasks      | elapsed:  8.4min\n",
      "[Parallel(n_jobs=8)]: Done 272 tasks      | elapsed:  9.2min\n",
      "[Parallel(n_jobs=8)]: Done 297 tasks      | elapsed: 10.0min\n",
      "[Parallel(n_jobs=8)]: Done 322 tasks      | elapsed: 10.9min\n",
      "[Parallel(n_jobs=8)]: Done 351 out of 351 | elapsed: 11.8min finished\n"
     ]
    },
    {
     "name": "stdout",
     "output_type": "stream",
     "text": [
      "===== Batch 30/75 CPC014_PC3_6H =====\n",
      "Number of signatures: 353\n",
      "Number of pert samples: 1417\n",
      "(1417, 978)\n"
     ]
    },
    {
     "name": "stderr",
     "output_type": "stream",
     "text": [
      "[Parallel(n_jobs=8)]: Using backend MultiprocessingBackend with 8 concurrent workers.\n",
      "[Parallel(n_jobs=8)]: Done   2 tasks      | elapsed:   11.1s\n",
      "[Parallel(n_jobs=8)]: Done   9 tasks      | elapsed:   23.9s\n",
      "[Parallel(n_jobs=8)]: Done  16 tasks      | elapsed:   28.6s\n",
      "[Parallel(n_jobs=8)]: Done  25 tasks      | elapsed:   50.0s\n",
      "[Parallel(n_jobs=8)]: Done  34 tasks      | elapsed:  1.1min\n",
      "[Parallel(n_jobs=8)]: Done  45 tasks      | elapsed:  1.3min\n",
      "[Parallel(n_jobs=8)]: Done  56 tasks      | elapsed:  1.6min\n",
      "[Parallel(n_jobs=8)]: Done  69 tasks      | elapsed:  2.0min\n",
      "[Parallel(n_jobs=8)]: Done  82 tasks      | elapsed:  2.4min\n",
      "[Parallel(n_jobs=8)]: Done  97 tasks      | elapsed:  2.8min\n",
      "[Parallel(n_jobs=8)]: Done 112 tasks      | elapsed:  3.2min\n",
      "[Parallel(n_jobs=8)]: Done 129 tasks      | elapsed:  3.7min\n",
      "[Parallel(n_jobs=8)]: Done 146 tasks      | elapsed:  4.2min\n",
      "[Parallel(n_jobs=8)]: Done 165 tasks      | elapsed:  4.8min\n",
      "[Parallel(n_jobs=8)]: Done 184 tasks      | elapsed:  5.3min\n",
      "[Parallel(n_jobs=8)]: Done 205 tasks      | elapsed:  5.9min\n",
      "[Parallel(n_jobs=8)]: Done 226 tasks      | elapsed:  6.5min\n",
      "[Parallel(n_jobs=8)]: Done 249 tasks      | elapsed:  7.2min\n",
      "[Parallel(n_jobs=8)]: Done 272 tasks      | elapsed:  7.8min\n",
      "[Parallel(n_jobs=8)]: Done 297 tasks      | elapsed:  8.6min\n",
      "[Parallel(n_jobs=8)]: Done 322 tasks      | elapsed:  9.2min\n",
      "[Parallel(n_jobs=8)]: Done 353 out of 353 | elapsed: 10.0min finished\n"
     ]
    },
    {
     "name": "stdout",
     "output_type": "stream",
     "text": [
      "===== Batch 31/75 CPC019_PC3_24H =====\n",
      "Number of signatures: 364\n",
      "Number of pert samples: 2124\n",
      "(2124, 978)\n"
     ]
    },
    {
     "name": "stderr",
     "output_type": "stream",
     "text": [
      "[Parallel(n_jobs=8)]: Using backend MultiprocessingBackend with 8 concurrent workers.\n",
      "[Parallel(n_jobs=8)]: Done   2 tasks      | elapsed:   14.0s\n",
      "[Parallel(n_jobs=8)]: Done   9 tasks      | elapsed:   29.5s\n",
      "[Parallel(n_jobs=8)]: Done  16 tasks      | elapsed:   33.3s\n",
      "[Parallel(n_jobs=8)]: Done  25 tasks      | elapsed:  1.0min\n",
      "[Parallel(n_jobs=8)]: Done  34 tasks      | elapsed:  1.3min\n",
      "[Parallel(n_jobs=8)]: Done  45 tasks      | elapsed:  1.6min\n",
      "[Parallel(n_jobs=8)]: Done  56 tasks      | elapsed:  2.0min\n",
      "[Parallel(n_jobs=8)]: Done  69 tasks      | elapsed:  2.5min\n",
      "[Parallel(n_jobs=8)]: Done  82 tasks      | elapsed:  3.0min\n",
      "[Parallel(n_jobs=8)]: Done  97 tasks      | elapsed:  3.6min\n",
      "[Parallel(n_jobs=8)]: Done 112 tasks      | elapsed:  4.1min\n",
      "[Parallel(n_jobs=8)]: Done 129 tasks      | elapsed:  4.7min\n",
      "[Parallel(n_jobs=8)]: Done 146 tasks      | elapsed:  5.3min\n",
      "[Parallel(n_jobs=8)]: Done 165 tasks      | elapsed:  6.0min\n",
      "[Parallel(n_jobs=8)]: Done 184 tasks      | elapsed:  6.6min\n",
      "[Parallel(n_jobs=8)]: Done 205 tasks      | elapsed:  7.4min\n",
      "[Parallel(n_jobs=8)]: Done 226 tasks      | elapsed:  8.1min\n",
      "[Parallel(n_jobs=8)]: Done 249 tasks      | elapsed:  8.9min\n",
      "[Parallel(n_jobs=8)]: Done 272 tasks      | elapsed:  9.8min\n",
      "[Parallel(n_jobs=8)]: Done 297 tasks      | elapsed: 10.7min\n",
      "[Parallel(n_jobs=8)]: Done 322 tasks      | elapsed: 11.7min\n",
      "[Parallel(n_jobs=8)]: Done 349 tasks      | elapsed: 12.7min\n",
      "[Parallel(n_jobs=8)]: Done 364 out of 364 | elapsed: 13.1min finished\n"
     ]
    },
    {
     "name": "stdout",
     "output_type": "stream",
     "text": [
      "===== Batch 32/75 CPC019_PC3_6H =====\n",
      "Number of signatures: 363\n",
      "Number of pert samples: 1784\n",
      "(1784, 978)\n"
     ]
    },
    {
     "name": "stderr",
     "output_type": "stream",
     "text": [
      "[Parallel(n_jobs=8)]: Using backend MultiprocessingBackend with 8 concurrent workers.\n",
      "[Parallel(n_jobs=8)]: Done   2 tasks      | elapsed:   13.7s\n",
      "[Parallel(n_jobs=8)]: Done   9 tasks      | elapsed:   29.0s\n",
      "[Parallel(n_jobs=8)]: Done  16 tasks      | elapsed:   34.1s\n",
      "[Parallel(n_jobs=8)]: Done  25 tasks      | elapsed:  1.0min\n",
      "[Parallel(n_jobs=8)]: Done  34 tasks      | elapsed:  1.3min\n",
      "[Parallel(n_jobs=8)]: Done  45 tasks      | elapsed:  1.6min\n",
      "[Parallel(n_jobs=8)]: Done  56 tasks      | elapsed:  2.0min\n",
      "[Parallel(n_jobs=8)]: Done  69 tasks      | elapsed:  2.4min\n",
      "[Parallel(n_jobs=8)]: Done  82 tasks      | elapsed:  2.8min\n",
      "[Parallel(n_jobs=8)]: Done  97 tasks      | elapsed:  3.3min\n",
      "[Parallel(n_jobs=8)]: Done 112 tasks      | elapsed:  3.8min\n",
      "[Parallel(n_jobs=8)]: Done 129 tasks      | elapsed:  4.4min\n",
      "[Parallel(n_jobs=8)]: Done 146 tasks      | elapsed:  4.9min\n",
      "[Parallel(n_jobs=8)]: Done 165 tasks      | elapsed:  5.6min\n",
      "[Parallel(n_jobs=8)]: Done 184 tasks      | elapsed:  6.2min\n",
      "[Parallel(n_jobs=8)]: Done 205 tasks      | elapsed:  6.8min\n",
      "[Parallel(n_jobs=8)]: Done 226 tasks      | elapsed:  7.6min\n",
      "[Parallel(n_jobs=8)]: Done 249 tasks      | elapsed:  8.4min\n",
      "[Parallel(n_jobs=8)]: Done 272 tasks      | elapsed:  9.2min\n",
      "[Parallel(n_jobs=8)]: Done 297 tasks      | elapsed: 10.0min\n",
      "[Parallel(n_jobs=8)]: Done 322 tasks      | elapsed: 10.8min\n",
      "[Parallel(n_jobs=8)]: Done 363 out of 363 | elapsed: 12.0min finished\n"
     ]
    },
    {
     "name": "stdout",
     "output_type": "stream",
     "text": [
      "===== Batch 33/75 CPC020_PC3_24H =====\n",
      "Number of signatures: 330\n",
      "Number of pert samples: 1777\n",
      "(1777, 978)\n"
     ]
    },
    {
     "name": "stderr",
     "output_type": "stream",
     "text": [
      "[Parallel(n_jobs=8)]: Using backend MultiprocessingBackend with 8 concurrent workers.\n",
      "[Parallel(n_jobs=8)]: Done   2 tasks      | elapsed:   14.2s\n",
      "[Parallel(n_jobs=8)]: Done   9 tasks      | elapsed:   28.9s\n",
      "[Parallel(n_jobs=8)]: Done  16 tasks      | elapsed:   35.7s\n",
      "[Parallel(n_jobs=8)]: Done  25 tasks      | elapsed:   58.7s\n",
      "[Parallel(n_jobs=8)]: Done  34 tasks      | elapsed:  1.3min\n",
      "[Parallel(n_jobs=8)]: Done  45 tasks      | elapsed:  1.6min\n",
      "[Parallel(n_jobs=8)]: Done  56 tasks      | elapsed:  2.0min\n",
      "[Parallel(n_jobs=8)]: Done  69 tasks      | elapsed:  2.4min\n",
      "[Parallel(n_jobs=8)]: Done  82 tasks      | elapsed:  2.8min\n",
      "[Parallel(n_jobs=8)]: Done  97 tasks      | elapsed:  3.3min\n",
      "[Parallel(n_jobs=8)]: Done 112 tasks      | elapsed:  3.9min\n",
      "[Parallel(n_jobs=8)]: Done 129 tasks      | elapsed:  4.4min\n",
      "[Parallel(n_jobs=8)]: Done 146 tasks      | elapsed:  5.0min\n",
      "[Parallel(n_jobs=8)]: Done 165 tasks      | elapsed:  5.7min\n",
      "[Parallel(n_jobs=8)]: Done 184 tasks      | elapsed:  6.3min\n",
      "[Parallel(n_jobs=8)]: Done 205 tasks      | elapsed:  7.1min\n",
      "[Parallel(n_jobs=8)]: Done 226 tasks      | elapsed:  7.7min\n",
      "[Parallel(n_jobs=8)]: Done 249 tasks      | elapsed:  8.5min\n",
      "[Parallel(n_jobs=8)]: Done 272 tasks      | elapsed:  9.3min\n",
      "[Parallel(n_jobs=8)]: Done 297 tasks      | elapsed: 10.1min\n",
      "[Parallel(n_jobs=8)]: Done 330 out of 330 | elapsed: 11.0min finished\n"
     ]
    },
    {
     "name": "stdout",
     "output_type": "stream",
     "text": [
      "===== Batch 34/75 CPC020_PC3_6H =====\n",
      "Number of signatures: 330\n",
      "Number of pert samples: 1759\n",
      "(1759, 978)\n"
     ]
    },
    {
     "name": "stderr",
     "output_type": "stream",
     "text": [
      "[Parallel(n_jobs=8)]: Using backend MultiprocessingBackend with 8 concurrent workers.\n",
      "[Parallel(n_jobs=8)]: Done   2 tasks      | elapsed:   13.3s\n",
      "[Parallel(n_jobs=8)]: Done   9 tasks      | elapsed:   27.1s\n",
      "[Parallel(n_jobs=8)]: Done  16 tasks      | elapsed:   34.2s\n",
      "[Parallel(n_jobs=8)]: Done  25 tasks      | elapsed:   54.9s\n",
      "[Parallel(n_jobs=8)]: Done  34 tasks      | elapsed:  1.2min\n",
      "[Parallel(n_jobs=8)]: Done  45 tasks      | elapsed:  1.5min\n",
      "[Parallel(n_jobs=8)]: Done  56 tasks      | elapsed:  1.9min\n",
      "[Parallel(n_jobs=8)]: Done  69 tasks      | elapsed:  2.3min\n",
      "[Parallel(n_jobs=8)]: Done  82 tasks      | elapsed:  2.7min\n",
      "[Parallel(n_jobs=8)]: Done  97 tasks      | elapsed:  3.3min\n",
      "[Parallel(n_jobs=8)]: Done 112 tasks      | elapsed:  3.7min\n",
      "[Parallel(n_jobs=8)]: Done 129 tasks      | elapsed:  4.3min\n",
      "[Parallel(n_jobs=8)]: Done 146 tasks      | elapsed:  4.8min\n",
      "[Parallel(n_jobs=8)]: Done 165 tasks      | elapsed:  5.5min\n",
      "[Parallel(n_jobs=8)]: Done 184 tasks      | elapsed:  6.1min\n",
      "[Parallel(n_jobs=8)]: Done 205 tasks      | elapsed:  6.8min\n",
      "[Parallel(n_jobs=8)]: Done 226 tasks      | elapsed:  7.5min\n",
      "[Parallel(n_jobs=8)]: Done 249 tasks      | elapsed:  8.2min\n",
      "[Parallel(n_jobs=8)]: Done 272 tasks      | elapsed:  9.0min\n",
      "[Parallel(n_jobs=8)]: Done 297 tasks      | elapsed:  9.9min\n",
      "[Parallel(n_jobs=8)]: Done 330 out of 330 | elapsed: 10.8min finished\n"
     ]
    },
    {
     "name": "stdout",
     "output_type": "stream",
     "text": [
      "===== Batch 35/75 CPD001_PC3_24H =====\n",
      "Number of signatures: 364\n",
      "Number of pert samples: 1084\n",
      "(1084, 978)\n"
     ]
    },
    {
     "name": "stderr",
     "output_type": "stream",
     "text": [
      "[Parallel(n_jobs=8)]: Using backend MultiprocessingBackend with 8 concurrent workers.\n",
      "[Parallel(n_jobs=8)]: Done   2 tasks      | elapsed:    9.0s\n",
      "[Parallel(n_jobs=8)]: Done   9 tasks      | elapsed:   18.7s\n",
      "[Parallel(n_jobs=8)]: Done  16 tasks      | elapsed:   24.1s\n",
      "[Parallel(n_jobs=8)]: Done  25 tasks      | elapsed:   39.3s\n",
      "[Parallel(n_jobs=8)]: Done  34 tasks      | elapsed:   50.5s\n",
      "[Parallel(n_jobs=8)]: Done  45 tasks      | elapsed:  1.1min\n",
      "[Parallel(n_jobs=8)]: Done  56 tasks      | elapsed:  1.3min\n",
      "[Parallel(n_jobs=8)]: Done  69 tasks      | elapsed:  1.6min\n",
      "[Parallel(n_jobs=8)]: Done  82 tasks      | elapsed:  1.9min\n",
      "[Parallel(n_jobs=8)]: Done  97 tasks      | elapsed:  2.2min\n",
      "[Parallel(n_jobs=8)]: Done 112 tasks      | elapsed:  2.6min\n",
      "[Parallel(n_jobs=8)]: Done 129 tasks      | elapsed:  2.9min\n",
      "[Parallel(n_jobs=8)]: Done 146 tasks      | elapsed:  3.3min\n",
      "[Parallel(n_jobs=8)]: Done 165 tasks      | elapsed:  3.7min\n",
      "[Parallel(n_jobs=8)]: Done 184 tasks      | elapsed:  4.2min\n",
      "[Parallel(n_jobs=8)]: Done 205 tasks      | elapsed:  4.7min\n",
      "[Parallel(n_jobs=8)]: Done 226 tasks      | elapsed:  5.1min\n",
      "[Parallel(n_jobs=8)]: Done 249 tasks      | elapsed:  5.6min\n",
      "[Parallel(n_jobs=8)]: Done 272 tasks      | elapsed:  6.2min\n",
      "[Parallel(n_jobs=8)]: Done 297 tasks      | elapsed:  6.8min\n",
      "[Parallel(n_jobs=8)]: Done 322 tasks      | elapsed:  7.3min\n",
      "[Parallel(n_jobs=8)]: Done 349 tasks      | elapsed:  8.0min\n",
      "[Parallel(n_jobs=8)]: Done 364 out of 364 | elapsed:  8.2min finished\n"
     ]
    },
    {
     "name": "stdout",
     "output_type": "stream",
     "text": [
      "===== Batch 36/75 CPD002_PC3_24H =====\n",
      "Number of signatures: 361\n",
      "Number of pert samples: 1057\n",
      "(1057, 978)\n"
     ]
    },
    {
     "name": "stderr",
     "output_type": "stream",
     "text": [
      "[Parallel(n_jobs=8)]: Using backend MultiprocessingBackend with 8 concurrent workers.\n",
      "[Parallel(n_jobs=8)]: Done   2 tasks      | elapsed:    9.6s\n",
      "[Parallel(n_jobs=8)]: Done   9 tasks      | elapsed:   18.8s\n",
      "[Parallel(n_jobs=8)]: Done  16 tasks      | elapsed:   24.9s\n",
      "[Parallel(n_jobs=8)]: Done  25 tasks      | elapsed:   39.5s\n",
      "[Parallel(n_jobs=8)]: Done  34 tasks      | elapsed:   50.6s\n",
      "[Parallel(n_jobs=8)]: Done  45 tasks      | elapsed:  1.1min\n",
      "[Parallel(n_jobs=8)]: Done  56 tasks      | elapsed:  1.3min\n",
      "[Parallel(n_jobs=8)]: Done  69 tasks      | elapsed:  1.6min\n",
      "[Parallel(n_jobs=8)]: Done  82 tasks      | elapsed:  1.9min\n",
      "[Parallel(n_jobs=8)]: Done  97 tasks      | elapsed:  2.2min\n",
      "[Parallel(n_jobs=8)]: Done 112 tasks      | elapsed:  2.6min\n",
      "[Parallel(n_jobs=8)]: Done 129 tasks      | elapsed:  2.9min\n",
      "[Parallel(n_jobs=8)]: Done 146 tasks      | elapsed:  3.4min\n",
      "[Parallel(n_jobs=8)]: Done 165 tasks      | elapsed:  3.8min\n",
      "[Parallel(n_jobs=8)]: Done 184 tasks      | elapsed:  4.2min\n",
      "[Parallel(n_jobs=8)]: Done 205 tasks      | elapsed:  4.7min\n",
      "[Parallel(n_jobs=8)]: Done 226 tasks      | elapsed:  5.1min\n",
      "[Parallel(n_jobs=8)]: Done 249 tasks      | elapsed:  5.7min\n",
      "[Parallel(n_jobs=8)]: Done 272 tasks      | elapsed:  6.1min\n",
      "[Parallel(n_jobs=8)]: Done 297 tasks      | elapsed:  6.7min\n",
      "[Parallel(n_jobs=8)]: Done 322 tasks      | elapsed:  7.3min\n",
      "[Parallel(n_jobs=8)]: Done 361 out of 361 | elapsed:  8.1min finished\n"
     ]
    },
    {
     "name": "stdout",
     "output_type": "stream",
     "text": [
      "===== Batch 37/75 CPD002_PC3_6H =====\n",
      "Number of signatures: 361\n",
      "Number of pert samples: 1081\n",
      "(1081, 978)\n"
     ]
    },
    {
     "name": "stderr",
     "output_type": "stream",
     "text": [
      "[Parallel(n_jobs=8)]: Using backend MultiprocessingBackend with 8 concurrent workers.\n",
      "[Parallel(n_jobs=8)]: Done   2 tasks      | elapsed:    9.4s\n",
      "[Parallel(n_jobs=8)]: Done   9 tasks      | elapsed:   19.5s\n",
      "[Parallel(n_jobs=8)]: Done  16 tasks      | elapsed:   23.1s\n",
      "[Parallel(n_jobs=8)]: Done  25 tasks      | elapsed:   41.0s\n",
      "[Parallel(n_jobs=8)]: Done  34 tasks      | elapsed:   53.1s\n",
      "[Parallel(n_jobs=8)]: Done  45 tasks      | elapsed:  1.1min\n",
      "[Parallel(n_jobs=8)]: Done  56 tasks      | elapsed:  1.3min\n",
      "[Parallel(n_jobs=8)]: Done  69 tasks      | elapsed:  1.6min\n",
      "[Parallel(n_jobs=8)]: Done  82 tasks      | elapsed:  2.0min\n",
      "[Parallel(n_jobs=8)]: Done  97 tasks      | elapsed:  2.3min\n",
      "[Parallel(n_jobs=8)]: Done 112 tasks      | elapsed:  2.6min\n",
      "[Parallel(n_jobs=8)]: Done 129 tasks      | elapsed:  3.0min\n",
      "[Parallel(n_jobs=8)]: Done 146 tasks      | elapsed:  3.4min\n",
      "[Parallel(n_jobs=8)]: Done 165 tasks      | elapsed:  3.8min\n",
      "[Parallel(n_jobs=8)]: Done 184 tasks      | elapsed:  4.2min\n",
      "[Parallel(n_jobs=8)]: Done 205 tasks      | elapsed:  4.7min\n",
      "[Parallel(n_jobs=8)]: Done 226 tasks      | elapsed:  5.2min\n",
      "[Parallel(n_jobs=8)]: Done 249 tasks      | elapsed:  5.7min\n",
      "[Parallel(n_jobs=8)]: Done 272 tasks      | elapsed:  6.2min\n",
      "[Parallel(n_jobs=8)]: Done 297 tasks      | elapsed:  6.8min\n",
      "[Parallel(n_jobs=8)]: Done 322 tasks      | elapsed:  7.3min\n",
      "[Parallel(n_jobs=8)]: Done 361 out of 361 | elapsed:  8.1min finished\n"
     ]
    },
    {
     "name": "stdout",
     "output_type": "stream",
     "text": [
      "===== Batch 38/75 CPD003_PC3_24H =====\n",
      "Number of signatures: 352\n",
      "Number of pert samples: 714\n",
      "(714, 978)\n"
     ]
    },
    {
     "name": "stderr",
     "output_type": "stream",
     "text": [
      "[Parallel(n_jobs=8)]: Using backend MultiprocessingBackend with 8 concurrent workers.\n",
      "[Parallel(n_jobs=8)]: Done   2 tasks      | elapsed:    5.0s\n",
      "[Parallel(n_jobs=8)]: Done   9 tasks      | elapsed:    9.7s\n",
      "[Parallel(n_jobs=8)]: Done  16 tasks      | elapsed:   12.1s\n",
      "[Parallel(n_jobs=8)]: Done  25 tasks      | elapsed:   19.6s\n",
      "[Parallel(n_jobs=8)]: Done  34 tasks      | elapsed:   25.4s\n",
      "[Parallel(n_jobs=8)]: Done  45 tasks      | elapsed:   33.9s\n",
      "[Parallel(n_jobs=8)]: Done  56 tasks      | elapsed:   40.6s\n",
      "[Parallel(n_jobs=8)]: Done  69 tasks      | elapsed:   49.6s\n",
      "[Parallel(n_jobs=8)]: Done  82 tasks      | elapsed:   58.7s\n",
      "[Parallel(n_jobs=8)]: Done  97 tasks      | elapsed:  1.1min\n",
      "[Parallel(n_jobs=8)]: Done 112 tasks      | elapsed:  1.3min\n",
      "[Parallel(n_jobs=8)]: Done 129 tasks      | elapsed:  1.6min\n",
      "[Parallel(n_jobs=8)]: Done 146 tasks      | elapsed:  1.7min\n",
      "[Parallel(n_jobs=8)]: Done 165 tasks      | elapsed:  2.0min\n",
      "[Parallel(n_jobs=8)]: Done 184 tasks      | elapsed:  2.2min\n",
      "[Parallel(n_jobs=8)]: Done 205 tasks      | elapsed:  2.4min\n",
      "[Parallel(n_jobs=8)]: Done 226 tasks      | elapsed:  2.7min\n",
      "[Parallel(n_jobs=8)]: Done 249 tasks      | elapsed:  2.9min\n",
      "[Parallel(n_jobs=8)]: Done 272 tasks      | elapsed:  3.2min\n",
      "[Parallel(n_jobs=8)]: Done 297 tasks      | elapsed:  3.5min\n",
      "[Parallel(n_jobs=8)]: Done 322 tasks      | elapsed:  3.8min\n",
      "[Parallel(n_jobs=8)]: Done 352 out of 352 | elapsed:  4.1min finished\n"
     ]
    },
    {
     "name": "stdout",
     "output_type": "stream",
     "text": [
      "===== Batch 39/75 CPD003_PC3_6H =====\n",
      "Number of signatures: 360\n",
      "Number of pert samples: 1078\n",
      "(1078, 978)\n"
     ]
    },
    {
     "name": "stderr",
     "output_type": "stream",
     "text": [
      "[Parallel(n_jobs=8)]: Using backend MultiprocessingBackend with 8 concurrent workers.\n",
      "[Parallel(n_jobs=8)]: Done   2 tasks      | elapsed:    8.9s\n",
      "[Parallel(n_jobs=8)]: Done   9 tasks      | elapsed:   19.0s\n",
      "[Parallel(n_jobs=8)]: Done  16 tasks      | elapsed:   22.5s\n",
      "[Parallel(n_jobs=8)]: Done  25 tasks      | elapsed:   38.2s\n",
      "[Parallel(n_jobs=8)]: Done  34 tasks      | elapsed:   48.8s\n",
      "[Parallel(n_jobs=8)]: Done  45 tasks      | elapsed:  1.1min\n",
      "[Parallel(n_jobs=8)]: Done  56 tasks      | elapsed:  1.3min\n",
      "[Parallel(n_jobs=8)]: Done  69 tasks      | elapsed:  1.6min\n",
      "[Parallel(n_jobs=8)]: Done  82 tasks      | elapsed:  1.9min\n",
      "[Parallel(n_jobs=8)]: Done  97 tasks      | elapsed:  2.2min\n",
      "[Parallel(n_jobs=8)]: Done 112 tasks      | elapsed:  2.6min\n",
      "[Parallel(n_jobs=8)]: Done 129 tasks      | elapsed:  2.9min\n",
      "[Parallel(n_jobs=8)]: Done 146 tasks      | elapsed:  3.3min\n",
      "[Parallel(n_jobs=8)]: Done 165 tasks      | elapsed:  3.8min\n",
      "[Parallel(n_jobs=8)]: Done 184 tasks      | elapsed:  4.2min\n",
      "[Parallel(n_jobs=8)]: Done 205 tasks      | elapsed:  4.6min\n",
      "[Parallel(n_jobs=8)]: Done 226 tasks      | elapsed:  5.1min\n",
      "[Parallel(n_jobs=8)]: Done 249 tasks      | elapsed:  5.6min\n",
      "[Parallel(n_jobs=8)]: Done 272 tasks      | elapsed:  6.1min\n",
      "[Parallel(n_jobs=8)]: Done 297 tasks      | elapsed:  6.7min\n",
      "[Parallel(n_jobs=8)]: Done 322 tasks      | elapsed:  7.3min\n",
      "[Parallel(n_jobs=8)]: Done 360 out of 360 | elapsed:  8.0min finished\n"
     ]
    },
    {
     "name": "stdout",
     "output_type": "stream",
     "text": [
      "===== Batch 40/75 DEB001_PC3_24H =====\n",
      "Number of signatures: 100\n",
      "Number of pert samples: 895\n",
      "(895, 978)\n"
     ]
    },
    {
     "name": "stderr",
     "output_type": "stream",
     "text": [
      "[Parallel(n_jobs=8)]: Using backend MultiprocessingBackend with 8 concurrent workers.\n",
      "[Parallel(n_jobs=8)]: Done   2 tasks      | elapsed:    7.5s\n",
      "[Parallel(n_jobs=8)]: Done   9 tasks      | elapsed:   15.4s\n",
      "[Parallel(n_jobs=8)]: Done  16 tasks      | elapsed:   16.7s\n",
      "[Parallel(n_jobs=8)]: Done  25 tasks      | elapsed:   32.2s\n",
      "[Parallel(n_jobs=8)]: Done  34 tasks      | elapsed:   40.0s\n",
      "[Parallel(n_jobs=8)]: Done  45 tasks      | elapsed:   48.7s\n",
      "[Parallel(n_jobs=8)]: Done  56 tasks      | elapsed:   59.9s\n",
      "[Parallel(n_jobs=8)]: Done  69 tasks      | elapsed:  1.3min\n",
      "[Parallel(n_jobs=8)]: Done  82 tasks      | elapsed:  1.5min\n",
      "[Parallel(n_jobs=8)]: Done  96 out of 100 | elapsed:  1.7min remaining:    4.2s\n",
      "[Parallel(n_jobs=8)]: Done 100 out of 100 | elapsed:  1.7min finished\n"
     ]
    },
    {
     "name": "stdout",
     "output_type": "stream",
     "text": [
      "===== Batch 41/75 DEB001_PC3_6H =====\n",
      "Number of signatures: 100\n",
      "Number of pert samples: 892\n",
      "(892, 978)\n"
     ]
    },
    {
     "name": "stderr",
     "output_type": "stream",
     "text": [
      "[Parallel(n_jobs=8)]: Using backend MultiprocessingBackend with 8 concurrent workers.\n",
      "[Parallel(n_jobs=8)]: Done   2 tasks      | elapsed:    7.5s\n",
      "[Parallel(n_jobs=8)]: Done   9 tasks      | elapsed:   15.3s\n",
      "[Parallel(n_jobs=8)]: Done  16 tasks      | elapsed:   20.4s\n",
      "[Parallel(n_jobs=8)]: Done  25 tasks      | elapsed:   31.7s\n",
      "[Parallel(n_jobs=8)]: Done  34 tasks      | elapsed:   39.8s\n",
      "[Parallel(n_jobs=8)]: Done  45 tasks      | elapsed:   49.3s\n",
      "[Parallel(n_jobs=8)]: Done  56 tasks      | elapsed:  1.0min\n",
      "[Parallel(n_jobs=8)]: Done  69 tasks      | elapsed:  1.3min\n",
      "[Parallel(n_jobs=8)]: Done  82 tasks      | elapsed:  1.5min\n",
      "[Parallel(n_jobs=8)]: Done  96 out of 100 | elapsed:  1.7min remaining:    4.3s\n",
      "[Parallel(n_jobs=8)]: Done 100 out of 100 | elapsed:  1.8min finished\n"
     ]
    },
    {
     "name": "stdout",
     "output_type": "stream",
     "text": [
      "===== Batch 42/75 DOS031_PC3_24H =====\n",
      "Number of signatures: 288\n",
      "Number of pert samples: 606\n",
      "(606, 978)\n"
     ]
    },
    {
     "name": "stderr",
     "output_type": "stream",
     "text": [
      "[Parallel(n_jobs=8)]: Using backend MultiprocessingBackend with 8 concurrent workers.\n",
      "[Parallel(n_jobs=8)]: Done   2 tasks      | elapsed:    4.1s\n",
      "[Parallel(n_jobs=8)]: Done   9 tasks      | elapsed:    7.8s\n",
      "[Parallel(n_jobs=8)]: Done  16 tasks      | elapsed:    9.9s\n",
      "[Parallel(n_jobs=8)]: Done  25 tasks      | elapsed:   15.5s\n",
      "[Parallel(n_jobs=8)]: Done  34 tasks      | elapsed:   20.6s\n",
      "[Parallel(n_jobs=8)]: Done  45 tasks      | elapsed:   25.9s\n",
      "[Parallel(n_jobs=8)]: Done  56 tasks      | elapsed:   33.1s\n",
      "[Parallel(n_jobs=8)]: Done  69 tasks      | elapsed:   38.2s\n",
      "[Parallel(n_jobs=8)]: Done  82 tasks      | elapsed:   45.8s\n",
      "[Parallel(n_jobs=8)]: Done  97 tasks      | elapsed:   53.5s\n",
      "[Parallel(n_jobs=8)]: Done 112 tasks      | elapsed:  1.0min\n",
      "[Parallel(n_jobs=8)]: Done 129 tasks      | elapsed:  1.2min\n",
      "[Parallel(n_jobs=8)]: Done 146 tasks      | elapsed:  1.3min\n",
      "[Parallel(n_jobs=8)]: Done 165 tasks      | elapsed:  1.5min\n",
      "[Parallel(n_jobs=8)]: Done 184 tasks      | elapsed:  1.7min\n",
      "[Parallel(n_jobs=8)]: Done 205 tasks      | elapsed:  1.9min\n",
      "[Parallel(n_jobs=8)]: Done 226 tasks      | elapsed:  2.1min\n",
      "[Parallel(n_jobs=8)]: Done 249 tasks      | elapsed:  2.3min\n",
      "[Parallel(n_jobs=8)]: Done 272 tasks      | elapsed:  2.5min\n",
      "[Parallel(n_jobs=8)]: Done 288 out of 288 | elapsed:  2.6min finished\n"
     ]
    },
    {
     "name": "stdout",
     "output_type": "stream",
     "text": [
      "===== Batch 43/75 DOS032_PC3_24H =====\n",
      "Number of signatures: 306\n",
      "Number of pert samples: 622\n",
      "(622, 978)\n"
     ]
    },
    {
     "name": "stderr",
     "output_type": "stream",
     "text": [
      "[Parallel(n_jobs=8)]: Using backend MultiprocessingBackend with 8 concurrent workers.\n",
      "[Parallel(n_jobs=8)]: Done   2 tasks      | elapsed:    4.1s\n",
      "[Parallel(n_jobs=8)]: Done   9 tasks      | elapsed:    7.0s\n",
      "[Parallel(n_jobs=8)]: Done  16 tasks      | elapsed:   10.2s\n",
      "[Parallel(n_jobs=8)]: Done  25 tasks      | elapsed:   15.8s\n",
      "[Parallel(n_jobs=8)]: Done  34 tasks      | elapsed:   20.7s\n",
      "[Parallel(n_jobs=8)]: Done  45 tasks      | elapsed:   26.2s\n",
      "[Parallel(n_jobs=8)]: Done  56 tasks      | elapsed:   32.1s\n",
      "[Parallel(n_jobs=8)]: Done  69 tasks      | elapsed:   39.8s\n",
      "[Parallel(n_jobs=8)]: Done  82 tasks      | elapsed:   46.9s\n",
      "[Parallel(n_jobs=8)]: Done  97 tasks      | elapsed:   54.7s\n",
      "[Parallel(n_jobs=8)]: Done 112 tasks      | elapsed:  1.1min\n",
      "[Parallel(n_jobs=8)]: Done 129 tasks      | elapsed:  1.2min\n",
      "[Parallel(n_jobs=8)]: Done 146 tasks      | elapsed:  1.4min\n",
      "[Parallel(n_jobs=8)]: Done 165 tasks      | elapsed:  1.5min\n",
      "[Parallel(n_jobs=8)]: Done 184 tasks      | elapsed:  1.7min\n",
      "[Parallel(n_jobs=8)]: Done 205 tasks      | elapsed:  1.9min\n",
      "[Parallel(n_jobs=8)]: Done 226 tasks      | elapsed:  2.1min\n",
      "[Parallel(n_jobs=8)]: Done 249 tasks      | elapsed:  2.3min\n",
      "[Parallel(n_jobs=8)]: Done 272 tasks      | elapsed:  2.5min\n",
      "[Parallel(n_jobs=8)]: Done 306 out of 306 | elapsed:  2.8min finished\n"
     ]
    },
    {
     "name": "stdout",
     "output_type": "stream",
     "text": [
      "===== Batch 44/75 DOS033_PC3_24H =====\n",
      "Number of signatures: 314\n",
      "Number of pert samples: 924\n",
      "(924, 978)\n"
     ]
    },
    {
     "name": "stderr",
     "output_type": "stream",
     "text": [
      "[Parallel(n_jobs=8)]: Using backend MultiprocessingBackend with 8 concurrent workers.\n",
      "[Parallel(n_jobs=8)]: Done   2 tasks      | elapsed:    8.2s\n",
      "[Parallel(n_jobs=8)]: Done   9 tasks      | elapsed:   16.8s\n",
      "[Parallel(n_jobs=8)]: Done  16 tasks      | elapsed:   20.5s\n",
      "[Parallel(n_jobs=8)]: Done  25 tasks      | elapsed:   33.5s\n",
      "[Parallel(n_jobs=8)]: Done  34 tasks      | elapsed:   42.4s\n",
      "[Parallel(n_jobs=8)]: Done  45 tasks      | elapsed:   54.3s\n",
      "[Parallel(n_jobs=8)]: Done  56 tasks      | elapsed:  1.1min\n",
      "[Parallel(n_jobs=8)]: Done  69 tasks      | elapsed:  1.4min\n",
      "[Parallel(n_jobs=8)]: Done  82 tasks      | elapsed:  1.6min\n",
      "[Parallel(n_jobs=8)]: Done  97 tasks      | elapsed:  1.9min\n",
      "[Parallel(n_jobs=8)]: Done 112 tasks      | elapsed:  2.2min\n",
      "[Parallel(n_jobs=8)]: Done 129 tasks      | elapsed:  2.5min\n",
      "[Parallel(n_jobs=8)]: Done 146 tasks      | elapsed:  2.8min\n",
      "[Parallel(n_jobs=8)]: Done 165 tasks      | elapsed:  3.2min\n",
      "[Parallel(n_jobs=8)]: Done 184 tasks      | elapsed:  3.5min\n",
      "[Parallel(n_jobs=8)]: Done 205 tasks      | elapsed:  3.9min\n",
      "[Parallel(n_jobs=8)]: Done 226 tasks      | elapsed:  4.3min\n",
      "[Parallel(n_jobs=8)]: Done 249 tasks      | elapsed:  4.7min\n",
      "[Parallel(n_jobs=8)]: Done 272 tasks      | elapsed:  5.2min\n",
      "[Parallel(n_jobs=8)]: Done 297 tasks      | elapsed:  5.7min\n",
      "[Parallel(n_jobs=8)]: Done 314 out of 314 | elapsed:  5.9min finished\n"
     ]
    },
    {
     "name": "stdout",
     "output_type": "stream",
     "text": [
      "===== Batch 45/75 DOS034_PC3_24H =====\n",
      "Number of signatures: 315\n",
      "Number of pert samples: 934\n",
      "(934, 978)\n"
     ]
    },
    {
     "name": "stderr",
     "output_type": "stream",
     "text": [
      "[Parallel(n_jobs=8)]: Using backend MultiprocessingBackend with 8 concurrent workers.\n",
      "[Parallel(n_jobs=8)]: Done   2 tasks      | elapsed:    8.2s\n",
      "[Parallel(n_jobs=8)]: Done   9 tasks      | elapsed:   16.5s\n",
      "[Parallel(n_jobs=8)]: Done  16 tasks      | elapsed:   20.4s\n",
      "[Parallel(n_jobs=8)]: Done  25 tasks      | elapsed:   33.2s\n",
      "[Parallel(n_jobs=8)]: Done  34 tasks      | elapsed:   43.1s\n",
      "[Parallel(n_jobs=8)]: Done  45 tasks      | elapsed:   55.8s\n",
      "[Parallel(n_jobs=8)]: Done  56 tasks      | elapsed:  1.1min\n",
      "[Parallel(n_jobs=8)]: Done  69 tasks      | elapsed:  1.4min\n",
      "[Parallel(n_jobs=8)]: Done  82 tasks      | elapsed:  1.6min\n",
      "[Parallel(n_jobs=8)]: Done  97 tasks      | elapsed:  1.9min\n",
      "[Parallel(n_jobs=8)]: Done 112 tasks      | elapsed:  2.2min\n",
      "[Parallel(n_jobs=8)]: Done 129 tasks      | elapsed:  2.5min\n",
      "[Parallel(n_jobs=8)]: Done 146 tasks      | elapsed:  2.8min\n",
      "[Parallel(n_jobs=8)]: Done 165 tasks      | elapsed:  3.2min\n",
      "[Parallel(n_jobs=8)]: Done 184 tasks      | elapsed:  3.6min\n",
      "[Parallel(n_jobs=8)]: Done 205 tasks      | elapsed:  4.0min\n",
      "[Parallel(n_jobs=8)]: Done 226 tasks      | elapsed:  4.3min\n",
      "[Parallel(n_jobs=8)]: Done 249 tasks      | elapsed:  4.8min\n",
      "[Parallel(n_jobs=8)]: Done 272 tasks      | elapsed:  5.3min\n",
      "[Parallel(n_jobs=8)]: Done 297 tasks      | elapsed:  5.7min\n",
      "[Parallel(n_jobs=8)]: Done 315 out of 315 | elapsed:  6.0min finished\n"
     ]
    },
    {
     "name": "stdout",
     "output_type": "stream",
     "text": [
      "===== Batch 46/75 DOS046_PC3_24H =====\n",
      "Number of signatures: 317\n",
      "Number of pert samples: 948\n",
      "(948, 978)\n"
     ]
    },
    {
     "name": "stderr",
     "output_type": "stream",
     "text": [
      "[Parallel(n_jobs=8)]: Using backend MultiprocessingBackend with 8 concurrent workers.\n",
      "[Parallel(n_jobs=8)]: Done   2 tasks      | elapsed:    7.8s\n",
      "[Parallel(n_jobs=8)]: Done   9 tasks      | elapsed:   16.3s\n",
      "[Parallel(n_jobs=8)]: Done  16 tasks      | elapsed:   20.8s\n",
      "[Parallel(n_jobs=8)]: Done  25 tasks      | elapsed:   34.1s\n",
      "[Parallel(n_jobs=8)]: Done  34 tasks      | elapsed:   43.9s\n",
      "[Parallel(n_jobs=8)]: Done  45 tasks      | elapsed:   57.2s\n",
      "[Parallel(n_jobs=8)]: Done  56 tasks      | elapsed:  1.2min\n",
      "[Parallel(n_jobs=8)]: Done  69 tasks      | elapsed:  1.4min\n",
      "[Parallel(n_jobs=8)]: Done  82 tasks      | elapsed:  1.7min\n",
      "[Parallel(n_jobs=8)]: Done  97 tasks      | elapsed:  2.0min\n",
      "[Parallel(n_jobs=8)]: Done 112 tasks      | elapsed:  2.3min\n",
      "[Parallel(n_jobs=8)]: Done 129 tasks      | elapsed:  2.7min\n",
      "[Parallel(n_jobs=8)]: Done 146 tasks      | elapsed:  3.0min\n",
      "[Parallel(n_jobs=8)]: Done 165 tasks      | elapsed:  3.4min\n",
      "[Parallel(n_jobs=8)]: Done 184 tasks      | elapsed:  3.8min\n",
      "[Parallel(n_jobs=8)]: Done 205 tasks      | elapsed:  4.2min\n",
      "[Parallel(n_jobs=8)]: Done 226 tasks      | elapsed:  4.6min\n",
      "[Parallel(n_jobs=8)]: Done 249 tasks      | elapsed:  5.1min\n",
      "[Parallel(n_jobs=8)]: Done 272 tasks      | elapsed:  5.6min\n",
      "[Parallel(n_jobs=8)]: Done 297 tasks      | elapsed:  6.1min\n",
      "[Parallel(n_jobs=8)]: Done 317 out of 317 | elapsed:  6.4min finished\n"
     ]
    },
    {
     "name": "stdout",
     "output_type": "stream",
     "text": [
      "===== Batch 47/75 DOS047_PC3_24H =====\n",
      "Number of signatures: 317\n",
      "Number of pert samples: 930\n",
      "(930, 978)\n"
     ]
    },
    {
     "name": "stderr",
     "output_type": "stream",
     "text": [
      "[Parallel(n_jobs=8)]: Using backend MultiprocessingBackend with 8 concurrent workers.\n",
      "[Parallel(n_jobs=8)]: Done   2 tasks      | elapsed:    7.6s\n",
      "[Parallel(n_jobs=8)]: Done   9 tasks      | elapsed:   15.4s\n",
      "[Parallel(n_jobs=8)]: Done  16 tasks      | elapsed:   17.8s\n",
      "[Parallel(n_jobs=8)]: Done  25 tasks      | elapsed:   33.5s\n",
      "[Parallel(n_jobs=8)]: Done  34 tasks      | elapsed:   43.0s\n",
      "[Parallel(n_jobs=8)]: Done  45 tasks      | elapsed:   54.9s\n",
      "[Parallel(n_jobs=8)]: Done  56 tasks      | elapsed:  1.1min\n",
      "[Parallel(n_jobs=8)]: Done  69 tasks      | elapsed:  1.4min\n",
      "[Parallel(n_jobs=8)]: Done  82 tasks      | elapsed:  1.6min\n",
      "[Parallel(n_jobs=8)]: Done  97 tasks      | elapsed:  1.9min\n",
      "[Parallel(n_jobs=8)]: Done 112 tasks      | elapsed:  2.2min\n",
      "[Parallel(n_jobs=8)]: Done 129 tasks      | elapsed:  2.5min\n",
      "[Parallel(n_jobs=8)]: Done 146 tasks      | elapsed:  2.9min\n",
      "[Parallel(n_jobs=8)]: Done 165 tasks      | elapsed:  3.2min\n",
      "[Parallel(n_jobs=8)]: Done 184 tasks      | elapsed:  3.6min\n",
      "[Parallel(n_jobs=8)]: Done 205 tasks      | elapsed:  4.0min\n",
      "[Parallel(n_jobs=8)]: Done 226 tasks      | elapsed:  4.4min\n",
      "[Parallel(n_jobs=8)]: Done 249 tasks      | elapsed:  4.9min\n",
      "[Parallel(n_jobs=8)]: Done 272 tasks      | elapsed:  5.3min\n",
      "[Parallel(n_jobs=8)]: Done 297 tasks      | elapsed:  5.8min\n",
      "[Parallel(n_jobs=8)]: Done 317 out of 317 | elapsed:  6.1min finished\n"
     ]
    },
    {
     "name": "stdout",
     "output_type": "stream",
     "text": [
      "===== Batch 48/75 DOS050_PC3_24H =====\n",
      "Number of signatures: 311\n",
      "Number of pert samples: 628\n",
      "(628, 978)\n"
     ]
    },
    {
     "name": "stderr",
     "output_type": "stream",
     "text": [
      "[Parallel(n_jobs=8)]: Using backend MultiprocessingBackend with 8 concurrent workers.\n",
      "[Parallel(n_jobs=8)]: Done   2 tasks      | elapsed:    3.8s\n",
      "[Parallel(n_jobs=8)]: Done   9 tasks      | elapsed:    7.5s\n",
      "[Parallel(n_jobs=8)]: Done  16 tasks      | elapsed:    9.9s\n",
      "[Parallel(n_jobs=8)]: Done  25 tasks      | elapsed:   16.5s\n",
      "[Parallel(n_jobs=8)]: Done  34 tasks      | elapsed:   21.5s\n",
      "[Parallel(n_jobs=8)]: Done  45 tasks      | elapsed:   26.8s\n",
      "[Parallel(n_jobs=8)]: Done  56 tasks      | elapsed:   34.8s\n",
      "[Parallel(n_jobs=8)]: Done  69 tasks      | elapsed:   40.2s\n",
      "[Parallel(n_jobs=8)]: Done  82 tasks      | elapsed:   48.6s\n",
      "[Parallel(n_jobs=8)]: Done  97 tasks      | elapsed:   57.7s\n",
      "[Parallel(n_jobs=8)]: Done 112 tasks      | elapsed:  1.1min\n",
      "[Parallel(n_jobs=8)]: Done 129 tasks      | elapsed:  1.3min\n",
      "[Parallel(n_jobs=8)]: Done 146 tasks      | elapsed:  1.4min\n",
      "[Parallel(n_jobs=8)]: Done 165 tasks      | elapsed:  1.6min\n",
      "[Parallel(n_jobs=8)]: Done 184 tasks      | elapsed:  1.8min\n",
      "[Parallel(n_jobs=8)]: Done 205 tasks      | elapsed:  2.0min\n",
      "[Parallel(n_jobs=8)]: Done 226 tasks      | elapsed:  2.2min\n",
      "[Parallel(n_jobs=8)]: Done 249 tasks      | elapsed:  2.4min\n",
      "[Parallel(n_jobs=8)]: Done 272 tasks      | elapsed:  2.6min\n",
      "[Parallel(n_jobs=8)]: Done 311 out of 311 | elapsed:  3.0min finished\n"
     ]
    },
    {
     "name": "stdout",
     "output_type": "stream",
     "text": [
      "===== Batch 49/75 DOS051_PC3_24H =====\n",
      "Number of signatures: 315\n",
      "Number of pert samples: 632\n",
      "(632, 978)\n"
     ]
    },
    {
     "name": "stderr",
     "output_type": "stream",
     "text": [
      "[Parallel(n_jobs=8)]: Using backend MultiprocessingBackend with 8 concurrent workers.\n",
      "[Parallel(n_jobs=8)]: Done   2 tasks      | elapsed:    3.8s\n",
      "[Parallel(n_jobs=8)]: Done   9 tasks      | elapsed:    7.0s\n",
      "[Parallel(n_jobs=8)]: Done  16 tasks      | elapsed:    9.3s\n",
      "[Parallel(n_jobs=8)]: Done  25 tasks      | elapsed:   14.6s\n",
      "[Parallel(n_jobs=8)]: Done  34 tasks      | elapsed:   20.5s\n",
      "[Parallel(n_jobs=8)]: Done  45 tasks      | elapsed:   27.0s\n",
      "[Parallel(n_jobs=8)]: Done  56 tasks      | elapsed:   32.4s\n",
      "[Parallel(n_jobs=8)]: Done  69 tasks      | elapsed:   40.3s\n",
      "[Parallel(n_jobs=8)]: Done  82 tasks      | elapsed:   47.3s\n",
      "[Parallel(n_jobs=8)]: Done  97 tasks      | elapsed:   57.4s\n",
      "[Parallel(n_jobs=8)]: Done 112 tasks      | elapsed:  1.1min\n",
      "[Parallel(n_jobs=8)]: Done 129 tasks      | elapsed:  1.3min\n",
      "[Parallel(n_jobs=8)]: Done 146 tasks      | elapsed:  1.4min\n",
      "[Parallel(n_jobs=8)]: Done 165 tasks      | elapsed:  1.6min\n",
      "[Parallel(n_jobs=8)]: Done 184 tasks      | elapsed:  1.8min\n",
      "[Parallel(n_jobs=8)]: Done 205 tasks      | elapsed:  2.0min\n",
      "[Parallel(n_jobs=8)]: Done 226 tasks      | elapsed:  2.2min\n",
      "[Parallel(n_jobs=8)]: Done 249 tasks      | elapsed:  2.4min\n",
      "[Parallel(n_jobs=8)]: Done 272 tasks      | elapsed:  2.6min\n",
      "[Parallel(n_jobs=8)]: Done 297 tasks      | elapsed:  2.9min\n",
      "[Parallel(n_jobs=8)]: Done 315 out of 315 | elapsed:  3.0min finished\n"
     ]
    },
    {
     "name": "stdout",
     "output_type": "stream",
     "text": [
      "===== Batch 50/75 DOS053_PC3_24H =====\n",
      "Number of signatures: 300\n",
      "Number of pert samples: 615\n",
      "(615, 978)\n"
     ]
    },
    {
     "name": "stderr",
     "output_type": "stream",
     "text": [
      "[Parallel(n_jobs=8)]: Using backend MultiprocessingBackend with 8 concurrent workers.\n",
      "[Parallel(n_jobs=8)]: Done   2 tasks      | elapsed:    3.7s\n",
      "[Parallel(n_jobs=8)]: Done   9 tasks      | elapsed:    7.5s\n",
      "[Parallel(n_jobs=8)]: Done  16 tasks      | elapsed:   11.7s\n",
      "[Parallel(n_jobs=8)]: Done  25 tasks      | elapsed:   16.1s\n",
      "[Parallel(n_jobs=8)]: Done  34 tasks      | elapsed:   20.6s\n",
      "[Parallel(n_jobs=8)]: Done  45 tasks      | elapsed:   26.0s\n",
      "[Parallel(n_jobs=8)]: Done  56 tasks      | elapsed:   33.2s\n",
      "[Parallel(n_jobs=8)]: Done  69 tasks      | elapsed:   38.9s\n",
      "[Parallel(n_jobs=8)]: Done  82 tasks      | elapsed:   47.4s\n",
      "[Parallel(n_jobs=8)]: Done  97 tasks      | elapsed:   55.6s\n",
      "[Parallel(n_jobs=8)]: Done 112 tasks      | elapsed:  1.1min\n",
      "[Parallel(n_jobs=8)]: Done 129 tasks      | elapsed:  1.2min\n",
      "[Parallel(n_jobs=8)]: Done 146 tasks      | elapsed:  1.4min\n",
      "[Parallel(n_jobs=8)]: Done 165 tasks      | elapsed:  1.5min\n",
      "[Parallel(n_jobs=8)]: Done 184 tasks      | elapsed:  1.8min\n",
      "[Parallel(n_jobs=8)]: Done 205 tasks      | elapsed:  2.0min\n",
      "[Parallel(n_jobs=8)]: Done 226 tasks      | elapsed:  2.2min\n",
      "[Parallel(n_jobs=8)]: Done 249 tasks      | elapsed:  2.4min\n",
      "[Parallel(n_jobs=8)]: Done 272 tasks      | elapsed:  2.6min\n",
      "[Parallel(n_jobs=8)]: Done 300 out of 300 | elapsed:  2.8min finished\n"
     ]
    },
    {
     "name": "stdout",
     "output_type": "stream",
     "text": [
      "===== Batch 51/75 DOS054_PC3_24H =====\n",
      "Number of signatures: 315\n",
      "Number of pert samples: 632\n",
      "(632, 978)\n"
     ]
    },
    {
     "name": "stderr",
     "output_type": "stream",
     "text": [
      "[Parallel(n_jobs=8)]: Using backend MultiprocessingBackend with 8 concurrent workers.\n",
      "[Parallel(n_jobs=8)]: Done   2 tasks      | elapsed:    4.2s\n",
      "[Parallel(n_jobs=8)]: Done   9 tasks      | elapsed:    7.8s\n",
      "[Parallel(n_jobs=8)]: Done  16 tasks      | elapsed:   10.9s\n",
      "[Parallel(n_jobs=8)]: Done  25 tasks      | elapsed:   16.2s\n",
      "[Parallel(n_jobs=8)]: Done  34 tasks      | elapsed:   20.3s\n",
      "[Parallel(n_jobs=8)]: Done  45 tasks      | elapsed:   27.4s\n",
      "[Parallel(n_jobs=8)]: Done  56 tasks      | elapsed:   33.3s\n",
      "[Parallel(n_jobs=8)]: Done  69 tasks      | elapsed:   40.8s\n",
      "[Parallel(n_jobs=8)]: Done  82 tasks      | elapsed:   47.2s\n",
      "[Parallel(n_jobs=8)]: Done  97 tasks      | elapsed:   55.3s\n",
      "[Parallel(n_jobs=8)]: Done 112 tasks      | elapsed:  1.1min\n",
      "[Parallel(n_jobs=8)]: Done 129 tasks      | elapsed:  1.2min\n",
      "[Parallel(n_jobs=8)]: Done 146 tasks      | elapsed:  1.4min\n",
      "[Parallel(n_jobs=8)]: Done 165 tasks      | elapsed:  1.6min\n",
      "[Parallel(n_jobs=8)]: Done 184 tasks      | elapsed:  1.8min\n",
      "[Parallel(n_jobs=8)]: Done 205 tasks      | elapsed:  2.0min\n",
      "[Parallel(n_jobs=8)]: Done 226 tasks      | elapsed:  2.2min\n",
      "[Parallel(n_jobs=8)]: Done 249 tasks      | elapsed:  2.4min\n",
      "[Parallel(n_jobs=8)]: Done 272 tasks      | elapsed:  2.6min\n",
      "[Parallel(n_jobs=8)]: Done 297 tasks      | elapsed:  2.8min\n",
      "[Parallel(n_jobs=8)]: Done 315 out of 315 | elapsed:  3.0min finished\n"
     ]
    },
    {
     "name": "stdout",
     "output_type": "stream",
     "text": [
      "===== Batch 52/75 DOS055_PC3_24H =====\n",
      "Number of signatures: 314\n",
      "Number of pert samples: 631\n",
      "(631, 978)\n"
     ]
    },
    {
     "name": "stderr",
     "output_type": "stream",
     "text": [
      "[Parallel(n_jobs=8)]: Using backend MultiprocessingBackend with 8 concurrent workers.\n",
      "[Parallel(n_jobs=8)]: Done   2 tasks      | elapsed:    3.9s\n",
      "[Parallel(n_jobs=8)]: Done   9 tasks      | elapsed:    6.3s\n",
      "[Parallel(n_jobs=8)]: Done  16 tasks      | elapsed:    9.5s\n",
      "[Parallel(n_jobs=8)]: Done  25 tasks      | elapsed:   15.0s\n",
      "[Parallel(n_jobs=8)]: Done  34 tasks      | elapsed:   21.1s\n",
      "[Parallel(n_jobs=8)]: Done  45 tasks      | elapsed:   26.7s\n",
      "[Parallel(n_jobs=8)]: Done  56 tasks      | elapsed:   32.4s\n",
      "[Parallel(n_jobs=8)]: Done  69 tasks      | elapsed:   40.7s\n",
      "[Parallel(n_jobs=8)]: Done  82 tasks      | elapsed:   47.9s\n",
      "[Parallel(n_jobs=8)]: Done  97 tasks      | elapsed:   55.7s\n",
      "[Parallel(n_jobs=8)]: Done 112 tasks      | elapsed:  1.1min\n",
      "[Parallel(n_jobs=8)]: Done 129 tasks      | elapsed:  1.2min\n",
      "[Parallel(n_jobs=8)]: Done 146 tasks      | elapsed:  1.4min\n",
      "[Parallel(n_jobs=8)]: Done 165 tasks      | elapsed:  1.6min\n",
      "[Parallel(n_jobs=8)]: Done 184 tasks      | elapsed:  1.8min\n",
      "[Parallel(n_jobs=8)]: Done 205 tasks      | elapsed:  2.0min\n",
      "[Parallel(n_jobs=8)]: Done 226 tasks      | elapsed:  2.2min\n",
      "[Parallel(n_jobs=8)]: Done 249 tasks      | elapsed:  2.4min\n",
      "[Parallel(n_jobs=8)]: Done 272 tasks      | elapsed:  2.6min\n",
      "[Parallel(n_jobs=8)]: Done 297 tasks      | elapsed:  2.8min\n",
      "[Parallel(n_jobs=8)]: Done 314 out of 314 | elapsed:  3.0min finished\n"
     ]
    },
    {
     "name": "stdout",
     "output_type": "stream",
     "text": [
      "===== Batch 53/75 DOS056_PC3_24H =====\n",
      "Number of signatures: 317\n",
      "Number of pert samples: 950\n",
      "(950, 978)\n"
     ]
    },
    {
     "name": "stderr",
     "output_type": "stream",
     "text": [
      "[Parallel(n_jobs=8)]: Using backend MultiprocessingBackend with 8 concurrent workers.\n",
      "[Parallel(n_jobs=8)]: Done   2 tasks      | elapsed:    8.1s\n",
      "[Parallel(n_jobs=8)]: Done   9 tasks      | elapsed:   16.4s\n",
      "[Parallel(n_jobs=8)]: Done  16 tasks      | elapsed:   20.4s\n",
      "[Parallel(n_jobs=8)]: Done  25 tasks      | elapsed:   34.2s\n",
      "[Parallel(n_jobs=8)]: Done  34 tasks      | elapsed:   44.7s\n",
      "[Parallel(n_jobs=8)]: Done  45 tasks      | elapsed:   57.4s\n",
      "[Parallel(n_jobs=8)]: Done  56 tasks      | elapsed:  1.2min\n",
      "[Parallel(n_jobs=8)]: Done  69 tasks      | elapsed:  1.4min\n",
      "[Parallel(n_jobs=8)]: Done  82 tasks      | elapsed:  1.7min\n",
      "[Parallel(n_jobs=8)]: Done  97 tasks      | elapsed:  2.0min\n",
      "[Parallel(n_jobs=8)]: Done 112 tasks      | elapsed:  2.4min\n",
      "[Parallel(n_jobs=8)]: Done 129 tasks      | elapsed:  2.7min\n",
      "[Parallel(n_jobs=8)]: Done 146 tasks      | elapsed:  3.0min\n",
      "[Parallel(n_jobs=8)]: Done 165 tasks      | elapsed:  3.4min\n",
      "[Parallel(n_jobs=8)]: Done 184 tasks      | elapsed:  3.8min\n",
      "[Parallel(n_jobs=8)]: Done 205 tasks      | elapsed:  4.2min\n",
      "[Parallel(n_jobs=8)]: Done 226 tasks      | elapsed:  4.7min\n",
      "[Parallel(n_jobs=8)]: Done 249 tasks      | elapsed:  5.1min\n",
      "[Parallel(n_jobs=8)]: Done 272 tasks      | elapsed:  5.5min\n",
      "[Parallel(n_jobs=8)]: Done 297 tasks      | elapsed:  6.1min\n",
      "[Parallel(n_jobs=8)]: Done 317 out of 317 | elapsed:  6.4min finished\n"
     ]
    },
    {
     "name": "stdout",
     "output_type": "stream",
     "text": [
      "===== Batch 54/75 DOS057_PC3_24H =====\n",
      "Number of signatures: 303\n",
      "Number of pert samples: 621\n",
      "(621, 978)\n"
     ]
    },
    {
     "name": "stderr",
     "output_type": "stream",
     "text": [
      "[Parallel(n_jobs=8)]: Using backend MultiprocessingBackend with 8 concurrent workers.\n",
      "[Parallel(n_jobs=8)]: Done   2 tasks      | elapsed:    3.0s\n",
      "[Parallel(n_jobs=8)]: Done   9 tasks      | elapsed:    7.3s\n",
      "[Parallel(n_jobs=8)]: Done  16 tasks      | elapsed:   10.8s\n",
      "[Parallel(n_jobs=8)]: Done  25 tasks      | elapsed:   16.7s\n",
      "[Parallel(n_jobs=8)]: Done  34 tasks      | elapsed:   21.5s\n",
      "[Parallel(n_jobs=8)]: Done  45 tasks      | elapsed:   27.4s\n",
      "[Parallel(n_jobs=8)]: Done  56 tasks      | elapsed:   32.9s\n",
      "[Parallel(n_jobs=8)]: Done  69 tasks      | elapsed:   41.5s\n",
      "[Parallel(n_jobs=8)]: Done  82 tasks      | elapsed:   48.2s\n",
      "[Parallel(n_jobs=8)]: Done  97 tasks      | elapsed:   56.7s\n",
      "[Parallel(n_jobs=8)]: Done 112 tasks      | elapsed:  1.1min\n",
      "[Parallel(n_jobs=8)]: Done 129 tasks      | elapsed:  1.2min\n",
      "[Parallel(n_jobs=8)]: Done 146 tasks      | elapsed:  1.4min\n",
      "[Parallel(n_jobs=8)]: Done 165 tasks      | elapsed:  1.6min\n",
      "[Parallel(n_jobs=8)]: Done 184 tasks      | elapsed:  1.8min\n",
      "[Parallel(n_jobs=8)]: Done 205 tasks      | elapsed:  2.0min\n",
      "[Parallel(n_jobs=8)]: Done 226 tasks      | elapsed:  2.2min\n",
      "[Parallel(n_jobs=8)]: Done 249 tasks      | elapsed:  2.4min\n",
      "[Parallel(n_jobs=8)]: Done 272 tasks      | elapsed:  2.6min\n",
      "[Parallel(n_jobs=8)]: Done 303 out of 303 | elapsed:  2.9min finished\n"
     ]
    },
    {
     "name": "stdout",
     "output_type": "stream",
     "text": [
      "===== Batch 55/75 DOS058_PC3_24H =====\n",
      "Number of signatures: 308\n",
      "Number of pert samples: 625\n",
      "(625, 978)\n"
     ]
    },
    {
     "name": "stderr",
     "output_type": "stream",
     "text": [
      "[Parallel(n_jobs=8)]: Using backend MultiprocessingBackend with 8 concurrent workers.\n",
      "[Parallel(n_jobs=8)]: Done   2 tasks      | elapsed:    3.9s\n",
      "[Parallel(n_jobs=8)]: Done   9 tasks      | elapsed:    7.7s\n",
      "[Parallel(n_jobs=8)]: Done  16 tasks      | elapsed:   10.4s\n",
      "[Parallel(n_jobs=8)]: Done  25 tasks      | elapsed:   15.1s\n",
      "[Parallel(n_jobs=8)]: Done  34 tasks      | elapsed:   20.4s\n",
      "[Parallel(n_jobs=8)]: Done  45 tasks      | elapsed:   27.0s\n",
      "[Parallel(n_jobs=8)]: Done  56 tasks      | elapsed:   33.1s\n",
      "[Parallel(n_jobs=8)]: Done  69 tasks      | elapsed:   41.5s\n",
      "[Parallel(n_jobs=8)]: Done  82 tasks      | elapsed:   48.0s\n",
      "[Parallel(n_jobs=8)]: Done  97 tasks      | elapsed:   56.4s\n",
      "[Parallel(n_jobs=8)]: Done 112 tasks      | elapsed:  1.1min\n",
      "[Parallel(n_jobs=8)]: Done 129 tasks      | elapsed:  1.3min\n",
      "[Parallel(n_jobs=8)]: Done 146 tasks      | elapsed:  1.4min\n",
      "[Parallel(n_jobs=8)]: Done 165 tasks      | elapsed:  1.6min\n",
      "[Parallel(n_jobs=8)]: Done 184 tasks      | elapsed:  1.8min\n",
      "[Parallel(n_jobs=8)]: Done 205 tasks      | elapsed:  2.0min\n",
      "[Parallel(n_jobs=8)]: Done 226 tasks      | elapsed:  2.2min\n",
      "[Parallel(n_jobs=8)]: Done 249 tasks      | elapsed:  2.4min\n",
      "[Parallel(n_jobs=8)]: Done 272 tasks      | elapsed:  2.6min\n",
      "[Parallel(n_jobs=8)]: Done 308 out of 308 | elapsed:  2.9min finished\n"
     ]
    },
    {
     "name": "stdout",
     "output_type": "stream",
     "text": [
      "===== Batch 56/75 DOSBIO001_PC3_24H =====\n",
      "Number of signatures: 346\n",
      "Number of pert samples: 1037\n",
      "(1037, 978)\n"
     ]
    },
    {
     "name": "stderr",
     "output_type": "stream",
     "text": [
      "[Parallel(n_jobs=8)]: Using backend MultiprocessingBackend with 8 concurrent workers.\n",
      "[Parallel(n_jobs=8)]: Done   2 tasks      | elapsed:    9.0s\n",
      "[Parallel(n_jobs=8)]: Done   9 tasks      | elapsed:   18.5s\n",
      "[Parallel(n_jobs=8)]: Done  16 tasks      | elapsed:   23.5s\n",
      "[Parallel(n_jobs=8)]: Done  25 tasks      | elapsed:   38.8s\n",
      "[Parallel(n_jobs=8)]: Done  34 tasks      | elapsed:   49.1s\n",
      "[Parallel(n_jobs=8)]: Done  45 tasks      | elapsed:  1.1min\n",
      "[Parallel(n_jobs=8)]: Done  56 tasks      | elapsed:  1.3min\n",
      "[Parallel(n_jobs=8)]: Done  69 tasks      | elapsed:  1.6min\n",
      "[Parallel(n_jobs=8)]: Done  82 tasks      | elapsed:  1.9min\n",
      "[Parallel(n_jobs=8)]: Done  97 tasks      | elapsed:  2.2min\n",
      "[Parallel(n_jobs=8)]: Done 112 tasks      | elapsed:  2.6min\n",
      "[Parallel(n_jobs=8)]: Done 129 tasks      | elapsed:  3.0min\n",
      "[Parallel(n_jobs=8)]: Done 146 tasks      | elapsed:  3.3min\n",
      "[Parallel(n_jobs=8)]: Done 165 tasks      | elapsed:  3.7min\n",
      "[Parallel(n_jobs=8)]: Done 184 tasks      | elapsed:  4.1min\n",
      "[Parallel(n_jobs=8)]: Done 205 tasks      | elapsed:  4.6min\n",
      "[Parallel(n_jobs=8)]: Done 226 tasks      | elapsed:  5.1min\n",
      "[Parallel(n_jobs=8)]: Done 249 tasks      | elapsed:  5.6min\n",
      "[Parallel(n_jobs=8)]: Done 272 tasks      | elapsed:  6.1min\n",
      "[Parallel(n_jobs=8)]: Done 297 tasks      | elapsed:  6.7min\n",
      "[Parallel(n_jobs=8)]: Done 322 tasks      | elapsed:  7.2min\n",
      "[Parallel(n_jobs=8)]: Done 346 out of 346 | elapsed:  7.7min finished\n"
     ]
    },
    {
     "name": "stdout",
     "output_type": "stream",
     "text": [
      "===== Batch 57/75 DOSBIO002_PC3_24H =====\n",
      "Number of signatures: 319\n",
      "Number of pert samples: 950\n",
      "(950, 978)\n"
     ]
    },
    {
     "name": "stderr",
     "output_type": "stream",
     "text": [
      "[Parallel(n_jobs=8)]: Using backend MultiprocessingBackend with 8 concurrent workers.\n",
      "[Parallel(n_jobs=8)]: Done   2 tasks      | elapsed:    8.5s\n",
      "[Parallel(n_jobs=8)]: Done   9 tasks      | elapsed:   17.4s\n",
      "[Parallel(n_jobs=8)]: Done  16 tasks      | elapsed:   22.5s\n",
      "[Parallel(n_jobs=8)]: Done  25 tasks      | elapsed:   35.4s\n",
      "[Parallel(n_jobs=8)]: Done  34 tasks      | elapsed:   46.2s\n",
      "[Parallel(n_jobs=8)]: Done  45 tasks      | elapsed:   58.8s\n",
      "[Parallel(n_jobs=8)]: Done  56 tasks      | elapsed:  1.2min\n",
      "[Parallel(n_jobs=8)]: Done  69 tasks      | elapsed:  1.5min\n",
      "[Parallel(n_jobs=8)]: Done  82 tasks      | elapsed:  1.7min\n",
      "[Parallel(n_jobs=8)]: Done  97 tasks      | elapsed:  2.0min\n",
      "[Parallel(n_jobs=8)]: Done 112 tasks      | elapsed:  2.3min\n",
      "[Parallel(n_jobs=8)]: Done 129 tasks      | elapsed:  2.7min\n",
      "[Parallel(n_jobs=8)]: Done 146 tasks      | elapsed:  3.0min\n",
      "[Parallel(n_jobs=8)]: Done 165 tasks      | elapsed:  3.4min\n",
      "[Parallel(n_jobs=8)]: Done 184 tasks      | elapsed:  3.8min\n",
      "[Parallel(n_jobs=8)]: Done 205 tasks      | elapsed:  4.2min\n",
      "[Parallel(n_jobs=8)]: Done 226 tasks      | elapsed:  4.7min\n",
      "[Parallel(n_jobs=8)]: Done 249 tasks      | elapsed:  5.2min\n",
      "[Parallel(n_jobs=8)]: Done 272 tasks      | elapsed:  5.6min\n",
      "[Parallel(n_jobs=8)]: Done 297 tasks      | elapsed:  6.1min\n",
      "[Parallel(n_jobs=8)]: Done 319 out of 319 | elapsed:  6.5min finished\n"
     ]
    },
    {
     "name": "stdout",
     "output_type": "stream",
     "text": [
      "===== Batch 58/75 ERG012_PC3_24H =====\n",
      "Number of signatures: 317\n",
      "Number of pert samples: 938\n",
      "(938, 978)\n"
     ]
    },
    {
     "name": "stderr",
     "output_type": "stream",
     "text": [
      "[Parallel(n_jobs=8)]: Using backend MultiprocessingBackend with 8 concurrent workers.\n",
      "[Parallel(n_jobs=8)]: Done   2 tasks      | elapsed:    8.4s\n",
      "[Parallel(n_jobs=8)]: Done   9 tasks      | elapsed:   16.8s\n",
      "[Parallel(n_jobs=8)]: Done  16 tasks      | elapsed:   22.4s\n",
      "[Parallel(n_jobs=8)]: Done  25 tasks      | elapsed:   34.9s\n",
      "[Parallel(n_jobs=8)]: Done  34 tasks      | elapsed:   44.1s\n",
      "[Parallel(n_jobs=8)]: Done  45 tasks      | elapsed:   58.1s\n",
      "[Parallel(n_jobs=8)]: Done  56 tasks      | elapsed:  1.2min\n",
      "[Parallel(n_jobs=8)]: Done  69 tasks      | elapsed:  1.5min\n",
      "[Parallel(n_jobs=8)]: Done  82 tasks      | elapsed:  1.7min\n",
      "[Parallel(n_jobs=8)]: Done  97 tasks      | elapsed:  2.0min\n",
      "[Parallel(n_jobs=8)]: Done 112 tasks      | elapsed:  2.3min\n",
      "[Parallel(n_jobs=8)]: Done 129 tasks      | elapsed:  2.6min\n",
      "[Parallel(n_jobs=8)]: Done 146 tasks      | elapsed:  3.0min\n",
      "[Parallel(n_jobs=8)]: Done 165 tasks      | elapsed:  3.3min\n",
      "[Parallel(n_jobs=8)]: Done 184 tasks      | elapsed:  3.7min\n",
      "[Parallel(n_jobs=8)]: Done 205 tasks      | elapsed:  4.2min\n",
      "[Parallel(n_jobs=8)]: Done 226 tasks      | elapsed:  4.6min\n",
      "[Parallel(n_jobs=8)]: Done 249 tasks      | elapsed:  5.0min\n",
      "[Parallel(n_jobs=8)]: Done 272 tasks      | elapsed:  5.5min\n",
      "[Parallel(n_jobs=8)]: Done 297 tasks      | elapsed:  6.0min\n",
      "[Parallel(n_jobs=8)]: Done 317 out of 317 | elapsed:  6.3min finished\n"
     ]
    },
    {
     "name": "stdout",
     "output_type": "stream",
     "text": [
      "===== Batch 59/75 ERG012_PC3_6H =====\n",
      "Number of signatures: 320\n",
      "Number of pert samples: 1261\n",
      "(1261, 978)\n"
     ]
    },
    {
     "name": "stderr",
     "output_type": "stream",
     "text": [
      "[Parallel(n_jobs=8)]: Using backend MultiprocessingBackend with 8 concurrent workers.\n",
      "[Parallel(n_jobs=8)]: Done   2 tasks      | elapsed:   11.2s\n",
      "[Parallel(n_jobs=8)]: Done   9 tasks      | elapsed:   22.4s\n",
      "[Parallel(n_jobs=8)]: Done  16 tasks      | elapsed:   28.3s\n",
      "[Parallel(n_jobs=8)]: Done  25 tasks      | elapsed:   45.8s\n",
      "[Parallel(n_jobs=8)]: Done  34 tasks      | elapsed:   58.8s\n",
      "[Parallel(n_jobs=8)]: Done  45 tasks      | elapsed:  1.2min\n",
      "[Parallel(n_jobs=8)]: Done  56 tasks      | elapsed:  1.5min\n",
      "[Parallel(n_jobs=8)]: Done  69 tasks      | elapsed:  1.8min\n",
      "[Parallel(n_jobs=8)]: Done  82 tasks      | elapsed:  2.2min\n",
      "[Parallel(n_jobs=8)]: Done  97 tasks      | elapsed:  2.6min\n",
      "[Parallel(n_jobs=8)]: Done 112 tasks      | elapsed:  3.0min\n",
      "[Parallel(n_jobs=8)]: Done 129 tasks      | elapsed:  3.4min\n",
      "[Parallel(n_jobs=8)]: Done 146 tasks      | elapsed:  3.8min\n",
      "[Parallel(n_jobs=8)]: Done 165 tasks      | elapsed:  4.2min\n",
      "[Parallel(n_jobs=8)]: Done 184 tasks      | elapsed:  4.7min\n",
      "[Parallel(n_jobs=8)]: Done 205 tasks      | elapsed:  5.3min\n",
      "[Parallel(n_jobs=8)]: Done 226 tasks      | elapsed:  5.8min\n",
      "[Parallel(n_jobs=8)]: Done 249 tasks      | elapsed:  6.4min\n",
      "[Parallel(n_jobs=8)]: Done 272 tasks      | elapsed:  7.0min\n",
      "[Parallel(n_jobs=8)]: Done 297 tasks      | elapsed:  7.6min\n",
      "[Parallel(n_jobs=8)]: Done 320 out of 320 | elapsed:  8.1min finished\n"
     ]
    },
    {
     "name": "stdout",
     "output_type": "stream",
     "text": [
      "===== Batch 60/75 ERG014_PC3_24H =====\n",
      "Number of signatures: 342\n",
      "Number of pert samples: 1025\n",
      "(1025, 978)\n"
     ]
    },
    {
     "name": "stderr",
     "output_type": "stream",
     "text": [
      "[Parallel(n_jobs=8)]: Using backend MultiprocessingBackend with 8 concurrent workers.\n",
      "[Parallel(n_jobs=8)]: Done   2 tasks      | elapsed:    8.7s\n",
      "[Parallel(n_jobs=8)]: Done   9 tasks      | elapsed:   17.9s\n",
      "[Parallel(n_jobs=8)]: Done  16 tasks      | elapsed:   25.1s\n",
      "[Parallel(n_jobs=8)]: Done  25 tasks      | elapsed:   36.6s\n",
      "[Parallel(n_jobs=8)]: Done  34 tasks      | elapsed:   46.5s\n",
      "[Parallel(n_jobs=8)]: Done  45 tasks      | elapsed:  1.0min\n",
      "[Parallel(n_jobs=8)]: Done  56 tasks      | elapsed:  1.3min\n",
      "[Parallel(n_jobs=8)]: Done  69 tasks      | elapsed:  1.6min\n",
      "[Parallel(n_jobs=8)]: Done  82 tasks      | elapsed:  1.8min\n",
      "[Parallel(n_jobs=8)]: Done  97 tasks      | elapsed:  2.1min\n",
      "[Parallel(n_jobs=8)]: Done 112 tasks      | elapsed:  2.5min\n",
      "[Parallel(n_jobs=8)]: Done 129 tasks      | elapsed:  2.8min\n",
      "[Parallel(n_jobs=8)]: Done 146 tasks      | elapsed:  3.2min\n",
      "[Parallel(n_jobs=8)]: Done 165 tasks      | elapsed:  3.6min\n",
      "[Parallel(n_jobs=8)]: Done 184 tasks      | elapsed:  4.0min\n",
      "[Parallel(n_jobs=8)]: Done 205 tasks      | elapsed:  4.4min\n",
      "[Parallel(n_jobs=8)]: Done 226 tasks      | elapsed:  4.9min\n",
      "[Parallel(n_jobs=8)]: Done 249 tasks      | elapsed:  5.4min\n",
      "[Parallel(n_jobs=8)]: Done 272 tasks      | elapsed:  5.9min\n",
      "[Parallel(n_jobs=8)]: Done 297 tasks      | elapsed:  6.5min\n",
      "[Parallel(n_jobs=8)]: Done 322 tasks      | elapsed:  7.0min\n",
      "[Parallel(n_jobs=8)]: Done 342 out of 342 | elapsed:  7.3min finished\n"
     ]
    },
    {
     "name": "stdout",
     "output_type": "stream",
     "text": [
      "===== Batch 61/75 ERG014_PC3_6H =====\n",
      "Number of signatures: 320\n",
      "Number of pert samples: 666\n",
      "(666, 978)\n"
     ]
    },
    {
     "name": "stderr",
     "output_type": "stream",
     "text": [
      "[Parallel(n_jobs=8)]: Using backend MultiprocessingBackend with 8 concurrent workers.\n",
      "[Parallel(n_jobs=8)]: Done   2 tasks      | elapsed:    4.3s\n",
      "[Parallel(n_jobs=8)]: Done   9 tasks      | elapsed:    8.4s\n",
      "[Parallel(n_jobs=8)]: Done  16 tasks      | elapsed:   10.6s\n",
      "[Parallel(n_jobs=8)]: Done  25 tasks      | elapsed:   17.4s\n",
      "[Parallel(n_jobs=8)]: Done  34 tasks      | elapsed:   22.3s\n",
      "[Parallel(n_jobs=8)]: Done  45 tasks      | elapsed:   29.1s\n",
      "[Parallel(n_jobs=8)]: Done  56 tasks      | elapsed:   34.8s\n",
      "[Parallel(n_jobs=8)]: Done  69 tasks      | elapsed:   44.7s\n",
      "[Parallel(n_jobs=8)]: Done  82 tasks      | elapsed:   51.5s\n",
      "[Parallel(n_jobs=8)]: Done  97 tasks      | elapsed:  1.0min\n",
      "[Parallel(n_jobs=8)]: Done 112 tasks      | elapsed:  1.2min\n",
      "[Parallel(n_jobs=8)]: Done 129 tasks      | elapsed:  1.4min\n",
      "[Parallel(n_jobs=8)]: Done 146 tasks      | elapsed:  1.6min\n",
      "[Parallel(n_jobs=8)]: Done 165 tasks      | elapsed:  1.8min\n",
      "[Parallel(n_jobs=8)]: Done 184 tasks      | elapsed:  1.9min\n",
      "[Parallel(n_jobs=8)]: Done 205 tasks      | elapsed:  2.2min\n",
      "[Parallel(n_jobs=8)]: Done 226 tasks      | elapsed:  2.4min\n",
      "[Parallel(n_jobs=8)]: Done 249 tasks      | elapsed:  2.6min\n",
      "[Parallel(n_jobs=8)]: Done 272 tasks      | elapsed:  2.8min\n",
      "[Parallel(n_jobs=8)]: Done 297 tasks      | elapsed:  3.1min\n",
      "[Parallel(n_jobs=8)]: Done 320 out of 320 | elapsed:  3.3min finished\n"
     ]
    },
    {
     "name": "stdout",
     "output_type": "stream",
     "text": [
      "===== Batch 62/75 ERG015_PC3_24H =====\n",
      "Number of signatures: 345\n",
      "Number of pert samples: 1027\n",
      "(1027, 978)\n"
     ]
    },
    {
     "name": "stderr",
     "output_type": "stream",
     "text": [
      "[Parallel(n_jobs=8)]: Using backend MultiprocessingBackend with 8 concurrent workers.\n",
      "[Parallel(n_jobs=8)]: Done   2 tasks      | elapsed:    8.8s\n",
      "[Parallel(n_jobs=8)]: Done   9 tasks      | elapsed:   17.6s\n",
      "[Parallel(n_jobs=8)]: Done  16 tasks      | elapsed:   21.7s\n",
      "[Parallel(n_jobs=8)]: Done  25 tasks      | elapsed:   36.8s\n",
      "[Parallel(n_jobs=8)]: Done  34 tasks      | elapsed:   46.8s\n",
      "[Parallel(n_jobs=8)]: Done  45 tasks      | elapsed:  1.0min\n",
      "[Parallel(n_jobs=8)]: Done  56 tasks      | elapsed:  1.2min\n",
      "[Parallel(n_jobs=8)]: Done  69 tasks      | elapsed:  1.6min\n",
      "[Parallel(n_jobs=8)]: Done  82 tasks      | elapsed:  1.9min\n",
      "[Parallel(n_jobs=8)]: Done  97 tasks      | elapsed:  2.2min\n",
      "[Parallel(n_jobs=8)]: Done 112 tasks      | elapsed:  2.5min\n",
      "[Parallel(n_jobs=8)]: Done 129 tasks      | elapsed:  2.9min\n",
      "[Parallel(n_jobs=8)]: Done 146 tasks      | elapsed:  3.3min\n",
      "[Parallel(n_jobs=8)]: Done 165 tasks      | elapsed:  3.7min\n",
      "[Parallel(n_jobs=8)]: Done 184 tasks      | elapsed:  4.1min\n",
      "[Parallel(n_jobs=8)]: Done 205 tasks      | elapsed:  4.6min\n",
      "[Parallel(n_jobs=8)]: Done 226 tasks      | elapsed:  5.1min\n",
      "[Parallel(n_jobs=8)]: Done 249 tasks      | elapsed:  5.5min\n",
      "[Parallel(n_jobs=8)]: Done 272 tasks      | elapsed:  6.0min\n",
      "[Parallel(n_jobs=8)]: Done 297 tasks      | elapsed:  6.6min\n",
      "[Parallel(n_jobs=8)]: Done 322 tasks      | elapsed:  7.1min\n",
      "[Parallel(n_jobs=8)]: Done 345 out of 345 | elapsed:  7.5min finished\n"
     ]
    },
    {
     "name": "stdout",
     "output_type": "stream",
     "text": [
      "===== Batch 63/75 ERG015_PC3_6H =====\n",
      "Number of signatures: 346\n",
      "Number of pert samples: 1030\n",
      "(1030, 978)\n"
     ]
    },
    {
     "name": "stderr",
     "output_type": "stream",
     "text": [
      "[Parallel(n_jobs=8)]: Using backend MultiprocessingBackend with 8 concurrent workers.\n",
      "[Parallel(n_jobs=8)]: Done   2 tasks      | elapsed:    8.8s\n",
      "[Parallel(n_jobs=8)]: Done   9 tasks      | elapsed:   18.0s\n",
      "[Parallel(n_jobs=8)]: Done  16 tasks      | elapsed:   21.1s\n",
      "[Parallel(n_jobs=8)]: Done  25 tasks      | elapsed:   38.3s\n",
      "[Parallel(n_jobs=8)]: Done  34 tasks      | elapsed:   48.8s\n",
      "[Parallel(n_jobs=8)]: Done  45 tasks      | elapsed:  1.0min\n",
      "[Parallel(n_jobs=8)]: Done  56 tasks      | elapsed:  1.3min\n",
      "[Parallel(n_jobs=8)]: Done  69 tasks      | elapsed:  1.6min\n",
      "[Parallel(n_jobs=8)]: Done  82 tasks      | elapsed:  1.9min\n",
      "[Parallel(n_jobs=8)]: Done  97 tasks      | elapsed:  2.2min\n",
      "[Parallel(n_jobs=8)]: Done 112 tasks      | elapsed:  2.5min\n",
      "[Parallel(n_jobs=8)]: Done 129 tasks      | elapsed:  2.8min\n",
      "[Parallel(n_jobs=8)]: Done 146 tasks      | elapsed:  3.2min\n",
      "[Parallel(n_jobs=8)]: Done 165 tasks      | elapsed:  3.7min\n",
      "[Parallel(n_jobs=8)]: Done 184 tasks      | elapsed:  4.1min\n",
      "[Parallel(n_jobs=8)]: Done 205 tasks      | elapsed:  4.5min\n",
      "[Parallel(n_jobs=8)]: Done 226 tasks      | elapsed:  4.9min\n",
      "[Parallel(n_jobs=8)]: Done 249 tasks      | elapsed:  5.4min\n",
      "[Parallel(n_jobs=8)]: Done 272 tasks      | elapsed:  5.9min\n",
      "[Parallel(n_jobs=8)]: Done 297 tasks      | elapsed:  6.5min\n",
      "[Parallel(n_jobs=8)]: Done 322 tasks      | elapsed:  7.0min\n",
      "[Parallel(n_jobs=8)]: Done 346 out of 346 | elapsed:  7.4min finished\n"
     ]
    },
    {
     "name": "stdout",
     "output_type": "stream",
     "text": [
      "===== Batch 64/75 HDAC001_PC3_24H =====\n",
      "Number of signatures: 84\n",
      "Number of pert samples: 964\n",
      "(964, 978)\n"
     ]
    },
    {
     "name": "stderr",
     "output_type": "stream",
     "text": [
      "[Parallel(n_jobs=8)]: Using backend MultiprocessingBackend with 8 concurrent workers.\n",
      "[Parallel(n_jobs=8)]: Done   2 tasks      | elapsed:    8.3s\n",
      "[Parallel(n_jobs=8)]: Done   9 tasks      | elapsed:   17.0s\n",
      "[Parallel(n_jobs=8)]: Done  16 tasks      | elapsed:   20.9s\n",
      "[Parallel(n_jobs=8)]: Done  25 tasks      | elapsed:   34.9s\n",
      "[Parallel(n_jobs=8)]: Done  34 tasks      | elapsed:   45.7s\n",
      "[Parallel(n_jobs=8)]: Done  45 tasks      | elapsed:   58.4s\n",
      "[Parallel(n_jobs=8)]: Done  56 tasks      | elapsed:  1.2min\n",
      "[Parallel(n_jobs=8)]: Done  69 tasks      | elapsed:  1.5min\n",
      "[Parallel(n_jobs=8)]: Done  78 out of  84 | elapsed:  1.7min remaining:    7.6s\n",
      "[Parallel(n_jobs=8)]: Done  84 out of  84 | elapsed:  1.7min finished\n"
     ]
    },
    {
     "name": "stdout",
     "output_type": "stream",
     "text": [
      "===== Batch 65/75 HDAC001_PC3_6H =====\n",
      "Number of signatures: 84\n",
      "Number of pert samples: 967\n",
      "(967, 978)\n"
     ]
    },
    {
     "name": "stderr",
     "output_type": "stream",
     "text": [
      "[Parallel(n_jobs=8)]: Using backend MultiprocessingBackend with 8 concurrent workers.\n",
      "[Parallel(n_jobs=8)]: Done   2 tasks      | elapsed:    8.5s\n",
      "[Parallel(n_jobs=8)]: Done   9 tasks      | elapsed:   17.9s\n",
      "[Parallel(n_jobs=8)]: Done  16 tasks      | elapsed:   21.3s\n",
      "[Parallel(n_jobs=8)]: Done  25 tasks      | elapsed:   35.0s\n",
      "[Parallel(n_jobs=8)]: Done  34 tasks      | elapsed:   46.6s\n",
      "[Parallel(n_jobs=8)]: Done  45 tasks      | elapsed:  1.0min\n",
      "[Parallel(n_jobs=8)]: Done  56 tasks      | elapsed:  1.2min\n",
      "[Parallel(n_jobs=8)]: Done  69 tasks      | elapsed:  1.5min\n",
      "[Parallel(n_jobs=8)]: Done  78 out of  84 | elapsed:  1.7min remaining:    7.8s\n",
      "[Parallel(n_jobs=8)]: Done  84 out of  84 | elapsed:  1.7min finished\n"
     ]
    },
    {
     "name": "stdout",
     "output_type": "stream",
     "text": [
      "===== Batch 66/75 HDAC002_PC3_24H =====\n",
      "Number of signatures: 158\n",
      "Number of pert samples: 335\n",
      "(335, 978)\n"
     ]
    },
    {
     "name": "stderr",
     "output_type": "stream",
     "text": [
      "[Parallel(n_jobs=8)]: Using backend MultiprocessingBackend with 8 concurrent workers.\n",
      "[Parallel(n_jobs=8)]: Done   2 tasks      | elapsed:    1.5s\n",
      "[Parallel(n_jobs=8)]: Done   9 tasks      | elapsed:    2.9s\n",
      "[Parallel(n_jobs=8)]: Done  16 tasks      | elapsed:    3.6s\n",
      "[Parallel(n_jobs=8)]: Done  25 tasks      | elapsed:    6.1s\n",
      "[Parallel(n_jobs=8)]: Done  34 tasks      | elapsed:    8.0s\n",
      "[Parallel(n_jobs=8)]: Done  45 tasks      | elapsed:   10.9s\n",
      "[Parallel(n_jobs=8)]: Done  56 tasks      | elapsed:   13.3s\n",
      "[Parallel(n_jobs=8)]: Done  69 tasks      | elapsed:   16.6s\n",
      "[Parallel(n_jobs=8)]: Done  82 tasks      | elapsed:   19.8s\n",
      "[Parallel(n_jobs=8)]: Done  97 tasks      | elapsed:   23.4s\n",
      "[Parallel(n_jobs=8)]: Done 112 tasks      | elapsed:   26.9s\n",
      "[Parallel(n_jobs=8)]: Done 129 tasks      | elapsed:   30.6s\n",
      "[Parallel(n_jobs=8)]: Done 158 out of 158 | elapsed:   36.9s finished\n"
     ]
    },
    {
     "name": "stdout",
     "output_type": "stream",
     "text": [
      "===== Batch 67/75 HDAC002_PC3_6H =====\n",
      "Number of signatures: 175\n",
      "Number of pert samples: 994\n",
      "(994, 978)\n"
     ]
    },
    {
     "name": "stderr",
     "output_type": "stream",
     "text": [
      "[Parallel(n_jobs=8)]: Using backend MultiprocessingBackend with 8 concurrent workers.\n",
      "[Parallel(n_jobs=8)]: Done   2 tasks      | elapsed:    8.8s\n",
      "[Parallel(n_jobs=8)]: Done   9 tasks      | elapsed:   18.0s\n",
      "[Parallel(n_jobs=8)]: Done  16 tasks      | elapsed:   22.1s\n",
      "[Parallel(n_jobs=8)]: Done  25 tasks      | elapsed:   38.6s\n",
      "[Parallel(n_jobs=8)]: Done  34 tasks      | elapsed:   48.8s\n",
      "[Parallel(n_jobs=8)]: Done  45 tasks      | elapsed:  1.0min\n",
      "[Parallel(n_jobs=8)]: Done  56 tasks      | elapsed:  1.2min\n",
      "[Parallel(n_jobs=8)]: Done  69 tasks      | elapsed:  1.5min\n",
      "[Parallel(n_jobs=8)]: Done  82 tasks      | elapsed:  1.8min\n",
      "[Parallel(n_jobs=8)]: Done  97 tasks      | elapsed:  2.1min\n",
      "[Parallel(n_jobs=8)]: Done 112 tasks      | elapsed:  2.4min\n",
      "[Parallel(n_jobs=8)]: Done 129 tasks      | elapsed:  2.8min\n",
      "[Parallel(n_jobs=8)]: Done 146 tasks      | elapsed:  3.1min\n",
      "[Parallel(n_jobs=8)]: Done 175 out of 175 | elapsed:  3.7min finished\n"
     ]
    },
    {
     "name": "stdout",
     "output_type": "stream",
     "text": [
      "===== Batch 68/75 PCLB001_PC3_24H =====\n",
      "Number of signatures: 124\n",
      "Number of pert samples: 1379\n",
      "(1379, 978)\n"
     ]
    },
    {
     "name": "stderr",
     "output_type": "stream",
     "text": [
      "[Parallel(n_jobs=8)]: Using backend MultiprocessingBackend with 8 concurrent workers.\n",
      "[Parallel(n_jobs=8)]: Done   2 tasks      | elapsed:   11.3s\n",
      "[Parallel(n_jobs=8)]: Done   9 tasks      | elapsed:   23.4s\n",
      "[Parallel(n_jobs=8)]: Done  16 tasks      | elapsed:   29.3s\n",
      "[Parallel(n_jobs=8)]: Done  25 tasks      | elapsed:   49.5s\n",
      "[Parallel(n_jobs=8)]: Done  34 tasks      | elapsed:  1.1min\n",
      "[Parallel(n_jobs=8)]: Done  45 tasks      | elapsed:  1.4min\n",
      "[Parallel(n_jobs=8)]: Done  56 tasks      | elapsed:  1.7min\n",
      "[Parallel(n_jobs=8)]: Done  69 tasks      | elapsed:  2.0min\n",
      "[Parallel(n_jobs=8)]: Done  82 tasks      | elapsed:  2.4min\n",
      "[Parallel(n_jobs=8)]: Done  97 tasks      | elapsed:  2.8min\n",
      "[Parallel(n_jobs=8)]: Done 122 out of 124 | elapsed:  3.4min remaining:    3.3s\n",
      "[Parallel(n_jobs=8)]: Done 124 out of 124 | elapsed:  3.4min finished\n"
     ]
    },
    {
     "name": "stdout",
     "output_type": "stream",
     "text": [
      "===== Batch 69/75 PCLB001_PC3_6H =====\n",
      "Number of signatures: 215\n",
      "Number of pert samples: 1394\n",
      "(1394, 978)\n"
     ]
    },
    {
     "name": "stderr",
     "output_type": "stream",
     "text": [
      "[Parallel(n_jobs=8)]: Using backend MultiprocessingBackend with 8 concurrent workers.\n",
      "[Parallel(n_jobs=8)]: Done   2 tasks      | elapsed:   11.0s\n",
      "[Parallel(n_jobs=8)]: Done   9 tasks      | elapsed:   22.6s\n",
      "[Parallel(n_jobs=8)]: Done  16 tasks      | elapsed:   28.9s\n",
      "[Parallel(n_jobs=8)]: Done  25 tasks      | elapsed:   48.8s\n",
      "[Parallel(n_jobs=8)]: Done  34 tasks      | elapsed:  1.0min\n",
      "[Parallel(n_jobs=8)]: Done  45 tasks      | elapsed:  1.3min\n",
      "[Parallel(n_jobs=8)]: Done  56 tasks      | elapsed:  1.6min\n",
      "[Parallel(n_jobs=8)]: Done  69 tasks      | elapsed:  2.0min\n",
      "[Parallel(n_jobs=8)]: Done  82 tasks      | elapsed:  2.3min\n",
      "[Parallel(n_jobs=8)]: Done  97 tasks      | elapsed:  2.7min\n",
      "[Parallel(n_jobs=8)]: Done 112 tasks      | elapsed:  3.1min\n",
      "[Parallel(n_jobs=8)]: Done 129 tasks      | elapsed:  3.6min\n",
      "[Parallel(n_jobs=8)]: Done 146 tasks      | elapsed:  4.0min\n",
      "[Parallel(n_jobs=8)]: Done 165 tasks      | elapsed:  4.6min\n",
      "[Parallel(n_jobs=8)]: Done 184 tasks      | elapsed:  5.1min\n",
      "[Parallel(n_jobs=8)]: Done 215 out of 215 | elapsed:  5.8min finished\n"
     ]
    },
    {
     "name": "stdout",
     "output_type": "stream",
     "text": [
      "===== Batch 70/75 PCLB002_PC3_24H =====\n",
      "Number of signatures: 296\n",
      "Number of pert samples: 1100\n",
      "(1100, 978)\n"
     ]
    },
    {
     "name": "stderr",
     "output_type": "stream",
     "text": [
      "[Parallel(n_jobs=8)]: Using backend MultiprocessingBackend with 8 concurrent workers.\n",
      "[Parallel(n_jobs=8)]: Done   2 tasks      | elapsed:    9.4s\n",
      "[Parallel(n_jobs=8)]: Done   9 tasks      | elapsed:   19.5s\n",
      "[Parallel(n_jobs=8)]: Done  16 tasks      | elapsed:   23.8s\n",
      "[Parallel(n_jobs=8)]: Done  25 tasks      | elapsed:   40.7s\n",
      "[Parallel(n_jobs=8)]: Done  34 tasks      | elapsed:   52.5s\n",
      "[Parallel(n_jobs=8)]: Done  45 tasks      | elapsed:  1.1min\n",
      "[Parallel(n_jobs=8)]: Done  56 tasks      | elapsed:  1.3min\n",
      "[Parallel(n_jobs=8)]: Done  69 tasks      | elapsed:  1.7min\n",
      "[Parallel(n_jobs=8)]: Done  82 tasks      | elapsed:  2.0min\n",
      "[Parallel(n_jobs=8)]: Done  97 tasks      | elapsed:  2.2min\n",
      "[Parallel(n_jobs=8)]: Done 112 tasks      | elapsed:  2.6min\n",
      "[Parallel(n_jobs=8)]: Done 129 tasks      | elapsed:  3.0min\n",
      "[Parallel(n_jobs=8)]: Done 146 tasks      | elapsed:  3.5min\n",
      "[Parallel(n_jobs=8)]: Done 165 tasks      | elapsed:  3.8min\n",
      "[Parallel(n_jobs=8)]: Done 184 tasks      | elapsed:  4.3min\n",
      "[Parallel(n_jobs=8)]: Done 205 tasks      | elapsed:  4.8min\n",
      "[Parallel(n_jobs=8)]: Done 226 tasks      | elapsed:  5.2min\n",
      "[Parallel(n_jobs=8)]: Done 249 tasks      | elapsed:  5.8min\n",
      "[Parallel(n_jobs=8)]: Done 272 tasks      | elapsed:  6.3min\n",
      "[Parallel(n_jobs=8)]: Done 296 out of 296 | elapsed:  6.8min finished\n"
     ]
    },
    {
     "name": "stdout",
     "output_type": "stream",
     "text": [
      "===== Batch 71/75 PCLB003_PC3_24H =====\n",
      "Number of signatures: 360\n",
      "Number of pert samples: 1101\n",
      "(1101, 978)\n"
     ]
    },
    {
     "name": "stderr",
     "output_type": "stream",
     "text": [
      "[Parallel(n_jobs=8)]: Using backend MultiprocessingBackend with 8 concurrent workers.\n",
      "[Parallel(n_jobs=8)]: Done   2 tasks      | elapsed:    9.4s\n",
      "[Parallel(n_jobs=8)]: Done   9 tasks      | elapsed:   19.1s\n",
      "[Parallel(n_jobs=8)]: Done  16 tasks      | elapsed:   23.2s\n",
      "[Parallel(n_jobs=8)]: Done  25 tasks      | elapsed:   40.4s\n",
      "[Parallel(n_jobs=8)]: Done  34 tasks      | elapsed:   51.3s\n",
      "[Parallel(n_jobs=8)]: Done  45 tasks      | elapsed:  1.1min\n",
      "[Parallel(n_jobs=8)]: Done  56 tasks      | elapsed:  1.4min\n",
      "[Parallel(n_jobs=8)]: Done  69 tasks      | elapsed:  1.7min\n",
      "[Parallel(n_jobs=8)]: Done  82 tasks      | elapsed:  2.0min\n",
      "[Parallel(n_jobs=8)]: Done  97 tasks      | elapsed:  2.3min\n",
      "[Parallel(n_jobs=8)]: Done 112 tasks      | elapsed:  2.7min\n",
      "[Parallel(n_jobs=8)]: Done 129 tasks      | elapsed:  3.1min\n",
      "[Parallel(n_jobs=8)]: Done 146 tasks      | elapsed:  3.4min\n",
      "[Parallel(n_jobs=8)]: Done 165 tasks      | elapsed:  3.9min\n",
      "[Parallel(n_jobs=8)]: Done 184 tasks      | elapsed:  4.3min\n",
      "[Parallel(n_jobs=8)]: Done 205 tasks      | elapsed:  4.8min\n",
      "[Parallel(n_jobs=8)]: Done 226 tasks      | elapsed:  5.3min\n",
      "[Parallel(n_jobs=8)]: Done 249 tasks      | elapsed:  5.8min\n",
      "[Parallel(n_jobs=8)]: Done 272 tasks      | elapsed:  6.4min\n",
      "[Parallel(n_jobs=8)]: Done 297 tasks      | elapsed:  6.9min\n",
      "[Parallel(n_jobs=8)]: Done 322 tasks      | elapsed:  7.5min\n",
      "[Parallel(n_jobs=8)]: Done 360 out of 360 | elapsed:  8.3min finished\n"
     ]
    },
    {
     "name": "stdout",
     "output_type": "stream",
     "text": [
      "===== Batch 72/75 PRISM001_PC3_24H =====\n",
      "Number of signatures: 55\n",
      "Number of pert samples: 226\n",
      "(226, 978)\n"
     ]
    },
    {
     "name": "stderr",
     "output_type": "stream",
     "text": [
      "[Parallel(n_jobs=8)]: Using backend MultiprocessingBackend with 8 concurrent workers.\n",
      "[Parallel(n_jobs=8)]: Done   2 tasks      | elapsed:    0.8s\n",
      "[Parallel(n_jobs=8)]: Done   9 tasks      | elapsed:    1.3s\n",
      "[Parallel(n_jobs=8)]: Done  16 tasks      | elapsed:    2.6s\n",
      "[Parallel(n_jobs=8)]: Done  25 tasks      | elapsed:    3.9s\n",
      "[Parallel(n_jobs=8)]: Done  34 tasks      | elapsed:    5.0s\n",
      "[Parallel(n_jobs=8)]: Done  46 out of  55 | elapsed:    7.0s remaining:    1.4s\n",
      "[Parallel(n_jobs=8)]: Done  52 out of  55 | elapsed:    7.6s remaining:    0.4s\n",
      "[Parallel(n_jobs=8)]: Done  55 out of  55 | elapsed:    7.7s finished\n"
     ]
    },
    {
     "name": "stdout",
     "output_type": "stream",
     "text": [
      "===== Batch 73/75 PRISM001_PC3_6H =====\n",
      "Number of signatures: 55\n",
      "Number of pert samples: 226\n",
      "(226, 978)\n"
     ]
    },
    {
     "name": "stderr",
     "output_type": "stream",
     "text": [
      "[Parallel(n_jobs=8)]: Using backend MultiprocessingBackend with 8 concurrent workers.\n",
      "[Parallel(n_jobs=8)]: Done   2 tasks      | elapsed:    0.7s\n",
      "[Parallel(n_jobs=8)]: Done   9 tasks      | elapsed:    1.3s\n",
      "[Parallel(n_jobs=8)]: Done  16 tasks      | elapsed:    2.4s\n",
      "[Parallel(n_jobs=8)]: Done  25 tasks      | elapsed:    3.5s\n",
      "[Parallel(n_jobs=8)]: Done  34 tasks      | elapsed:    4.5s\n",
      "[Parallel(n_jobs=8)]: Done  46 out of  55 | elapsed:    6.3s remaining:    1.2s\n",
      "[Parallel(n_jobs=8)]: Done  52 out of  55 | elapsed:    6.8s remaining:    0.4s\n",
      "[Parallel(n_jobs=8)]: Done  55 out of  55 | elapsed:    6.9s finished\n"
     ]
    },
    {
     "name": "stdout",
     "output_type": "stream",
     "text": [
      "===== Batch 74/75 RAD001_PC3_6H =====\n",
      "Number of signatures: 245\n",
      "Number of pert samples: 500\n",
      "(500, 978)\n"
     ]
    },
    {
     "name": "stderr",
     "output_type": "stream",
     "text": [
      "[Parallel(n_jobs=8)]: Using backend MultiprocessingBackend with 8 concurrent workers.\n",
      "[Parallel(n_jobs=8)]: Done   2 tasks      | elapsed:    2.7s\n",
      "[Parallel(n_jobs=8)]: Done   9 tasks      | elapsed:    5.4s\n",
      "[Parallel(n_jobs=8)]: Done  16 tasks      | elapsed:    7.7s\n",
      "[Parallel(n_jobs=8)]: Done  25 tasks      | elapsed:   11.6s\n",
      "[Parallel(n_jobs=8)]: Done  34 tasks      | elapsed:   15.1s\n",
      "[Parallel(n_jobs=8)]: Done  45 tasks      | elapsed:   19.0s\n",
      "[Parallel(n_jobs=8)]: Done  56 tasks      | elapsed:   24.2s\n",
      "[Parallel(n_jobs=8)]: Done  69 tasks      | elapsed:   29.8s\n",
      "[Parallel(n_jobs=8)]: Done  82 tasks      | elapsed:   35.2s\n",
      "[Parallel(n_jobs=8)]: Done  97 tasks      | elapsed:   41.5s\n",
      "[Parallel(n_jobs=8)]: Done 112 tasks      | elapsed:   47.9s\n",
      "[Parallel(n_jobs=8)]: Done 129 tasks      | elapsed:   55.3s\n",
      "[Parallel(n_jobs=8)]: Done 146 tasks      | elapsed:  1.0min\n",
      "[Parallel(n_jobs=8)]: Done 165 tasks      | elapsed:  1.1min\n",
      "[Parallel(n_jobs=8)]: Done 184 tasks      | elapsed:  1.3min\n",
      "[Parallel(n_jobs=8)]: Done 205 tasks      | elapsed:  1.4min\n",
      "[Parallel(n_jobs=8)]: Done 226 tasks      | elapsed:  1.6min\n",
      "[Parallel(n_jobs=8)]: Done 245 out of 245 | elapsed:  1.7min finished\n"
     ]
    }
   ],
   "source": [
    "j = 0\n",
    "for c, batch in enumerate(all_batches):\n",
    "    sig_info_df_sub = sig_info_df.query('batch == \"%s\"' % batch)\n",
    "    \n",
    "    # Find all the treatment samples in this batch\n",
    "    inst_info_df_sub = inst_info_df.query('batch == \"%s\" & pert_type == \"trt_cp\"' % batch)\n",
    "    distil_ids_sub = inst_info_df_sub.index.tolist()\n",
    "    \n",
    "    print('===== Batch %d/%d %s =====' % (c, n_batches, batch))\n",
    "    print('Number of signatures: %d\\nNumber of pert samples: %d' % (sig_info_df_sub.shape[0], len(distil_ids_sub)))\n",
    "\n",
    "    # Slice the matrix\n",
    "    mat = gctx_utils.slice_matrix(gctx3, distil_ids_sub, LM_GENE_IDS)\n",
    "    print(mat.shape)\n",
    "    \n",
    "    # Mean center the probes by batch\n",
    "    mat_centered = gctx_utils.mean_center(mat, inst_info_df_sub['batch'])\n",
    "    \n",
    "    docs = Parallel(n_jobs=8, backend='multiprocessing', verbose=10)(\\\n",
    "                                  delayed(geode.compute_chdir_signature)(sig_id, row['distil_id'].split('|'), \n",
    "                                                                         distil_ids_sub, mat, mat_centered)\\\n",
    "                                  for sig_id, row in sig_info_df_sub.iterrows())\n",
    "    # Write the part of the level5 matrix into the gctx file\n",
    "    for sig_name, gctx5_mat in gctx5_mats.items():\n",
    "        submat = np.asarray([doc[sig_name] for doc in docs], dtype=np.float32, order='F').T\n",
    "        j1 = submat.shape[1]\n",
    "        gctx5_mat.write_direct(submat, dest_sel=np.s_[:, j:(j+j1)]) \n",
    "    \n",
    "    j += j1"
   ]
  },
  {
   "cell_type": "code",
   "execution_count": 17,
   "metadata": {
    "collapsed": true
   },
   "outputs": [],
   "source": [
    "for gctx5_file in gctx5_files.values():\n",
    "    gctx5_file.close()"
   ]
  },
  {
   "cell_type": "code",
   "execution_count": null,
   "metadata": {
    "collapsed": true
   },
   "outputs": [],
   "source": []
  }
 ],
 "metadata": {
  "kernelspec": {
   "display_name": "Python 3",
   "language": "python",
   "name": "python3"
  },
  "language_info": {
   "codemirror_mode": {
    "name": "ipython",
    "version": 3
   },
   "file_extension": ".py",
   "mimetype": "text/x-python",
   "name": "python",
   "nbconvert_exporter": "python",
   "pygments_lexer": "ipython3",
   "version": "3.6.6"
  }
 },
 "nbformat": 4,
 "nbformat_minor": 1
}
